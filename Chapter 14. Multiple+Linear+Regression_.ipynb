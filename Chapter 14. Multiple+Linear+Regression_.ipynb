{
 "cells": [
  {
   "cell_type": "markdown",
   "metadata": {},
   "source": [
    "# Chapter14. Multiple Linear Regression"
   ]
  },
  {
   "cell_type": "code",
   "execution_count": 115,
   "metadata": {},
   "outputs": [],
   "source": [
    "import numpy as np\n",
    "import pandas as pd\n",
    "import statsmodels.api as sm\n",
    "# 표본들이 dataframe 으로 구성될 수 있으면 statsmodels.formulas.api 를 이용하여 regression 할 수 있다.\n",
    "from statsmodels import regression\n",
    "import matplotlib.pyplot as plt"
   ]
  },
  {
   "cell_type": "markdown",
   "metadata": {},
   "source": [
    "Multiple linear regression 은 여러개의 독립변수로 일반화한 함수이다.\n",
    "종속변수 $Y$ 가 $X_1,\\ldots, X_k$ 의 선형 함수라고 가정함.\n",
    "\n",
    "$$ Y_i = \\beta_0 + \\beta_1 X_{1i} + \\ldots + \\beta_k X_{ki} + \\epsilon_i $$\n",
    "\n",
    "finance 에서는 위 공식을 다음과 같이 쓰기도 하는데 단지 변수명만 바뀌었을 뿐 model 은 동일하다.\n",
    "\n",
    "$$ Y_i = \\alpha + \\beta_1 X_{1i} + \\ldots + \\beta_k X_{ki} + \\epsilon_i $$\n",
    "\n",
    "표본 $i = 1,2,\\ldots, n$. hyperplane 을 찾아내어 best fit 하기 위해 OLS(Ordinary Least Squares) 방법을 사용하고, 예측값과 표본값 간의 squared error  $\\sum_{i=1}^n \\epsilon_i^2$.가 최소화 되도록 한다. "
   ]
  },
  {
   "cell_type": "markdown",
   "metadata": {},
   "source": [
    "***\n",
    "#### Squared Error 설명 \n",
    "Y 가 실제 data 값이라 하고, Y_hat 이 linear regression 으로 구한 예측값이라 하면 squared error 는 다음과 같이 계산된다."
   ]
  },
  {
   "cell_type": "code",
   "execution_count": 117,
   "metadata": {},
   "outputs": [
    {
     "name": "stdout",
     "output_type": "stream",
     "text": [
      "Error [ 0.  -0.5  1.  -1.  -3. ]\n",
      "Squared Error : [0.   0.25 1.   1.   9.  ]\n",
      "Sum Squared Error : 11.25\n"
     ]
    }
   ],
   "source": [
    "Y = np.array([1, 3.5, 4, 8, 12])         # 실제값\n",
    "Y_hat = np.array([1, 3, 5, 7, 9])       # 예측값\n",
    "\n",
    "print('Error ' + str(Y_hat - Y))\n",
    "\n",
    "SE = (Y_hat - Y) ** 2                      # squared error 계산\n",
    "\n",
    "print('Squared Error : ' + str(SE))\n",
    "print('Sum Squared Error : ' + str(np.sum(SE)))"
   ]
  },
  {
   "cell_type": "markdown",
   "metadata": {},
   "source": [
    "일단 OLS 방법을 통해 regression 식의 coefficients 를 구하면, 새로운 관측값 $X$ 를 이용하여 $Y$ 값을 예측할 수 있다. \n",
    "\n",
    "각 coefficient $\\beta_j$ 는 다른 종속변수를 상수로 간주할 때 $X_j$ 가 1 변하면 $Y_i$ 가 얼마나 변하는가를 나타낸다. 이 것은 linear regression 이라는 가정을 전제로 한다.\n",
    "\n",
    "다음과 같이 인위적으로 $Y$, $X_1$, and $X_2$ 를 만들어 정확한 관계를 파악하는 것 부터 시작해 보겠다."
   ]
  },
  {
   "cell_type": "code",
   "execution_count": 118,
   "metadata": {},
   "outputs": [
    {
     "data": {
      "image/png": "[encoded data removed]",
      "text/plain": [
       "<Figure size 432x288 with 1 Axes>"
      ]
     },
     "metadata": {},
     "output_type": "display_data"
    }
   ],
   "source": [
    "# simple linear curve of 1, 2, 3 구성\n",
    "X1 = np.arange(10)\n",
    "\n",
    "# 포물선을 만들고 X1 을 더한 것을 X2 라 하자.\n",
    "X2 = np.array([i ** 2 for i in range(10)]) + X1\n",
    "\n",
    "# X1 과 X2 를 단순히 더한 것을 Y 라 하면,\n",
    "Y = X1 + X2\n",
    "\n",
    "plt.plot(X1, label='X1')\n",
    "plt.plot(X2, label='X2')\n",
    "plt.plot(Y, label='Y')\n",
    "plt.legend();"
   ]
  },
  {
   "cell_type": "markdown",
   "metadata": {},
   "source": [
    "single linear regression 에서 사용했던 동일한 `statsmodels` 사용함."
   ]
  },
  {
   "cell_type": "code",
   "execution_count": 121,
   "metadata": {},
   "outputs": [
    {
     "data": {
      "text/plain": [
       "array([0, 1, 2, 3, 4, 5, 6, 7, 8, 9])"
      ]
     },
     "execution_count": 121,
     "metadata": {},
     "output_type": "execute_result"
    }
   ],
   "source": [
    "X1"
   ]
  },
  {
   "cell_type": "code",
   "execution_count": 122,
   "metadata": {},
   "outputs": [
    {
     "data": {
      "text/plain": [
       "array([ 0,  2,  6, 12, 20, 30, 42, 56, 72, 90])"
      ]
     },
     "execution_count": 122,
     "metadata": {},
     "output_type": "execute_result"
    }
   ],
   "source": [
    "X2"
   ]
  },
  {
   "cell_type": "code",
   "execution_count": 123,
   "metadata": {},
   "outputs": [
    {
     "data": {
      "text/plain": [
       "array([[ 1.,  0.,  0.],\n",
       "       [ 1.,  1.,  2.],\n",
       "       [ 1.,  2.,  6.],\n",
       "       [ 1.,  3., 12.],\n",
       "       [ 1.,  4., 20.],\n",
       "       [ 1.,  5., 30.],\n",
       "       [ 1.,  6., 42.],\n",
       "       [ 1.,  7., 56.],\n",
       "       [ 1.,  8., 72.],\n",
       "       [ 1.,  9., 90.]])"
      ]
     },
     "execution_count": 123,
     "metadata": {},
     "output_type": "execute_result"
    }
   ],
   "source": [
    "sm.add_constant(np.column_stack((X1, X2)))"
   ]
  },
  {
   "cell_type": "code",
   "execution_count": 124,
   "metadata": {
    "scrolled": true
   },
   "outputs": [
    {
     "name": "stdout",
     "output_type": "stream",
     "text": [
      "Beta_0: -3.552713678800501e-15\n",
      "Beta_1: 1.000000000000007\n",
      "Beta_2: 0.999999999999998\n"
     ]
    }
   ],
   "source": [
    "# numpy column_stack  을 사용하여 위에서 보듯 두개의 1-D array 를 2-D arrary 로 변환하고 intercept fit 을 위해 column of ones 추가\n",
    "X = sm.add_constant( np.column_stack( (X1, X2) ) )\n",
    "\n",
    "# Run the model\n",
    "results = regression.linear_model.OLS(Y, X).fit()\n",
    "\n",
    "print('Beta_0:', results.params[0])\n",
    "print('Beta_1:', results.params[1])\n",
    "print('Beta_2:', results.params[2])"
   ]
  },
  {
   "cell_type": "code",
   "execution_count": 126,
   "metadata": {},
   "outputs": [
    {
     "data": {
      "text/plain": [
       "array([-3.55271368e-15,  1.00000000e+00,  1.00000000e+00])"
      ]
     },
     "execution_count": 126,
     "metadata": {},
     "output_type": "execute_result"
    }
   ],
   "source": [
    "results.params             # alpha, beta1, beta2"
   ]
  },
  {
   "cell_type": "markdown",
   "metadata": {},
   "source": [
    "위의 result 에서 $\\alpha$ 는 0, $\\beta_1$ 과 $\\beta_2$ 는 1 이 구해졌으므로, $Y$ 는 다음과 같이 표현할 수 있다. \n",
    "\n",
    "$$ Y_{hat} = X_1 + X_2 = X_1 + X^2 + X_1 = 2 X_1 + X^2$$  \n",
    "\n",
    "($X^2$ 은 포물선 이므로) 또는 $ Y_{hat} = 2X_1$ + 포물선.\n",
    "\n",
    "그러나, $X_1$ 의 계수는 1 이다. 왜냐하면,  $X_1$ 이 1 변하면  $Y$ 가 1 변하기 때문이다. 반면 $X_2$ 는 상수로 간주한다.\n",
    "Multiple linear regression 은 각 변수의 기여도를 분리한다. \n",
    "\n",
    "마찬가지로, 두 주식에 대한 linear regression 은 높은 $\\beta$ 를 보일 수 있다. 그러나 제 3 의 주식 (예를 들어 SPY 와 같이 S&P 500 을 추종하는) 을 독립변수로 추가함으로서 앞선 두 주식간의 상관관계(correlation) 가 거의 S&P 500 과의 상관관계에 기인함을 발견할 수도 있다. 이것은 매우 유용할 수 있는데 두 주식간의 상관관계 보다는 S&P 500 과 두 주식간의 상관관계가 신뢰성게 예측되기 때문이다. 이 방법은 두 주식간의 유의성(significance) 을 측정할 수 있게해 주는데 이 문제는 confounding (혼재) 라고 알려져 있다.\n",
    "\n",
    "이 것을 실제 주식에 검증하기 위해 임의의 두 종목과 S&P 500 index 를 선택하여 mutiple linear regressoin 을 수행해 보겠다."
   ]
  },
  {
   "cell_type": "code",
   "execution_count": 131,
   "metadata": {},
   "outputs": [
    {
     "name": "stdout",
     "output_type": "stream",
     "text": [
      "SLR alphe of asset2: 32.661822641192806\n",
      "SLR beta of asset2: 0.061975802556131554\n"
     ]
    }
   ],
   "source": [
    "# 두개의 임의로 선택한 자산과 index 를 선택\n",
    "from googlefinance.client import get_price_data, get_prices_data\n",
    "import pandas as pd\n",
    "\n",
    "start = pd.to_datetime('2014-01-01')\n",
    "end = pd.to_datetime('2015-01-01')\n",
    "\n",
    "param = {'q': \"T\", 'i': \"86400\", 'x': \"NYSE\", 'p': \"10Y\" }\n",
    "df = pd.DataFrame(get_price_data(param))\n",
    "df.index = df.index.date\n",
    "df.index = pd.to_datetime(df.index)\n",
    "\n",
    "asset1 = df['Close'].loc[start : end]\n",
    "\n",
    "param= {'q': \"FISV\", 'i': \"86400\", 'x': \"NASD\", 'p': \"10Y\" }\n",
    "df = pd.DataFrame(get_price_data(param))\n",
    "df.index = df.index.date\n",
    "df.index = pd.to_datetime(df.index)\n",
    "\n",
    "asset2 = df['Close'].loc[start : end]\n",
    "\n",
    "params_INDEX = [{'q': \".INX\", 'x': \"INDEXSP\",}]\n",
    "period = \"10Y\"\n",
    "df = get_prices_data(params_INDEX , period)\n",
    "df.index = pd.to_datetime(df.index)\n",
    "\n",
    "benchmark = df['.INX_Close'].loc[start:end]\n",
    "\n",
    "# 우선 2 개의 asset 간의 linear regression 수행\n",
    "slr = regression.linear_model.OLS(asset1, sm.add_constant(asset2)).fit()\n",
    "print('SLR alphe of asset2:', slr.params[0])\n",
    "print('SLR beta of asset2:', slr.params[1])"
   ]
  },
  {
   "cell_type": "markdown",
   "metadata": {},
   "source": [
    "asset1 을 종속변수로 하고 asset2 를 독립변수로 하는 simple linear regression 은 asset1 = 32 + 0.0619 * asset2 이다."
   ]
  },
  {
   "cell_type": "code",
   "execution_count": 134,
   "metadata": {},
   "outputs": [
    {
     "data": {
      "image/png": "[encoded data removed]",
      "text/plain": [
       "<Figure size 432x288 with 1 Axes>"
      ]
     },
     "metadata": {},
     "output_type": "display_data"
    }
   ],
   "source": [
    "y_hat = 32 + 0.0619 * asset2\n",
    "plt.scatter(asset2, asset1)\n",
    "plt.plot(asset2, y_hat, 'r', alpha=0.5)\n",
    "plt.xlabel('asset2')\n",
    "plt.ylabel('asset1');"
   ]
  },
  {
   "cell_type": "code",
   "execution_count": 135,
   "metadata": {},
   "outputs": [
    {
     "data": {
      "text/html": [
       "<table class=\"simpletable\">\n",
       "<caption>OLS Regression Results</caption>\n",
       "<tr>\n",
       "  <th>Dep. Variable:</th>          <td>Close</td>      <th>  R-squared:         </th> <td>   0.017</td>\n",
       "</tr>\n",
       "<tr>\n",
       "  <th>Model:</th>                   <td>OLS</td>       <th>  Adj. R-squared:    </th> <td>   0.013</td>\n",
       "</tr>\n",
       "<tr>\n",
       "  <th>Method:</th>             <td>Least Squares</td>  <th>  F-statistic:       </th> <td>   4.263</td>\n",
       "</tr>\n",
       "<tr>\n",
       "  <th>Date:</th>             <td>Fri, 20 Apr 2018</td> <th>  Prob (F-statistic):</th>  <td>0.0400</td> \n",
       "</tr>\n",
       "<tr>\n",
       "  <th>Time:</th>                 <td>19:28:41</td>     <th>  Log-Likelihood:    </th> <td> -391.51</td>\n",
       "</tr>\n",
       "<tr>\n",
       "  <th>No. Observations:</th>      <td>   253</td>      <th>  AIC:               </th> <td>   787.0</td>\n",
       "</tr>\n",
       "<tr>\n",
       "  <th>Df Residuals:</th>          <td>   251</td>      <th>  BIC:               </th> <td>   794.1</td>\n",
       "</tr>\n",
       "<tr>\n",
       "  <th>Df Model:</th>              <td>     1</td>      <th>                     </th>     <td> </td>   \n",
       "</tr>\n",
       "<tr>\n",
       "  <th>Covariance Type:</th>      <td>nonrobust</td>    <th>                     </th>     <td> </td>   \n",
       "</tr>\n",
       "</table>\n",
       "<table class=\"simpletable\">\n",
       "<tr>\n",
       "    <td></td>       <th>coef</th>     <th>std err</th>      <th>t</th>      <th>P>|t|</th>  <th>[0.025</th>    <th>0.975]</th>  \n",
       "</tr>\n",
       "<tr>\n",
       "  <th>const</th> <td>   32.6618</td> <td>    0.935</td> <td>   34.943</td> <td> 0.000</td> <td>   30.821</td> <td>   34.503</td>\n",
       "</tr>\n",
       "<tr>\n",
       "  <th>Close</th> <td>    0.0620</td> <td>    0.030</td> <td>    2.065</td> <td> 0.040</td> <td>    0.003</td> <td>    0.121</td>\n",
       "</tr>\n",
       "</table>\n",
       "<table class=\"simpletable\">\n",
       "<tr>\n",
       "  <th>Omnibus:</th>       <td>14.904</td> <th>  Durbin-Watson:     </th> <td>   0.072</td>\n",
       "</tr>\n",
       "<tr>\n",
       "  <th>Prob(Omnibus):</th> <td> 0.001</td> <th>  Jarque-Bera (JB):  </th> <td>  15.388</td>\n",
       "</tr>\n",
       "<tr>\n",
       "  <th>Skew:</th>          <td>-0.568</td> <th>  Prob(JB):          </th> <td>0.000455</td>\n",
       "</tr>\n",
       "<tr>\n",
       "  <th>Kurtosis:</th>      <td> 2.588</td> <th>  Cond. No.          </th> <td>    406.</td>\n",
       "</tr>\n",
       "</table>"
      ],
      "text/plain": [
       "<class 'statsmodels.iolib.summary.Summary'>\n",
       "\"\"\"\n",
       "                            OLS Regression Results                            \n",
       "==============================================================================\n",
       "Dep. Variable:                  Close   R-squared:                       0.017\n",
       "Model:                            OLS   Adj. R-squared:                  0.013\n",
       "Method:                 Least Squares   F-statistic:                     4.263\n",
       "Date:                Fri, 20 Apr 2018   Prob (F-statistic):             0.0400\n",
       "Time:                        19:28:41   Log-Likelihood:                -391.51\n",
       "No. Observations:                 253   AIC:                             787.0\n",
       "Df Residuals:                     251   BIC:                             794.1\n",
       "Df Model:                           1                                         \n",
       "Covariance Type:            nonrobust                                         \n",
       "==============================================================================\n",
       "                 coef    std err          t      P>|t|      [0.025      0.975]\n",
       "------------------------------------------------------------------------------\n",
       "const         32.6618      0.935     34.943      0.000      30.821      34.503\n",
       "Close          0.0620      0.030      2.065      0.040       0.003       0.121\n",
       "==============================================================================\n",
       "Omnibus:                       14.904   Durbin-Watson:                   0.072\n",
       "Prob(Omnibus):                  0.001   Jarque-Bera (JB):               15.388\n",
       "Skew:                          -0.568   Prob(JB):                     0.000455\n",
       "Kurtosis:                       2.588   Cond. No.                         406.\n",
       "==============================================================================\n",
       "\n",
       "Warnings:\n",
       "[1] Standard Errors assume that the covariance matrix of the errors is correctly specified.\n",
       "\"\"\""
      ]
     },
     "execution_count": 135,
     "metadata": {},
     "output_type": "execute_result"
    }
   ],
   "source": [
    "slr.summary()"
   ]
  },
  {
   "cell_type": "markdown",
   "metadata": {},
   "source": [
    "위 결과는 p-value 0.04 이므로 relation 있음.\n",
    "\n",
    "이번에는 새로운 독립변수 benchmark 를 추가하여, asset1 을 종속변수로 하고, asset2 와 benchmark 가 독립변수인 MLR 을 수행한다."
   ]
  },
  {
   "cell_type": "code",
   "execution_count": 138,
   "metadata": {},
   "outputs": [
    {
     "name": "stdout",
     "output_type": "stream",
     "text": [
      "MLR beta of asset2: -0.4796480041522151 \n",
      "MLR beta of S&P 500: 0.017658163921868125\n"
     ]
    }
   ],
   "source": [
    "# asset2 와 SPY 를 독립변수로로 multiple linear regression 수행\n",
    "mlr = regression.linear_model.OLS(asset1, sm.add_constant(np.column_stack((asset2, benchmark)))).fit()\n",
    "\n",
    "prediction = mlr.params[0] + mlr.params[1]*asset2 + mlr.params[2]*benchmark\n",
    "prediction.name = 'Prediction'\n",
    "\n",
    "print('MLR beta of asset2:', mlr.params[1], '\\nMLR beta of S&P 500:', mlr.params[2])"
   ]
  },
  {
   "cell_type": "markdown",
   "metadata": {},
   "source": [
    "위의 분석을 수행한 다음 단계는 결과의 신뢰성 검토이다. 독립변수, 종속변수, 예측치 graph 의 이상 유무를 check 하는 것이 가장 간편하다."
   ]
  },
  {
   "cell_type": "code",
   "execution_count": 139,
   "metadata": {
    "scrolled": false
   },
   "outputs": [
    {
     "data": {
      "image/png": "[encoded data removed]",
      "text/plain": [
       "<Figure size 432x288 with 1 Axes>"
      ]
     },
     "metadata": {},
     "output_type": "display_data"
    }
   ],
   "source": [
    "# MLR 에 의해 계산된 예측치와 3 개 변수를 plot 한다\n",
    "asset1.plot(label='asset1')\n",
    "asset2.plot(label='asset2')\n",
    "benchmark.plot(label='SPY')\n",
    "prediction.plot(color='y')\n",
    "plt.xlabel('Price')\n",
    "plt.legend(bbox_to_anchor=(1,1), loc=2);"
   ]
  },
  {
   "cell_type": "code",
   "execution_count": 140,
   "metadata": {},
   "outputs": [
    {
     "data": {
      "image/png": "[encoded data removed]",
      "text/plain": [
       "<Figure size 432x288 with 1 Axes>"
      ]
     },
     "metadata": {},
     "output_type": "display_data"
    }
   ],
   "source": [
    "# 위의 그래프는 잘 구분이 되지 않으므로 종속변수와 예측치 만 그려본다\n",
    "asset1.plot(label=\"asset1\")\n",
    "prediction.plot(color='y')\n",
    "plt.xlabel('Price')\n",
    "plt.legend();"
   ]
  },
  {
   "cell_type": "markdown",
   "metadata": {},
   "source": [
    "# 평가(Evaluation)\n",
    "\n",
    "regression 에서 나온 결과에 따른 fit 에 대해 통계를 구할 수 있다. p-value(F-statitics) 가 <0.05 이므로 이 OLS 는 accept 된다."
   ]
  },
  {
   "cell_type": "code",
   "execution_count": 141,
   "metadata": {},
   "outputs": [
    {
     "data": {
      "text/html": [
       "<table class=\"simpletable\">\n",
       "<caption>OLS Regression Results</caption>\n",
       "<tr>\n",
       "  <th>Dep. Variable:</th>          <td>Close</td>      <th>  R-squared:         </th> <td>   0.246</td>\n",
       "</tr>\n",
       "<tr>\n",
       "  <th>Model:</th>                   <td>OLS</td>       <th>  Adj. R-squared:    </th> <td>   0.240</td>\n",
       "</tr>\n",
       "<tr>\n",
       "  <th>Method:</th>             <td>Least Squares</td>  <th>  F-statistic:       </th> <td>   40.79</td>\n",
       "</tr>\n",
       "<tr>\n",
       "  <th>Date:</th>             <td>Fri, 20 Apr 2018</td> <th>  Prob (F-statistic):</th> <td>4.68e-16</td>\n",
       "</tr>\n",
       "<tr>\n",
       "  <th>Time:</th>                 <td>19:34:42</td>     <th>  Log-Likelihood:    </th> <td> -357.92</td>\n",
       "</tr>\n",
       "<tr>\n",
       "  <th>No. Observations:</th>      <td>   253</td>      <th>  AIC:               </th> <td>   721.8</td>\n",
       "</tr>\n",
       "<tr>\n",
       "  <th>Df Residuals:</th>          <td>   250</td>      <th>  BIC:               </th> <td>   732.4</td>\n",
       "</tr>\n",
       "<tr>\n",
       "  <th>Df Model:</th>              <td>     2</td>      <th>                     </th>     <td> </td>   \n",
       "</tr>\n",
       "<tr>\n",
       "  <th>Covariance Type:</th>      <td>nonrobust</td>    <th>                     </th>     <td> </td>   \n",
       "</tr>\n",
       "</table>\n",
       "<table class=\"simpletable\">\n",
       "<tr>\n",
       "    <td></td>       <th>coef</th>     <th>std err</th>      <th>t</th>      <th>P>|t|</th>  <th>[0.025</th>    <th>0.975]</th>  \n",
       "</tr>\n",
       "<tr>\n",
       "  <th>const</th> <td>   15.3801</td> <td>    2.145</td> <td>    7.171</td> <td> 0.000</td> <td>   11.156</td> <td>   19.604</td>\n",
       "</tr>\n",
       "<tr>\n",
       "  <th>x1</th>    <td>   -0.4796</td> <td>    0.067</td> <td>   -7.109</td> <td> 0.000</td> <td>   -0.613</td> <td>   -0.347</td>\n",
       "</tr>\n",
       "<tr>\n",
       "  <th>x2</th>    <td>    0.0177</td> <td>    0.002</td> <td>    8.720</td> <td> 0.000</td> <td>    0.014</td> <td>    0.022</td>\n",
       "</tr>\n",
       "</table>\n",
       "<table class=\"simpletable\">\n",
       "<tr>\n",
       "  <th>Omnibus:</th>       <td> 1.279</td> <th>  Durbin-Watson:     </th> <td>   0.092</td>\n",
       "</tr>\n",
       "<tr>\n",
       "  <th>Prob(Omnibus):</th> <td> 0.528</td> <th>  Jarque-Bera (JB):  </th> <td>   0.973</td>\n",
       "</tr>\n",
       "<tr>\n",
       "  <th>Skew:</th>          <td>-0.107</td> <th>  Prob(JB):          </th> <td>   0.615</td>\n",
       "</tr>\n",
       "<tr>\n",
       "  <th>Kurtosis:</th>      <td> 3.215</td> <th>  Cond. No.          </th> <td>6.58e+04</td>\n",
       "</tr>\n",
       "</table>"
      ],
      "text/plain": [
       "<class 'statsmodels.iolib.summary.Summary'>\n",
       "\"\"\"\n",
       "                            OLS Regression Results                            \n",
       "==============================================================================\n",
       "Dep. Variable:                  Close   R-squared:                       0.246\n",
       "Model:                            OLS   Adj. R-squared:                  0.240\n",
       "Method:                 Least Squares   F-statistic:                     40.79\n",
       "Date:                Fri, 20 Apr 2018   Prob (F-statistic):           4.68e-16\n",
       "Time:                        19:34:42   Log-Likelihood:                -357.92\n",
       "No. Observations:                 253   AIC:                             721.8\n",
       "Df Residuals:                     250   BIC:                             732.4\n",
       "Df Model:                           2                                         \n",
       "Covariance Type:            nonrobust                                         \n",
       "==============================================================================\n",
       "                 coef    std err          t      P>|t|      [0.025      0.975]\n",
       "------------------------------------------------------------------------------\n",
       "const         15.3801      2.145      7.171      0.000      11.156      19.604\n",
       "x1            -0.4796      0.067     -7.109      0.000      -0.613      -0.347\n",
       "x2             0.0177      0.002      8.720      0.000       0.014       0.022\n",
       "==============================================================================\n",
       "Omnibus:                        1.279   Durbin-Watson:                   0.092\n",
       "Prob(Omnibus):                  0.528   Jarque-Bera (JB):                0.973\n",
       "Skew:                          -0.107   Prob(JB):                        0.615\n",
       "Kurtosis:                       3.215   Cond. No.                     6.58e+04\n",
       "==============================================================================\n",
       "\n",
       "Warnings:\n",
       "[1] Standard Errors assume that the covariance matrix of the errors is correctly specified.\n",
       "[2] The condition number is large, 6.58e+04. This might indicate that there are\n",
       "strong multicollinearity or other numerical problems.\n",
       "\"\"\""
      ]
     },
     "execution_count": 141,
     "metadata": {},
     "output_type": "execute_result"
    }
   ],
   "source": [
    "mlr.summary()"
   ]
  },
  {
   "cell_type": "markdown",
   "metadata": {},
   "source": [
    "## Model Assumptions\n",
    "\n",
    "통계의 유효성은 linear regression 의 가정이 충족되었는가 여부에 달려있다. 그 가정들은 SLR 의 가정들과 같다 (Chapter 12 참조):\n",
    "\n",
    "* 독립변수 X 는 random 하지 않음.\n",
    "* error term(잔차항) 의 variance 가 전체 측정치에 걸쳐서 일정함. fit 를 하기위해 중요.\n",
    "* error 는 자기상관관계 (autocorrelated) 없음. Durbin-Watson statistic 값이 2 에 가까우면 autocorrelation 없음.\n",
    "* error 는 정규분포 되어있음. 그렇지 않으면 F-test 와 같은 통계를 사용할 수 없다.\n",
    "\n",
    "Multiple linear regression 추가적으로 다음의 가정을 한다 :\n",
    "* 독립변수 간에는 정확한 선형 관계가 없다. 그렇지 않으면 동일한 선형방적식이 여러 방식으로 표현되므로 계수 $\\beta_i$ 를 단일값으로 풀 수 없다.\n",
    "\n",
    "만약 독립변수간에 선형 관계가 존재한다면, 이 것을 covariance(공분산) 라고 부르고 그들 간에 linear combination(선형결합) 이라고 말한다.\n",
    "이런 방식으로 상호 종속하는 경우 주어진 $X_i$ 에 대한 $\\beta_i$ 계수는 부정확할 것이다. \n",
    "\n",
    "다음의 예를 보면 쉽게 이해된다. 여기서 $X_1$ 과 $X_2$ 는 100% 공분산 관계이다. 이 경우 linear regression 은 예측 능력에 영향 없이 총합계내에서 어떠한 조합의 coefficient 도 할당할 수 있다.\n",
    "\n",
    "$$ 1X_1 + 0X_2 = 0.5X_1 + 0.5X_2 = 0X_1 + 1X_2 $$\n",
    "\n",
    "계수를 특정할 수는 없어도 만약 독립변수들과 종속변수들간에 전체적인 fit 이 잘 맞으면 최종 모델은 정확할 수 있다. 종속성이 문제인 경우 모델 구축의 best practice 는 모델을 더 잘 맞게 만드는 변수들과 correlate 된 덜 descriptive 한 변수들을 생략하는 것이다. 이렇게 함으로써 $\\beta_i$ 예측은 실제 값에 접근시키고 overfitting 은 줄일 수 있다.\n",
    "\n",
    "regression model 이 필요 가정을 충족한다는 확인을 하면 fit 을 분석하기 위해 통계 report 를 마음 놓고 사용할 수 있다. 예를 들어 $R^2$ 값은  model 에 의해 설명되는 $Y$ 의 총 variation 의 분수값을 알려준다. 그러나, multiple linear regression 을 할 때 Adjusted $R^2$ 을 선호하는데 model 에 regresson 변수를 추가할 때 발생하는 $R^2$ 의 작은 증가를 보정해 주기 때문이다. 비록 그 것들이 종속변수에 유의성 있게 상관관계되지 않았더라도, Adjusted $R^2$ 는 다음과 같이 정의된다.\n",
    "\n",
    "$$ 1 - (1 - R^2)\\frac{n-1}{n-k-1} $$\n",
    "\n",
    "여기서 $n$ 은 표본 숫자이고 $k$ 는 model 내의 독립변수의 숫자이다. 다른 유용한 통계는 F-statistic 과 예측의 standard error 이다."
   ]
  },
  {
   "cell_type": "markdown",
   "metadata": {
    "collapsed": true
   },
   "source": [
    "# Model Selection 예제\n",
    "\n",
    "종속변수들에 대한 best possible model 결정시에 여러가지 다른 방법이 있다. 너무 많은 원인변수(explanatory variable) 을 사용하면 model 에 대한 overfitting 위험이 있다. 그러나 너무 적게 사용하면 fit 이 아예 안될 수도 있다. 많이 사용되는 방법 중 하나는 단계별 regression 이다.\n",
    "Forward stepwise regression 은 empty model 에서 시작하여 개별 변수를 테스트 하고,  best model quality 를 보인 것을 선택한다. 대개  AIC 나 BIC 를 테스트 한다 (lowest is best).  매 스텝마다 AIC 혹은 BIC 를 계산하며 나머지 변수들을 원인변수의 결합을 한스텝에 하나씩 추가해 나간다.\n",
    "Regression 최종 단계에서 best quality model 이 선택되고 final best model 로 제시된다. 한계점은 모든 가능한 combination 을 test 하지는 않으므로 특정 변수가 일찍 제외될 경우 이론상 best model 을 놓칠 수 있다는 것이다. 그러므로 sepwise regression 은 model 에 대한 스스로의 최적 판단과 조합하여 이용해야 한다.\n",
    "\n",
    "이를 테스트하기 위해 다음과 같이 인위적으로 4 개의 correlate 된 변수를 만들어 보자."
   ]
  },
  {
   "cell_type": "code",
   "execution_count": 150,
   "metadata": {},
   "outputs": [
    {
     "data": {
      "image/png": "[encoded data removed]",
      "text/plain": [
       "<Figure size 432x288 with 1 Axes>"
      ]
     },
     "metadata": {},
     "output_type": "display_data"
    }
   ],
   "source": [
    "X1 = np.arange(30)\n",
    "X2 = [i**2 for i in range(30)] - X1\n",
    "X3 = [np.log(i) for i in range(1, 31)] + X2\n",
    "X4 = 5 * X1\n",
    "Y = 2 * X1 + 0.5 * X2 + 10 * X3 + X4\n",
    "\n",
    "plt.plot(X1, label='X1')\n",
    "plt.plot(X2, label='X2')\n",
    "plt.plot(X3, label='X3')\n",
    "plt.plot(X4, label='X4')\n",
    "plt.plot(Y, label='Y')\n",
    "plt.legend();"
   ]
  },
  {
   "cell_type": "code",
   "execution_count": 151,
   "metadata": {
    "scrolled": false
   },
   "outputs": [
    {
     "name": "stdout",
     "output_type": "stream",
     "text": [
      "Beta_0:  -1.3731605693438013e-12\n",
      "Beta_1:  0.2692307692307718\n",
      "Beta_2:  0.4999999999987495\n",
      "Beta_3:  10.000000000001059\n",
      "Beta_4:  1.3461538461538538\n"
     ]
    }
   ],
   "source": [
    "results = regression.linear_model.OLS(Y, sm.add_constant(np.column_stack((X1,X2,X3,X4)))).fit()\n",
    "\n",
    "print(\"Beta_0: \", results.params[0])\n",
    "print(\"Beta_1: \", results.params[1])\n",
    "print(\"Beta_2: \", results.params[2])\n",
    "print(\"Beta_3: \", results.params[3])\n",
    "print(\"Beta_4: \", results.params[4])"
   ]
  },
  {
   "cell_type": "markdown",
   "metadata": {},
   "source": [
    "서로 correlate 된 4 개의 변수를 단순히 MLR 을 하면 $Y_{hat} =  0.2 X1 + 0.5 X2 + 9.9 X3 + 1.34 X4$ 의 regression 식이 나온다.\n",
    "그래프는 실제값 Y 와 정확히 일치한다."
   ]
  },
  {
   "cell_type": "code",
   "execution_count": 152,
   "metadata": {},
   "outputs": [
    {
     "data": {
      "image/png": "[encoded data removed]",
      "text/plain": [
       "<Figure size 432x288 with 1 Axes>"
      ]
     },
     "metadata": {},
     "output_type": "display_data"
    }
   ],
   "source": [
    "Y_hat = 0.2 * X1 + 0.5 * X2 + 9.9 * X3 + 1.34 * X4 \n",
    "\n",
    "plt.plot(Y, label='Y')\n",
    "plt.plot(Y_hat, label='Y_hat')\n",
    "plt.legend();"
   ]
  },
  {
   "cell_type": "markdown",
   "metadata": {},
   "source": [
    "forward stepwise regression 을 적용해 보겠다."
   ]
  },
  {
   "cell_type": "code",
   "execution_count": 153,
   "metadata": {},
   "outputs": [],
   "source": [
    "data = pd.DataFrame(np.column_stack((X1,X2,X3,X4)), columns = ['X1','X2','X3','X4'])\n",
    "response = pd.Series(Y, name='Y')"
   ]
  },
  {
   "cell_type": "code",
   "execution_count": 154,
   "metadata": {},
   "outputs": [],
   "source": [
    "def forward_aic(response, data):\n",
    "    # This function will work with pandas dataframes and series\n",
    "    \n",
    "    # Initialize some variables\n",
    "    explanatory = list(data.columns)\n",
    "    selected = pd.Series(np.ones(data.shape[0]), name=\"Intercept\")\n",
    "    current_score, best_new_score = np.inf, np.inf\n",
    "    \n",
    "    # Loop while we haven't found a better model\n",
    "    while current_score == best_new_score and len(explanatory) != 0:\n",
    "        \n",
    "        scores_with_elements = []\n",
    "        count = 0\n",
    "        \n",
    "        # For each explanatory variable\n",
    "        for element in explanatory:\n",
    "            # Make a set of explanatory variables including our current best and the new one\n",
    "            tmp = pd.concat([selected, data[element]], axis=1)\n",
    "            # Test the set\n",
    "            result = regression.linear_model.OLS(Y, tmp).fit()\n",
    "            score = result.aic\n",
    "            scores_with_elements.append((score, element, count))\n",
    "            count += 1\n",
    "        \n",
    "        # Sort the scoring list\n",
    "        scores_with_elements.sort(reverse = True)\n",
    "        # Get the best new variable\n",
    "        best_new_score, best_element, index = scores_with_elements.pop()\n",
    "        if current_score > best_new_score:\n",
    "            # If it's better than the best add it to the set\n",
    "            explanatory.pop(index)\n",
    "            selected = pd.concat([selected, data[best_element]],axis=1)\n",
    "            current_score = best_new_score\n",
    "    # Return the final model\n",
    "    model = regression.linear_model.OLS(Y, selected).fit()\n",
    "    return model"
   ]
  },
  {
   "cell_type": "code",
   "execution_count": 155,
   "metadata": {
    "scrolled": false
   },
   "outputs": [
    {
     "data": {
      "text/html": [
       "<table class=\"simpletable\">\n",
       "<caption>OLS Regression Results</caption>\n",
       "<tr>\n",
       "  <th>Dep. Variable:</th>            <td>y</td>        <th>  R-squared:         </th> <td>   1.000</td> \n",
       "</tr>\n",
       "<tr>\n",
       "  <th>Model:</th>                   <td>OLS</td>       <th>  Adj. R-squared:    </th> <td>   1.000</td> \n",
       "</tr>\n",
       "<tr>\n",
       "  <th>Method:</th>             <td>Least Squares</td>  <th>  F-statistic:       </th> <td>1.270e+29</td>\n",
       "</tr>\n",
       "<tr>\n",
       "  <th>Date:</th>             <td>Fri, 20 Apr 2018</td> <th>  Prob (F-statistic):</th>  <td>  0.00</td>  \n",
       "</tr>\n",
       "<tr>\n",
       "  <th>Time:</th>                 <td>19:52:02</td>     <th>  Log-Likelihood:    </th> <td>  693.17</td> \n",
       "</tr>\n",
       "<tr>\n",
       "  <th>No. Observations:</th>      <td>    30</td>      <th>  AIC:               </th> <td>  -1378.</td> \n",
       "</tr>\n",
       "<tr>\n",
       "  <th>Df Residuals:</th>          <td>    26</td>      <th>  BIC:               </th> <td>  -1373.</td> \n",
       "</tr>\n",
       "<tr>\n",
       "  <th>Df Model:</th>              <td>     3</td>      <th>                     </th>     <td> </td>    \n",
       "</tr>\n",
       "<tr>\n",
       "  <th>Covariance Type:</th>      <td>nonrobust</td>    <th>                     </th>     <td> </td>    \n",
       "</tr>\n",
       "</table>\n",
       "<table class=\"simpletable\">\n",
       "<tr>\n",
       "      <td></td>         <th>coef</th>     <th>std err</th>      <th>t</th>      <th>P>|t|</th>  <th>[0.025</th>    <th>0.975]</th>  \n",
       "</tr>\n",
       "<tr>\n",
       "  <th>Intercept</th> <td>-3.393e-12</td> <td> 2.08e-11</td> <td>   -0.163</td> <td> 0.871</td> <td>-4.61e-11</td> <td> 3.93e-11</td>\n",
       "</tr>\n",
       "<tr>\n",
       "  <th>X3</th>        <td>   10.0000</td> <td> 2.66e-11</td> <td> 3.76e+11</td> <td> 0.000</td> <td>   10.000</td> <td>   10.000</td>\n",
       "</tr>\n",
       "<tr>\n",
       "  <th>X1</th>        <td>    7.0000</td> <td> 5.82e-12</td> <td>  1.2e+12</td> <td> 0.000</td> <td>    7.000</td> <td>    7.000</td>\n",
       "</tr>\n",
       "<tr>\n",
       "  <th>X2</th>        <td>    0.5000</td> <td> 2.65e-11</td> <td> 1.89e+10</td> <td> 0.000</td> <td>    0.500</td> <td>    0.500</td>\n",
       "</tr>\n",
       "</table>\n",
       "<table class=\"simpletable\">\n",
       "<tr>\n",
       "  <th>Omnibus:</th>       <td> 3.712</td> <th>  Durbin-Watson:     </th> <td>   0.009</td>\n",
       "</tr>\n",
       "<tr>\n",
       "  <th>Prob(Omnibus):</th> <td> 0.156</td> <th>  Jarque-Bera (JB):  </th> <td>   3.196</td>\n",
       "</tr>\n",
       "<tr>\n",
       "  <th>Skew:</th>          <td>-0.714</td> <th>  Prob(JB):          </th> <td>   0.202</td>\n",
       "</tr>\n",
       "<tr>\n",
       "  <th>Kurtosis:</th>      <td> 2.281</td> <th>  Cond. No.          </th> <td>4.99e+03</td>\n",
       "</tr>\n",
       "</table>"
      ],
      "text/plain": [
       "<class 'statsmodels.iolib.summary.Summary'>\n",
       "\"\"\"\n",
       "                            OLS Regression Results                            \n",
       "==============================================================================\n",
       "Dep. Variable:                      y   R-squared:                       1.000\n",
       "Model:                            OLS   Adj. R-squared:                  1.000\n",
       "Method:                 Least Squares   F-statistic:                 1.270e+29\n",
       "Date:                Fri, 20 Apr 2018   Prob (F-statistic):               0.00\n",
       "Time:                        19:52:02   Log-Likelihood:                 693.17\n",
       "No. Observations:                  30   AIC:                            -1378.\n",
       "Df Residuals:                      26   BIC:                            -1373.\n",
       "Df Model:                           3                                         \n",
       "Covariance Type:            nonrobust                                         \n",
       "==============================================================================\n",
       "                 coef    std err          t      P>|t|      [0.025      0.975]\n",
       "------------------------------------------------------------------------------\n",
       "Intercept  -3.393e-12   2.08e-11     -0.163      0.871   -4.61e-11    3.93e-11\n",
       "X3            10.0000   2.66e-11   3.76e+11      0.000      10.000      10.000\n",
       "X1             7.0000   5.82e-12    1.2e+12      0.000       7.000       7.000\n",
       "X2             0.5000   2.65e-11   1.89e+10      0.000       0.500       0.500\n",
       "==============================================================================\n",
       "Omnibus:                        3.712   Durbin-Watson:                   0.009\n",
       "Prob(Omnibus):                  0.156   Jarque-Bera (JB):                3.196\n",
       "Skew:                          -0.714   Prob(JB):                        0.202\n",
       "Kurtosis:                       2.281   Cond. No.                     4.99e+03\n",
       "==============================================================================\n",
       "\n",
       "Warnings:\n",
       "[1] Standard Errors assume that the covariance matrix of the errors is correctly specified.\n",
       "[2] The condition number is large, 4.99e+03. This might indicate that there are\n",
       "strong multicollinearity or other numerical problems.\n",
       "\"\"\""
      ]
     },
     "execution_count": 155,
     "metadata": {},
     "output_type": "execute_result"
    }
   ],
   "source": [
    "result = forward_aic(Y, data)\n",
    "result.summary()"
   ]
  },
  {
   "cell_type": "markdown",
   "metadata": {},
   "source": [
    "model 구축에 있어서,  $X_4$ 항은  $X1$ 항과 매우 가깝게 관계되어 있다 (단순히 스칼라 곱). 그러나 stepwise regression 은 이를 알아채지 못하고 변수를 remove 한 뒤  $X_1$ 항의 계수를 보정해 주었다. 우리의 결정은 $X_4$ 항을 model 에서 제외하는 것이고 stepwise regression 의 한계를 보여주고 있다. model 의 건전성을 처방하는 다른 방법도 있는고 개별 변수들에게 다른 정도의 penalty 를 주는 더 복잡한 model 이다."
   ]
  },
  {
   "cell_type": "code",
   "execution_count": null,
   "metadata": {},
   "outputs": [],
   "source": []
  }
 ],
 "metadata": {
  "kernelspec": {
   "display_name": "Python 3",
   "language": "python",
   "name": "python3"
  },
  "language_info": {
   "codemirror_mode": {
    "name": "ipython",
    "version": 3
   },
   "file_extension": ".py",
   "mimetype": "text/x-python",
   "name": "python",
   "nbconvert_exporter": "python",
   "pygments_lexer": "ipython3",
   "version": "3.6.5"
  }
 },
 "nbformat": 4,
 "nbformat_minor": 1
}
