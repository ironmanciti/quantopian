{
 "cells": [
  {
   "cell_type": "markdown",
   "metadata": {},
   "source": [
    "# Chapter 18. Residual Analysis\n",
    "\n",
    "Residuals (the difference between a model's prediction and the observed values) provide an essential tool for diagnosing assumption violations in regression models. Should the underlying data of a regression model not satisfy basic assumptions like independence of residuals, constant variance, and linear form, the results are potentially invalid. Fortunately, for almost every violation there exists a method to transform the data into an assumption-satisfying form. A least squares regression is one of the most basic and widely used models in statistics and we ought to use residual analysis to ensure correct usage. The scope of this notebook includes residual basics and calculation, error, residual plots, and tests and fixes for common regression assumption violations.\n",
    "\n",
    "## Linear Regression\n",
    "\n",
    "Linear regression is one of our most fundamental modeling techniques. We use it to estimate a linear relationship between a set of independent variables $X_i$ and a dependent outcome variable $y$. Our model takes the form of:\n",
    "\n",
    "$$ y_i = \\beta_{0} 1 + \\beta_{i, 1} x_{i, 1} + \\dots + \\beta_{i, p} x_{i, p} + \\epsilon_i = x_i'\\beta + \\epsilon_i $$\n",
    "\n",
    "For $i \\in \\{1, \\dots, n\\}$, where $n$ is the number of observations. We write this in vector form as:\n",
    "\n",
    "$$ y = X\\beta + \\epsilon $$\n",
    "\n",
    "Where $y$ is a $n \\times 1$ vector, $X$ is a $n \\times p$ matrix, $\\beta$ is a $p \\times 1$ vector of coefficients, and $\\epsilon$ is a standard normal error term. Typically we call a model with $p = 1$ a simple linear regression and a model with $p > 1$ a multiple linear regression. More background information on regressions can be found in the lectures on [simple linear regression](https://www.quantopian.com/lectures#Linear-Regression) and [multiple linear regression](https://www.quantopian.com/lectures#Multiple-Linear-Regression).\n",
    "\n",
    "Whenever we build a model, there will be gaps between what a model predicts and what is observed in the sample. The differences between these values are known as the residuals of the model and can be used to check for some of the basic assumptions that go into the model. The key assumptions to check for are:\n",
    "\n",
    "* **Linear Fit:** The underlying relationship should be linear\n",
    "* **Homoscedastic:** The data should have no trend in the variance\n",
    "* **Independent and Identically Distributed:** The residuals of the regression should be independent and identically distributed (i.i.d.) and show no signs of serial correlation\n",
    "\n",
    "residual 을 이용하면 우리가 estimate 한 관계가 실제인지 가짜인지 diagnose 하는데 도움을 받을 수 있다.\n",
    "\n",
    "Statistical error is a similar metric associated with regression analysis with one important difference: While residuals quantify the gap between a regression model predictions and the observed sample, statistical error is the difference between a regression model and the unobservable expected value. We use residuals in an attempt to estimate this error."
   ]
  },
  {
   "cell_type": "code",
   "execution_count": 36,
   "metadata": {},
   "outputs": [],
   "source": [
    "# Import libraries\n",
    "import numpy as np\n",
    "import pandas as pd\n",
    "from statsmodels import regression\n",
    "import statsmodels.api as sm\n",
    "import statsmodels.stats.diagnostic as smd\n",
    "import scipy.stats as stats\n",
    "import matplotlib.pyplot as plt\n",
    "import math"
   ]
  },
  {
   "cell_type": "markdown",
   "metadata": {},
   "source": [
    "# Simple Linear Regression\n",
    "\n",
    "First we'll define a function that performs linear regression and plots the results."
   ]
  },
  {
   "cell_type": "code",
   "execution_count": 37,
   "metadata": {},
   "outputs": [],
   "source": [
    "def linreg(X,Y):\n",
    "    # Running the linear regression\n",
    "    X = sm.add_constant(X)\n",
    "    model = sm.OLS(Y, X).fit()\n",
    "    B0 = model.params[0]\n",
    "    B1 = model.params[1]\n",
    "    X = X[:, 1]\n",
    "\n",
    "    # Return summary of the regression and plot results\n",
    "    X2 = np.linspace(X.min(), X.max(), 100)\n",
    "    Y_hat = X2 * B1 + B0\n",
    "    plt.scatter(X, Y, alpha=1) # Plot the raw data\n",
    "    plt.plot(X2, Y_hat, 'r', alpha=1);  # Add the regression line, colored in red\n",
    "    plt.xlabel('X Value')\n",
    "    plt.ylabel('Y Value')\n",
    "    return model, B0, B1"
   ]
  },
  {
   "cell_type": "markdown",
   "metadata": {},
   "source": [
    "Let's define a toy relationship between $X$ and $Y$ that we can model with a linear regression. Here we define the relationship and construct a model on it, drawing the determined line of best fit with the regression parameters."
   ]
  },
  {
   "cell_type": "code",
   "execution_count": 38,
   "metadata": {
    "scrolled": false
   },
   "outputs": [
    {
     "name": "stdout",
     "output_type": "stream",
     "text": [
      "Line of best fit: Y = 9.141490115210244 + 0.5099068048987101*X\n"
     ]
    },
    {
     "data": {
      "image/png": "[encoded data removed]",
      "text/plain": [
       "<Figure size 432x288 with 1 Axes>"
      ]
     },
     "metadata": {},
     "output_type": "display_data"
    }
   ],
   "source": [
    "n = 50\n",
    "X = np.random.randint(0, 100, n)\n",
    "epsilon = np.random.normal(0, 1, n)\n",
    "\n",
    "Y = 10 + 0.5 * X + epsilon\n",
    "\n",
    "linreg(X,Y)[0];\n",
    "print(\"Line of best fit: Y = {0} + {1}*X\".format(linreg(X, Y)[1], linreg(X, Y)[2]))"
   ]
  },
  {
   "cell_type": "markdown",
   "metadata": {},
   "source": [
    "This toy example has some generated noise, but all real data will also have noise. This is inherent in sampling from any sort of wild data-generating process. As a result, our line of best fit will never exactly fit the data (which is why it is only \"best\", not \"perfect\"). Having a model that fits every single observation that you have is a sure sign of [overfitting](https://www.quantopian.com/lectures/the-dangers-of-overfitting).\n",
    "\n",
    "For all fit models, there will be a difference between what the regression model predicts and what was observed, which is where residuals come in."
   ]
  },
  {
   "cell_type": "markdown",
   "metadata": {},
   "source": [
    "## Residuals\n",
    "\n",
    "The definition of a residual is the difference between what is observed in the sample and what is predicted by the regression. For any residual $r_i$, we express this as \n",
    "\n",
    "$$r_i = Y_i - \\hat{Y_i}$$\n",
    "\n",
    "Where $Y_i$ is the observed $Y$-value and $\\hat{Y}_i$ is the predicted Y-value. We plot these differences on the following graph:"
   ]
  },
  {
   "cell_type": "code",
   "execution_count": 39,
   "metadata": {
    "scrolled": false
   },
   "outputs": [
    {
     "data": {
      "image/png": "[encoded data removed]",
      "text/plain": [
       "<Figure size 432x288 with 1 Axes>"
      ]
     },
     "metadata": {},
     "output_type": "display_data"
    }
   ],
   "source": [
    "model, B0, B1 = linreg(X,Y)\n",
    "\n",
    "residuals = model.resid\n",
    "plt.errorbar(X,Y,xerr=0,yerr=[residuals,0*residuals],linestyle=\"None\",color='Green');"
   ]
  },
  {
   "cell_type": "markdown",
   "metadata": {},
   "source": [
    "We can pull the residuals directly out of the fit model."
   ]
  },
  {
   "cell_type": "code",
   "execution_count": 40,
   "metadata": {
    "scrolled": true
   },
   "outputs": [
    {
     "name": "stdout",
     "output_type": "stream",
     "text": [
      "[ 1.08009347e+00  1.51366598e+00  7.22283625e-01  5.66977788e-01\n",
      "  1.26672114e-01  1.08922204e-01 -1.29019082e+00 -1.55778789e-01\n",
      "  7.33348448e-01  1.04946399e+00  5.53826188e-01  1.42700118e+00\n",
      " -7.54566628e-01 -1.57641011e+00 -1.18189386e+00  1.15532098e+00\n",
      " -1.13373035e+00 -2.31773130e+00 -4.27066085e-01  8.39758315e-01\n",
      " -4.09257358e-01 -3.66728443e-01 -1.18057447e+00  2.30718307e-01\n",
      "  9.27104443e-01  5.29026253e-01 -1.32892696e+00  4.39991467e-01\n",
      " -1.31311374e+00  3.75377174e-01 -1.75903346e-01 -2.15931842e-01\n",
      "  6.35245778e-01  1.05016752e+00 -3.79255160e-02 -7.29760862e-01\n",
      " -2.57548634e+00 -8.28162326e-01  4.95492243e-01 -1.41713739e+00\n",
      "  2.24343552e+00 -3.15969520e-01  2.31979278e-01  7.79511891e-03\n",
      "  6.54850266e-01  7.73676408e-02  1.26462527e+00  5.69327537e-01\n",
      "  1.24424404e-01 -2.01642970e-03]\n"
     ]
    }
   ],
   "source": [
    "residuals = model.resid\n",
    "print(residuals)"
   ]
  },
  {
   "cell_type": "markdown",
   "metadata": {},
   "source": [
    "# Diagnosing Residuals\n",
    "\n",
    "Many of the assumptions that are necessary to have a valid linear regression model can be checked by identifying patterns in the residuals of that model. We can make a quick visual check by looking at the residual plot of a given model.\n",
    "\n",
    "With a residual plot, we look at the predicted values of the model versus the residuals themselves. What we want to see is just a cloud of unrelated points, like so:"
   ]
  },
  {
   "cell_type": "code",
   "execution_count": 41,
   "metadata": {
    "scrolled": false
   },
   "outputs": [
    {
     "data": {
      "image/png": "[encoded data removed]",
      "text/plain": [
       "<Figure size 432x288 with 1 Axes>"
      ]
     },
     "metadata": {},
     "output_type": "display_data"
    }
   ],
   "source": [
    "plt.scatter(model.predict(), residuals);\n",
    "plt.axhline(0, color='red')\n",
    "plt.xlabel('Predicted Values');\n",
    "plt.ylabel('Residuals');\n",
    "plt.xlim([1,50]);"
   ]
  },
  {
   "cell_type": "markdown",
   "metadata": {},
   "source": [
    "위와 같이 residual 이 불규칙한 분포를 보이는 것이 우리가 원하는 모양이다. 식별할 수 있는 pattern 이 없어야 한고 그 것은 단순한 linear model 이 잘 맞는 것을 보여준다. 어떤 trend 를 보게 되면 자기상관성 혹은 heteroscedasticity 가 model 에 있다는 것을 보여주는 것일 수 있다."
   ]
  },
  {
   "cell_type": "markdown",
   "metadata": {},
   "source": [
    "## Appropriateness of a Linear Model\n",
    "\n",
    "By looking for patterns in residual plots we can determine whether a linear model is appropriate in the first place. A plain linear regression would not be appropriate for an underlying relationship of the form:\n",
    "\n",
    "$$Y = \\beta_0 + \\beta_1 X^2$$\n",
    "\n",
    "as a linear function would not be able to fully explain the relationship between $X$ and $Y$.\n",
    "\n",
    "If the relationship is not a good fit for a linear model, the residual plot will show a distinct pattern. In general, a residual plot of a linear regression on a non-linear relationship will show bias and be asymmetrical with respect to residual = 0 line while a residual plot of a linear regression on a linear relationship will be generally symmetrical over the residual = 0 axis.\n",
    "\n",
    "As an example, let's consider a new relationship between the variables $X$ and $Y$ that incorporates a quadratic term."
   ]
  },
  {
   "cell_type": "code",
   "execution_count": 43,
   "metadata": {
    "scrolled": false
   },
   "outputs": [
    {
     "name": "stdout",
     "output_type": "stream",
     "text": [
      "beta_0:  15.917524367750111\n",
      "beta_1:  -2.226157199820887\n"
     ]
    },
    {
     "data": {
      "image/png": "[encoded data removed]",
      "text/plain": [
       "<Figure size 432x288 with 1 Axes>"
      ]
     },
     "metadata": {},
     "output_type": "display_data"
    }
   ],
   "source": [
    "n = 50\n",
    "X = np.random.randint(0, 50, n)\n",
    "epsilon = np.random.normal(0, 1, n)\n",
    "Y_nonlinear = 10 - X**1.2 + epsilon\n",
    "\n",
    "model = sm.OLS(Y_nonlinear, sm.add_constant(X)).fit()\n",
    "B0, B1 = model.params\n",
    "residuals = model.resid\n",
    "\n",
    "print('beta_0: ', B0)\n",
    "print('beta_1: ', B1)\n",
    "plt.scatter(model.predict(), residuals);\n",
    "plt.axhline(0, color='red')\n",
    "plt.xlabel('Predicted Values');\n",
    "plt.ylabel('Residuals');"
   ]
  },
  {
   "cell_type": "markdown",
   "metadata": {},
   "source": [
    "위와 같은 residual 의 \"역-U\" 자형 모양은 linear model 보다 non-linear model 이 data 에 더 잘 맞음을 보여주는 표시이다."
   ]
  },
  {
   "cell_type": "markdown",
   "metadata": {},
   "source": [
    "## Heteroscedasticity\n",
    "\n",
    "One of the main assumptions behind a linear regression is that the underlying data has a constant variance. If there are some parts of the data with a variance different from another part the data is not appropriate for a linear regression. **Heteroscedasticity** is a term that refers to data with non-constant variance, as opposed to homoscedasticity, when data has constant variance.\n",
    "\n",
    "Significant heteroscedasticity invalidates linear regression results by biasing the standard error of the model. As a result, we can't trust the outcomes of significance tests and confidence intervals generated from the model and its parameters.\n",
    "\n",
    "To avoid these consequences it is important to use residual plots to check for heteroscedasticity and adjust if necessary.\n",
    "\n",
    "As an example of detecting and correcting heteroscedasticity, let's consider yet another relationship between $X$ and $Y$:"
   ]
  },
  {
   "cell_type": "code",
   "execution_count": 44,
   "metadata": {
    "scrolled": false
   },
   "outputs": [
    {
     "data": {
      "image/png": "[encoded data removed]",
      "text/plain": [
       "<Figure size 432x288 with 1 Axes>"
      ]
     },
     "metadata": {},
     "output_type": "display_data"
    }
   ],
   "source": [
    "n = 50\n",
    "X = np.random.randint(0, 100, n)\n",
    "epsilon = np.random.normal(0, 1, n)\n",
    "Y_heteroscedastic = 100 + 2*X + epsilon*X\n",
    "\n",
    "model = sm.OLS(Y_heteroscedastic, sm.add_constant(X)).fit()\n",
    "B0, B1 = model.params\n",
    "residuals = model.resid\n",
    "\n",
    "plt.scatter(model.predict(), residuals);\n",
    "plt.axhline(0, color='red')\n",
    "plt.xlabel('Predicted Values');\n",
    "plt.ylabel('Residuals');"
   ]
  },
  {
   "cell_type": "markdown",
   "metadata": {},
   "source": [
    "Heteroscedasticity 는 종종 위 그림처럼 한쪽에서 다른 쪽으로 tapered cloud 형태를 띄는데 x 축을 따라 residual 이 명백히 증가하고 있다. linear regression 은 이 같은 varying variability 를 설명할 수 없고 regression standared error 는 편향된다.\n",
    "\n",
    "### Statistical Methods for Detecting Heteroscedasticity\n",
    "\n",
    "Generally, we  want to back up qualitative observations on a residual plot with a quantitative method. The residual plot led us to believe that the data might be heteroscedastic. Let's confirm that result with a statistical test.\n",
    "\n",
    "A common way to test for the presence of heteroscedasticity is the Breusch-Pagan hypothesis test. It's good to combine the qualitative analysis of a residual plot with the quantitative analysis of at least one hypothesis test. We can add the White test as well, but for now we will use only Breush-Pagan to test our relationship above. A function exists in the `statsmodels` package called `het_breushpagan` that simplifies the computation:"
   ]
  },
  {
   "cell_type": "code",
   "execution_count": 45,
   "metadata": {
    "scrolled": true
   },
   "outputs": [
    {
     "name": "stdout",
     "output_type": "stream",
     "text": [
      "0.013442318938609445\n",
      "The relationship is heteroscedastic.\n"
     ]
    },
    {
     "name": "stderr",
     "output_type": "stream",
     "text": [
      "C:\\Users\\trimu\\Miniconda3\\envs\\py36_32\\lib\\site-packages\\ipykernel_launcher.py:1: DeprecationWarning: `het_breushpagan` is deprecated, use `het_breuschpagan` instead!\n",
      "Use het_breuschpagan, het_breushpagan will be removed in 0.9 \n",
      "(Note: misspelling missing 'c')\n",
      "  \"\"\"Entry point for launching an IPython kernel.\n"
     ]
    }
   ],
   "source": [
    "breusch_pagan_p = smd.het_breushpagan(model.resid, model.model.exog)[1]\n",
    "print(breusch_pagan_p)\n",
    "if breusch_pagan_p > 0.05:\n",
    "    print(\"The relationship is not heteroscedastic.\")\n",
    "if breusch_pagan_p < 0.05:\n",
    "    print(\"The relationship is heteroscedastic.\")"
   ]
  },
  {
   "cell_type": "markdown",
   "metadata": {},
   "source": [
    "We set our confidence level at $\\alpha = 0.05$, so a Breusch-Pagan p-value below $0.05$ tells us that the relationship is heteroscedastic. For more on hypothesis tests and interpreting p-values, refer to the [lecture on hypothesis testing.](https://www.quantopian.com/research/notebooks/Cloned%20from%20%22Quantopian%20Lecture%20Series%3A%20Hypothesis%20Testing%22%201.ipynb). Using a hypothesis test bears the risk of a false positive or a false negative, which is why it can be good to confirm with additional tests if we are skeptical."
   ]
  },
  {
   "cell_type": "markdown",
   "metadata": {},
   "source": [
    "### Heteroscedasticity 보정\n",
    "\n",
    "If, after creating a residual plot and conducting tests, you believe you have heteroscedasticity, there are a number of methods you can use to attempt to adjust for it. The three we will focus on are differences analysis, log transformations, and Box-Cox transformations."
   ]
  },
  {
   "cell_type": "markdown",
   "metadata": {},
   "source": [
    "#### Differences Analysis\n",
    "\n",
    "A differences analysis involves looking at the first-order differences between adjacent values. With this, we are looking at the changes from period to period of an independent variable rather than looking directly at its values. Often, by looking at the differences instead of the raw values, we can remove heteroscedasticity. We correct for it and can use the ensuing model on the differences."
   ]
  },
  {
   "cell_type": "code",
   "execution_count": 46,
   "metadata": {
    "scrolled": true
   },
   "outputs": [],
   "source": [
    "# Finding first-order differences in Y_heteroscedastic\n",
    "Y_heteroscedastic_diff = np.diff(Y_heteroscedastic)"
   ]
  },
  {
   "cell_type": "markdown",
   "metadata": {},
   "source": [
    "Now that we have stored the first-order differences of `Y_heteroscedastic` in `Y_heteroscedastic_diff` let's repeat the regression and residual plot to see if the heteroscedasticity is still present:"
   ]
  },
  {
   "cell_type": "code",
   "execution_count": 47,
   "metadata": {},
   "outputs": [
    {
     "data": {
      "image/png": "[encoded data removed]",
      "text/plain": [
       "<Figure size 432x288 with 1 Axes>"
      ]
     },
     "metadata": {},
     "output_type": "display_data"
    }
   ],
   "source": [
    "model = sm.OLS(Y_heteroscedastic_diff, sm.add_constant(X[1:])).fit()\n",
    "B0, B1 = model.params\n",
    "residuals = model.resid\n",
    "\n",
    "plt.scatter(model.predict(), residuals);\n",
    "plt.axhline(0, color='red')\n",
    "plt.xlabel('Predicted Values');\n",
    "plt.ylabel('Residuals');"
   ]
  },
  {
   "cell_type": "code",
   "execution_count": 48,
   "metadata": {},
   "outputs": [
    {
     "name": "stdout",
     "output_type": "stream",
     "text": [
      "0.6983922606634987\n",
      "The relationship is not heteroscedastic.\n"
     ]
    },
    {
     "name": "stderr",
     "output_type": "stream",
     "text": [
      "C:\\Users\\trimu\\Miniconda3\\envs\\py36_32\\lib\\site-packages\\ipykernel_launcher.py:1: DeprecationWarning: `het_breushpagan` is deprecated, use `het_breuschpagan` instead!\n",
      "Use het_breuschpagan, het_breushpagan will be removed in 0.9 \n",
      "(Note: misspelling missing 'c')\n",
      "  \"\"\"Entry point for launching an IPython kernel.\n"
     ]
    }
   ],
   "source": [
    "breusch_pagan_p = smd.het_breushpagan(residuals, model.model.exog)[1]\n",
    "print(breusch_pagan_p)\n",
    "if breusch_pagan_p > 0.05:\n",
    "    print(\"The relationship is not heteroscedastic.\")\n",
    "if breusch_pagan_p < 0.05:\n",
    "    print(\"The relationship is heteroscedastic.\")"
   ]
  },
  {
   "cell_type": "markdown",
   "metadata": {},
   "source": [
    "*Note: This new regression was conducted on the differences between data, and therefore the regression output must be back-transformed to reach a prediction in the original scale. Since we regressed the differences, we can add our predicted difference onto the original data to get our estimate:*\n",
    "\n",
    "$$\\hat{Y_i} = Y_{i-1} + \\hat{Y}_{diff}$$"
   ]
  },
  {
   "cell_type": "markdown",
   "metadata": {},
   "source": [
    "#### Logarithmic Transformation\n",
    "\n",
    "Next, we apply a log transformation to the underlying data. A log transformation will bring residuals closer together and ideally remove heteroscedasticity. In many (though not all) cases, a log transformation is sufficient in stabilizing the variance of a relationship."
   ]
  },
  {
   "cell_type": "code",
   "execution_count": 49,
   "metadata": {},
   "outputs": [],
   "source": [
    "# Taking the log of the previous data Y_heteroscedastic and saving it in Y_heteroscedastic_log\n",
    "Y_heteroscedastic_log = np.log(Y_heteroscedastic)"
   ]
  },
  {
   "cell_type": "markdown",
   "metadata": {},
   "source": [
    "Now that we have stored the log transformed version of `Y_heteroscedastic` in `Y_heteroscedastic_log` let's repeat the regression and residual plot to see if the heteroscedasticity is still present:"
   ]
  },
  {
   "cell_type": "code",
   "execution_count": 50,
   "metadata": {},
   "outputs": [
    {
     "data": {
      "image/png": "[encoded data removed]",
      "text/plain": [
       "<Figure size 432x288 with 1 Axes>"
      ]
     },
     "metadata": {},
     "output_type": "display_data"
    }
   ],
   "source": [
    "model = sm.OLS(Y_heteroscedastic_log, sm.add_constant(X)).fit()\n",
    "B0, B1 = model.params\n",
    "residuals = model.resid\n",
    "\n",
    "plt.scatter(model.predict(), residuals);\n",
    "plt.axhline(0, color='red')\n",
    "plt.xlabel('Predicted Values');\n",
    "plt.ylabel('Residuals');"
   ]
  },
  {
   "cell_type": "code",
   "execution_count": 51,
   "metadata": {},
   "outputs": [
    {
     "name": "stdout",
     "output_type": "stream",
     "text": [
      "0.24679971958379868\n",
      "The relationship is not heteroscedastic.\n"
     ]
    },
    {
     "name": "stderr",
     "output_type": "stream",
     "text": [
      "C:\\Users\\trimu\\Miniconda3\\envs\\py36_32\\lib\\site-packages\\ipykernel_launcher.py:2: DeprecationWarning: `het_breushpagan` is deprecated, use `het_breuschpagan` instead!\n",
      "Use het_breuschpagan, het_breushpagan will be removed in 0.9 \n",
      "(Note: misspelling missing 'c')\n",
      "  \n"
     ]
    }
   ],
   "source": [
    "# Running and interpreting a Breusch-Pagan test\n",
    "breusch_pagan_p = smd.het_breushpagan(residuals, model.model.exog)[1]\n",
    "print(breusch_pagan_p)\n",
    "if breusch_pagan_p > 0.05:\n",
    "    print(\"The relationship is not heteroscedastic.\")\n",
    "if breusch_pagan_p < 0.05:\n",
    "    print (\"The relationship is heteroscedastic.\")"
   ]
  },
  {
   "cell_type": "markdown",
   "metadata": {},
   "source": [
    "*Note: This new regression was conducted on the log of the original data. This means the scale has been altered and the regression estimates will lie on this transformed scale. To bring the estimates back to the original scale, you must back-transform the values using the inverse of the log:*\n",
    "\n",
    "$$\\hat{Y} = e^{\\log(\\hat{Y})}$$"
   ]
  },
  {
   "cell_type": "markdown",
   "metadata": {},
   "source": [
    "#### Box-Cox Transformation\n",
    "\n",
    "Finally, we examine the Box-Cox transformation. The Box-Cox transformation is a powerful method that will work on many types of heteroscedastic relationships. The process works by testing all values of $\\lambda$ within the range $[-5, 5]$ to see which makes the output of the following equation closest to being normally distributed:\n",
    "$$\n",
    "Y^{(\\lambda)} = \\begin{cases}\n",
    "    \\frac{Y^{\\lambda}-1}{\\lambda} & : \\lambda \\neq 0\\\\ \\log{Y} & : \\lambda = 0\n",
    "\\end{cases}\n",
    "$$\n",
    "\n",
    "The \"best\" $\\lambda$ will be used to transform the series along the above function. Instead of having to do all of this manually, we can simply use the `scipy` function `boxcox`. We use this to adjust $Y$ and hopefully remove heteroscedasticity.\n",
    "\n",
    "*Note: The Box-Cox transformation can only be used if all the data is positive* "
   ]
  },
  {
   "cell_type": "code",
   "execution_count": 52,
   "metadata": {},
   "outputs": [],
   "source": [
    "# Finding a power transformation adjusted Y_heteroscedastic\n",
    "Y_heteroscedastic_box_cox = stats.boxcox(Y_heteroscedastic)[0]"
   ]
  },
  {
   "cell_type": "markdown",
   "metadata": {},
   "source": [
    "Now that we have stored the power transformed version of `Y_heteroscedastic` in `Y_heteroscedastic_prime` let's repeat the regression and residual plot to see if the heteroscedasticity is still present:"
   ]
  },
  {
   "cell_type": "code",
   "execution_count": 53,
   "metadata": {
    "scrolled": false
   },
   "outputs": [
    {
     "data": {
      "image/png": "[encoded data removed]",
      "text/plain": [
       "<Figure size 432x288 with 1 Axes>"
      ]
     },
     "metadata": {},
     "output_type": "display_data"
    }
   ],
   "source": [
    "model = sm.OLS(Y_heteroscedastic_box_cox, sm.add_constant(X)).fit()\n",
    "B0, B1 = model.params\n",
    "residuals = model.resid\n",
    "\n",
    "plt.scatter(model.predict(), residuals);\n",
    "plt.axhline(0, color='red')\n",
    "plt.xlabel('Predicted Values');\n",
    "plt.ylabel('Residuals');"
   ]
  },
  {
   "cell_type": "code",
   "execution_count": 54,
   "metadata": {},
   "outputs": [
    {
     "name": "stdout",
     "output_type": "stream",
     "text": [
      "0.06163291578292886\n",
      "The relationship is not heteroscedastic.\n"
     ]
    },
    {
     "name": "stderr",
     "output_type": "stream",
     "text": [
      "C:\\Users\\trimu\\Miniconda3\\envs\\py36_32\\lib\\site-packages\\ipykernel_launcher.py:2: DeprecationWarning: `het_breushpagan` is deprecated, use `het_breuschpagan` instead!\n",
      "Use het_breuschpagan, het_breushpagan will be removed in 0.9 \n",
      "(Note: misspelling missing 'c')\n",
      "  \n"
     ]
    }
   ],
   "source": [
    "# Running and interpreting a Breusch-Pagan test\n",
    "breusch_pagan_p = smd.het_breushpagan(residuals, model.model.exog)[1]\n",
    "print (breusch_pagan_p)\n",
    "if breusch_pagan_p > 0.05:\n",
    "    print(\"The relationship is not heteroscedastic.\")\n",
    "if breusch_pagan_p < 0.05:\n",
    "    print(\"The relationship is heteroscedastic.\")"
   ]
  },
  {
   "cell_type": "markdown",
   "metadata": {},
   "source": [
    "*Note: Now that the relationship is not heteroscedastic, a linear regression is appropriate. However, because the data was power transformed, the regression estimates will be on a different scale than the original data. This is why it is important to remember to back-transform results using the inverse of the Box-Cox function:*\n",
    "\n",
    "$$\\hat{Y} = (Y^{(\\lambda)}\\lambda + 1)^{1/\\lambda}$$\n"
   ]
  },
  {
   "cell_type": "markdown",
   "metadata": {},
   "source": [
    "### GARCH Modeling\n",
    "\n",
    "Another approach to dealing with heteroscadasticity is through a GARCH (generalized autoregressive conditional heteroscedasticity) model. More information can be found in the [lecture on GARCH modeling](https://www.quantopian.com/lectures#ARCH,-GARCH,-and-GMM)."
   ]
  },
  {
   "cell_type": "markdown",
   "metadata": {},
   "source": [
    "## Residuals and Autocorrelation\n",
    "\n",
    "Another assumption behind linear regressions is that the residuals are not autocorrelated. A series is autocorrelated when it is correlated with a delayed version of itself. An example of a potentially autocorrelated time series series would be daily high temperatures. Today's temperature gives you information on tomorrow's temperature with reasonable confidence (i.e. if it is 90 °F today, you can be very confident that it will not be below freezing tomorrow). A series of fair die rolls, however, would not be autocorrelated as seeing one roll gives you no information on what the next might be. Each roll is independent of the last.\n",
    "\n",
    "In finance, stock prices are usually autocorrelated while stock returns are independent from one day to the next. We represent a time dependency on previous values like so:\n",
    "\n",
    "$$Y_i = Y_{i-1} + \\epsilon$$\n",
    "\n",
    "If the residuals of a model are autocorrelated, you will be able to make predictions about adjacent residuals. In the case of $Y$, we know the data will be autocorrelated because we can make predictions based on adjacent residuals being close to one another."
   ]
  },
  {
   "cell_type": "code",
   "execution_count": 55,
   "metadata": {
    "scrolled": false
   },
   "outputs": [
    {
     "data": {
      "image/png": "[encoded data removed]",
      "text/plain": [
       "<Figure size 432x288 with 1 Axes>"
      ]
     },
     "metadata": {},
     "output_type": "display_data"
    }
   ],
   "source": [
    "n = 50\n",
    "X = np.linspace(0, n, n)\n",
    "Y_autocorrelated = np.zeros(n)\n",
    "Y_autocorrelated[0] = 50\n",
    "for t in range(1, n):\n",
    "    Y_autocorrelated[t] = Y_autocorrelated[t-1] + np.random.normal(0, 1) \n",
    "\n",
    "# Regressing X and Y_autocorrelated\n",
    "model = sm.OLS(Y_autocorrelated, sm.add_constant(X)).fit()\n",
    "B0, B1 = model.params\n",
    "residuals = model.resid\n",
    "\n",
    "plt.scatter(model.predict(), residuals);\n",
    "plt.axhline(0, color='red')\n",
    "plt.xlabel('Predicted Values');\n",
    "plt.ylabel('Residuals');"
   ]
  },
  {
   "cell_type": "markdown",
   "metadata": {},
   "source": [
    "Autocorrelation in the residuals in this example is not explicitly obvious, so our check is more to make absolutely certain.\n",
    "\n",
    "### Statistical Methods for Detecting Autocorrelation\n",
    "\n",
    "As with all statistical properties, we require a statistical test to ultimately decide whether there is autocorrelation in our residuals or not. To this end, we use a Ljung-Box test.\n",
    "\n",
    "A Ljung-Box test is used to detect autocorrelation in a time series. The Ljung-Box test examines autocorrelation at all lag intervals below a specified maximum and returns arrays containing the outputs for every tested lag interval.\n",
    "\n",
    "Let's use the `acorr_ljungbox` function in `statsmodels` to test for autocorrelation in the residuals of our above model. We use a max lag interval of $10$, and see if any of the lags have significant autocorrelation:"
   ]
  },
  {
   "cell_type": "code",
   "execution_count": 56,
   "metadata": {
    "scrolled": true
   },
   "outputs": [
    {
     "name": "stdout",
     "output_type": "stream",
     "text": [
      "Lagrange Multiplier Statistics: [38.9409675  61.72098812 74.80392081 81.98397797 84.32478574 84.56935719\n",
      " 84.63232579 84.95938488 85.55676913 86.65327582]\n",
      "\n",
      "P-values: [4.36816729e-10 3.95783534e-14 3.99145118e-16 6.61563943e-17\n",
      " 1.04283179e-16 4.05384888e-16 1.55886954e-15 4.88327637e-15\n",
      " 1.26287854e-14 2.46202870e-14] \n",
      "\n",
      "The residuals are autocorrelated.\n"
     ]
    }
   ],
   "source": [
    "ljung_box = smd.acorr_ljungbox(residuals, lags = 10)\n",
    "print(\"Lagrange Multiplier Statistics:\", ljung_box[0])\n",
    "print(\"\\nP-values:\", ljung_box[1], \"\\n\")\n",
    "\n",
    "if any(ljung_box[1] < 0.05):\n",
    "    print(\"The residuals are autocorrelated.\")\n",
    "else:\n",
    "    print(\"The residuals are not autocorrelated.\")"
   ]
  },
  {
   "cell_type": "markdown",
   "metadata": {},
   "source": [
    "Because the Ljung-Box test yielded a p-value below $0.05$ for at least one lag interval, we can conclude that the residuals of our model are autocorrelated."
   ]
  },
  {
   "cell_type": "markdown",
   "metadata": {},
   "source": [
    "## Adjusting for Autocorrelation\n",
    "\n",
    "We can adjust for autocorrelation in many of the same ways that we adjust for heteroscedasticity. Let's see if a model on the first-order differences of $Y$ has autocorrelated residuals:"
   ]
  },
  {
   "cell_type": "code",
   "execution_count": 57,
   "metadata": {},
   "outputs": [],
   "source": [
    "# Finding first-order differences in Y_autocorrelated\n",
    "Y_autocorrelated_diff = np.diff(Y_autocorrelated)"
   ]
  },
  {
   "cell_type": "code",
   "execution_count": 58,
   "metadata": {
    "scrolled": false
   },
   "outputs": [
    {
     "name": "stdout",
     "output_type": "stream",
     "text": [
      "P-values: [0.0074319  0.0110457  0.02671184 0.05622113 0.06276485 0.09418527\n",
      " 0.12689404 0.12354474 0.17787486 0.2381307 ] \n",
      "\n",
      "The residuals are autocorrelated.\n"
     ]
    },
    {
     "data": {
      "image/png": "[encoded data removed]",
      "text/plain": [
       "<Figure size 432x288 with 1 Axes>"
      ]
     },
     "metadata": {},
     "output_type": "display_data"
    }
   ],
   "source": [
    "model = sm.OLS(Y_autocorrelated_diff, sm.add_constant(X[1:])).fit()\n",
    "B0, B1 = model.params\n",
    "residuals = model.resid\n",
    "\n",
    "plt.scatter(model.predict(), residuals);\n",
    "plt.axhline(0, color='red')\n",
    "plt.xlabel('Predicted Values');\n",
    "plt.ylabel('Residuals');\n",
    "\n",
    "# Running and interpreting a Ljung-Box test\n",
    "ljung_box = smd.acorr_ljungbox(residuals, lags = 10)\n",
    "print(\"P-values:\", ljung_box[1], \"\\n\")\n",
    "\n",
    "if any(ljung_box[1] < 0.05):\n",
    "    print(\"The residuals are autocorrelated.\")\n",
    "else:\n",
    "    print(\"The residuals are not autocorrelated.\")"
   ]
  },
  {
   "cell_type": "markdown",
   "metadata": {},
   "source": [
    "*Note: This new regression was conducted on the differences between data, and therefore the regression output must be back-transformed to reach a prediction in the original scale. Since we regressed the differences, we can add our predicted difference onto the original data to get our estimate:*\n",
    "\n",
    "$$\\hat{Y_i} = Y_{i-1} + \\hat{Y_{diff}}$$"
   ]
  },
  {
   "cell_type": "markdown",
   "metadata": {},
   "source": [
    "We can also perform a log transformation, if we so choose. This process is identical to the one we performed on the heteroscedastic data up above, so we will leave it out this time."
   ]
  },
  {
   "cell_type": "markdown",
   "metadata": {},
   "source": [
    "# Example: Market Beta Calculation\n",
    "\n",
    "Let's calculate the market beta between TSLA and SPY using a simple linear regression, and then conduct a residual analysis on the regression to ensure the validity of our results. To regress TSLA and SPY, we will focus on their returns, not their price, and set SPY returns as our independent variable and TSLA returns as our outcome variable. The regression will give us a line of best fit: \n",
    "\n",
    "$$\\hat{r_{TSLA}} = \\hat{\\beta_0} + \\hat{\\beta_1}r_{SPY}$$\n",
    "\n",
    "The slope of the regression line $\\hat{\\beta_1}$ will represent our market beta, as for every $r$ percent change in the returns of SPY, the predicted returns of TSLA will change by $\\hat{\\beta_1}$.\n",
    "\n",
    "Let's start by conducting the regression the returns of the two assets."
   ]
  },
  {
   "cell_type": "code",
   "execution_count": null,
   "metadata": {},
   "outputs": [],
   "source": [
    "from googlefinance.client import get_price_data, get_prices_data\n",
    "import pandas as pd\n",
    "\n",
    "start = pd.to_datetime('2014-01-01')\n",
    "end = pd.to_datetime('2015-01-01')\n",
    "df = pd.DataFrame(get_price_data({'q': \"TSLA\", 'i': \"86400\", 'x': \"NASD\", 'p': \"20Y\" }))\n",
    "asset = df['Close'].loc[start : end]\n",
    "asset.index = pd.to_datetime(asset.index.date)\n",
    "\n",
    "df = get_prices_data( [{'q': \".INX\", 'x': \"INDEXSP\",}], \"20Y\")\n",
    "df.index = pd.to_datetime(df.index)\n",
    "benchmark = df['.INX_Close'].loc[start:end]\n",
    "\n",
    "# We have to take the percent changes to get to returns\n",
    "# Get rid of the first (0th) element because it is NAN\n",
    "r_a = asset.pct_change()[1:].values\n",
    "r_b = benchmark.pct_change()[1:].values\n",
    "\n",
    "# Regressing the benchmark b and asset a\n",
    "r_b = sm.add_constant(r_b)\n",
    "model = sm.OLS(r_a, r_b).fit()\n",
    "r_b = r_b[:, 1]\n",
    "B0, B1 = model.params\n",
    "\n",
    "# Plotting the regression\n",
    "A_hat = (B1*r_b + B0)\n",
    "plt.scatter(r_b, r_a, alpha=1) # Plot the raw data\n",
    "plt.plot(r_b, A_hat, 'r', alpha=1);  # Add the regression line, colored in red\n",
    "plt.xlabel('TSLA Returns')\n",
    "plt.ylabel('SPY Returns')\n",
    "\n",
    "# Print our result\n",
    "print(\"Estimated TSLA Beta:\", B1)\n",
    "\n",
    "# Calculating the residuals\n",
    "residuals = model.resid"
   ]
  },
  {
   "cell_type": "markdown",
   "metadata": {},
   "source": [
    "Our regression yielded an estimated market beta of 1.9253; according to the regression, for every 1% in return we see from the SPY, we should see 1.92% from TSLA.\n",
    "\n",
    "Now that we have the regression results and residuals, we can conduct our residual analysis. Our first step will be to plot the residuals and look for any red flags:"
   ]
  },
  {
   "cell_type": "code",
   "execution_count": 33,
   "metadata": {
    "scrolled": false
   },
   "outputs": [
    {
     "data": {
      "image/png": "[encoded data removed]",
      "text/plain": [
       "<Figure size 432x288 with 1 Axes>"
      ]
     },
     "metadata": {},
     "output_type": "display_data"
    }
   ],
   "source": [
    "plt.scatter(model.predict(), residuals);\n",
    "plt.axhline(0, color='red')\n",
    "plt.xlabel('TSLA Returns');\n",
    "plt.ylabel('Residuals');"
   ]
  },
  {
   "cell_type": "markdown",
   "metadata": {},
   "source": [
    "By simply observing the distribution of residuals, it does not seem as if there are any abnormalities. The distribution is relatively random and no patterns can be observed (the clustering around the origin is a result of the nature of returns to cluster around 0 and is not a red flag). Our qualitative conclusion is that the data is homoscedastic and not autocorrelated and therefore satisfies the assumptions for linear regression.\n",
    "\n",
    "###Breusch-Pagan Heteroscedasticity Test\n",
    "\n",
    "Our qualitative assessment of the residual plot is nicely supplemented with a couple statistical tests. Let's begin by testing for heteroscedasticity using a Breusch-Pagan test. Using the `het_breuschpagan` function from the statsmodels package:"
   ]
  },
  {
   "cell_type": "code",
   "execution_count": null,
   "metadata": {},
   "outputs": [],
   "source": [
    "bp_test = smd.het_breushpagan(residuals, model.model.exog)\n",
    "\n",
    "print \"Lagrange Multiplier Statistic:\", bp_test[0]\n",
    "print \"P-value:\", bp_test[1]\n",
    "print \"f-value:\", bp_test[2]\n",
    "print \"f_p-value:\", bp_test[3], \"\\n\"\n",
    "if bp_test[1] > 0.05:\n",
    "    print \"The relationship is not heteroscedastic.\"\n",
    "if bp_test[1] < 0.05:\n",
    "    print \"The relationship is heteroscedastic.\""
   ]
  },
  {
   "cell_type": "markdown",
   "metadata": {},
   "source": [
    "Because the P-value is greater than 0.05, we do not have enough evidence to reject the null hypothesis that the relationship is homoscedastic. This result matches up with our qualitative conclusion."
   ]
  },
  {
   "cell_type": "markdown",
   "metadata": {},
   "source": [
    "###Ljung-Box Autocorrelation Test\n",
    "\n",
    "Let's also check for autocorrelation quantitatively using a Ljung-Box test. Using the `acorr_ljungbox` function from the statsmodels package and the default maximum lag:"
   ]
  },
  {
   "cell_type": "code",
   "execution_count": null,
   "metadata": {},
   "outputs": [],
   "source": [
    "ljung_box = smd.acorr_ljungbox(r_a)\n",
    "print \"P-Values:\", ljung_box[1], \"\\n\"\n",
    "if any(ljung_box[1] < 0.05):\n",
    "    print \"The residuals are autocorrelated.\"\n",
    "else:\n",
    "    print \"The residuals are not autocorrelated.\""
   ]
  },
  {
   "cell_type": "markdown",
   "metadata": {},
   "source": [
    "Because the Ljung-Box test yielded p-values above 0.05 for all lags, we can conclude that the residuals are not autocorrelated. This result matches up with our qualitative conclusion.\n",
    "\n",
    "After having visually assessed the residual plot of the regression and then backing it up using statistical tests, we can conclude that the data satisfies the main assumptions and the linear model is valid."
   ]
  }
 ],
 "metadata": {
  "kernelspec": {
   "display_name": "Python 3",
   "language": "python",
   "name": "python3"
  },
  "language_info": {
   "codemirror_mode": {
    "name": "ipython",
    "version": 3
   },
   "file_extension": ".py",
   "mimetype": "text/x-python",
   "name": "python",
   "nbconvert_exporter": "python",
   "pygments_lexer": "ipython3",
   "version": "3.6.5"
  }
 },
 "nbformat": 4,
 "nbformat_minor": 1
}
