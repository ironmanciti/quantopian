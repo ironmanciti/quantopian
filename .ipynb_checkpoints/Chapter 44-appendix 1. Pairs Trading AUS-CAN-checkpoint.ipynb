{
 "cells": [
  {
   "cell_type": "markdown",
   "metadata": {},
   "source": [
    "# Chapter 44-appendix. Pairs Trading AUS-CAN\n",
    "\n",
    "MSCI Australia Index ETF & Canada Index ETF price 를 이용한 pair trading"
   ]
  },
  {
   "cell_type": "code",
   "execution_count": 275,
   "metadata": {
    "scrolled": true
   },
   "outputs": [],
   "source": [
    "import numpy as np\n",
    "import pandas as pd\n",
    "import matplotlib.pyplot as plt\n",
    "import statsmodels.regression.linear_model as rg\n",
    "import arch.unitroot as at\n",
    "%matplotlib inline"
   ]
  },
  {
   "cell_type": "code",
   "execution_count": 276,
   "metadata": {},
   "outputs": [],
   "source": [
    "data = pd.read_csv(\"Data//Pairs-Trading-Analysis-Data.txt\", index_col='Date', parse_dates=True)\n",
    "int1 = data.loc[:, ['aus', 'can']]"
   ]
  },
  {
   "cell_type": "code",
   "execution_count": 277,
   "metadata": {},
   "outputs": [
    {
     "data": {
      "text/html": [
       "<div>\n",
       "<style scoped>\n",
       "    .dataframe tbody tr th:only-of-type {\n",
       "        vertical-align: middle;\n",
       "    }\n",
       "\n",
       "    .dataframe tbody tr th {\n",
       "        vertical-align: top;\n",
       "    }\n",
       "\n",
       "    .dataframe thead th {\n",
       "        text-align: right;\n",
       "    }\n",
       "</style>\n",
       "<table border=\"1\" class=\"dataframe\">\n",
       "  <thead>\n",
       "    <tr style=\"text-align: right;\">\n",
       "      <th></th>\n",
       "      <th>aus</th>\n",
       "      <th>can</th>\n",
       "    </tr>\n",
       "    <tr>\n",
       "      <th>Date</th>\n",
       "      <th></th>\n",
       "      <th></th>\n",
       "    </tr>\n",
       "  </thead>\n",
       "  <tbody>\n",
       "    <tr>\n",
       "      <th>2007-01-03</th>\n",
       "      <td>14.704936</td>\n",
       "      <td>20.367802</td>\n",
       "    </tr>\n",
       "    <tr>\n",
       "      <th>2007-01-04</th>\n",
       "      <td>14.430074</td>\n",
       "      <td>20.038620</td>\n",
       "    </tr>\n",
       "  </tbody>\n",
       "</table>\n",
       "</div>"
      ],
      "text/plain": [
       "                  aus        can\n",
       "Date                            \n",
       "2007-01-03  14.704936  20.367802\n",
       "2007-01-04  14.430074  20.038620"
      ]
     },
     "execution_count": 277,
     "metadata": {},
     "output_type": "execute_result"
    }
   ],
   "source": [
    "int1.head(2)"
   ]
  },
  {
   "cell_type": "markdown",
   "metadata": {},
   "source": [
    "### 2. Pairs Identification\n",
    "\n",
    "### 2.1. AUS-CAN Returns Calculation"
   ]
  },
  {
   "cell_type": "code",
   "execution_count": 278,
   "metadata": {},
   "outputs": [
    {
     "data": {
      "text/html": [
       "<div>\n",
       "<style scoped>\n",
       "    .dataframe tbody tr th:only-of-type {\n",
       "        vertical-align: middle;\n",
       "    }\n",
       "\n",
       "    .dataframe tbody tr th {\n",
       "        vertical-align: top;\n",
       "    }\n",
       "\n",
       "    .dataframe thead th {\n",
       "        text-align: right;\n",
       "    }\n",
       "</style>\n",
       "<table border=\"1\" class=\"dataframe\">\n",
       "  <thead>\n",
       "    <tr style=\"text-align: right;\">\n",
       "      <th></th>\n",
       "      <th>aus</th>\n",
       "      <th>can</th>\n",
       "      <th>ausret</th>\n",
       "      <th>canret</th>\n",
       "    </tr>\n",
       "    <tr>\n",
       "      <th>Date</th>\n",
       "      <th></th>\n",
       "      <th></th>\n",
       "      <th></th>\n",
       "      <th></th>\n",
       "    </tr>\n",
       "  </thead>\n",
       "  <tbody>\n",
       "    <tr>\n",
       "      <th>2007-01-03</th>\n",
       "      <td>14.704936</td>\n",
       "      <td>20.367802</td>\n",
       "      <td>NaN</td>\n",
       "      <td>NaN</td>\n",
       "    </tr>\n",
       "    <tr>\n",
       "      <th>2007-01-04</th>\n",
       "      <td>14.430074</td>\n",
       "      <td>20.038620</td>\n",
       "      <td>-0.018692</td>\n",
       "      <td>-0.016162</td>\n",
       "    </tr>\n",
       "    <tr>\n",
       "      <th>2007-01-05</th>\n",
       "      <td>14.192698</td>\n",
       "      <td>19.972788</td>\n",
       "      <td>-0.016450</td>\n",
       "      <td>-0.003285</td>\n",
       "    </tr>\n",
       "  </tbody>\n",
       "</table>\n",
       "</div>"
      ],
      "text/plain": [
       "                  aus        can    ausret    canret\n",
       "Date                                                \n",
       "2007-01-03  14.704936  20.367802       NaN       NaN\n",
       "2007-01-04  14.430074  20.038620 -0.018692 -0.016162\n",
       "2007-01-05  14.192698  19.972788 -0.016450 -0.003285"
      ]
     },
     "execution_count": 278,
     "metadata": {},
     "output_type": "execute_result"
    }
   ],
   "source": [
    "int1['ausret'] = int1['aus'] / int1['aus'].shift(1) - 1\n",
    "int1['canret'] = int1['can'] / int1['can'].shift(1) - 1\n",
    "int1.head(3)"
   ]
  },
  {
   "cell_type": "code",
   "execution_count": 279,
   "metadata": {},
   "outputs": [],
   "source": [
    "int1['ausret'] = int1['aus'] / int1['aus'].shift(1) - 1\n",
    "int1['canret'] = int1['can'] / int1['can'].shift(1) - 1\n",
    "int1[np.isnan(int1)] = 0"
   ]
  },
  {
   "cell_type": "code",
   "execution_count": 280,
   "metadata": {},
   "outputs": [
    {
     "data": {
      "text/html": [
       "<div>\n",
       "<style scoped>\n",
       "    .dataframe tbody tr th:only-of-type {\n",
       "        vertical-align: middle;\n",
       "    }\n",
       "\n",
       "    .dataframe tbody tr th {\n",
       "        vertical-align: top;\n",
       "    }\n",
       "\n",
       "    .dataframe thead th {\n",
       "        text-align: right;\n",
       "    }\n",
       "</style>\n",
       "<table border=\"1\" class=\"dataframe\">\n",
       "  <thead>\n",
       "    <tr style=\"text-align: right;\">\n",
       "      <th></th>\n",
       "      <th>aus</th>\n",
       "      <th>can</th>\n",
       "      <th>ausret</th>\n",
       "      <th>canret</th>\n",
       "    </tr>\n",
       "    <tr>\n",
       "      <th>Date</th>\n",
       "      <th></th>\n",
       "      <th></th>\n",
       "      <th></th>\n",
       "      <th></th>\n",
       "    </tr>\n",
       "  </thead>\n",
       "  <tbody>\n",
       "    <tr>\n",
       "      <th>2007-01-03</th>\n",
       "      <td>14.704936</td>\n",
       "      <td>20.367802</td>\n",
       "      <td>0.000000</td>\n",
       "      <td>0.000000</td>\n",
       "    </tr>\n",
       "    <tr>\n",
       "      <th>2007-01-04</th>\n",
       "      <td>14.430074</td>\n",
       "      <td>20.038620</td>\n",
       "      <td>-0.018692</td>\n",
       "      <td>-0.016162</td>\n",
       "    </tr>\n",
       "    <tr>\n",
       "      <th>2007-01-05</th>\n",
       "      <td>14.192698</td>\n",
       "      <td>19.972788</td>\n",
       "      <td>-0.016450</td>\n",
       "      <td>-0.003285</td>\n",
       "    </tr>\n",
       "  </tbody>\n",
       "</table>\n",
       "</div>"
      ],
      "text/plain": [
       "                  aus        can    ausret    canret\n",
       "Date                                                \n",
       "2007-01-03  14.704936  20.367802  0.000000  0.000000\n",
       "2007-01-04  14.430074  20.038620 -0.018692 -0.016162\n",
       "2007-01-05  14.192698  19.972788 -0.016450 -0.003285"
      ]
     },
     "execution_count": 280,
     "metadata": {},
     "output_type": "execute_result"
    }
   ],
   "source": [
    "int1.head(3)"
   ]
  },
  {
   "cell_type": "markdown",
   "metadata": {},
   "source": [
    "### 2.2. AUS-CAN Returns Correlation\n",
    "\n",
    "short-term relationship"
   ]
  },
  {
   "cell_type": "code",
   "execution_count": 281,
   "metadata": {},
   "outputs": [
    {
     "name": "stdout",
     "output_type": "stream",
     "text": [
      "AUS-CAN Returns Correlation\n",
      "\n",
      "          ausret    canret\n",
      "ausret  1.000000  0.801312\n",
      "canret  0.801312  1.000000\n"
     ]
    }
   ],
   "source": [
    "print(\"AUS-CAN Returns Correlation\")\n",
    "print(\"\")\n",
    "print(int1.loc[:, ['ausret', 'canret']].corr())"
   ]
  },
  {
   "cell_type": "markdown",
   "metadata": {},
   "source": [
    "### 2.3. AUS-CAN Prices Chart"
   ]
  },
  {
   "cell_type": "code",
   "execution_count": 282,
   "metadata": {},
   "outputs": [
    {
     "data": {
      "image/png": "[encoded data removed]",
      "text/plain": [
       "<Figure size 432x288 with 2 Axes>"
      ]
     },
     "metadata": {},
     "output_type": "display_data"
    }
   ],
   "source": [
    "fig1, ax1 = plt.subplots()                    # default (1,1)\n",
    "ax1.plot(int1['aus'])\n",
    "ax1.legend(loc='lower left')\n",
    "ax2 = ax1.twinx()                               # creating a twin Axes\n",
    "ax2.plot(int1['can'], color=\"orange\")    # sharing the xaxis\n",
    "ax2.legend(loc='lower right')\n",
    "plt.suptitle('AUS-CAN Prices');\n",
    "ax1.set_ylabel('AUS', color='g')\n",
    "ax2.set_ylabel('CAN', color='b');"
   ]
  },
  {
   "cell_type": "markdown",
   "metadata": {},
   "source": [
    "### 3. Pairs Spread Co-Integration\n",
    "\n",
    "### 3.1. AUS-CAN Spread Calculation\n",
    "\n",
    "### OLS regression doesn't include constant (linear regression without intersection) \n",
    "  - beta 에만 집중\n",
    "  \n",
    "  - canadian index 가 변화할 때 예상되는 austrialia index 와 실제 australia index 의 차이 : aus_price_spread"
   ]
  },
  {
   "cell_type": "code",
   "execution_count": 283,
   "metadata": {},
   "outputs": [],
   "source": [
    "lmint1 = rg.OLS(int1['aus'], int1['can']).fit()         # linear regression model\n",
    "intb1 = lmint1.params[0]                                   # intersection 없으므로 beta = params[0]\n",
    "int1['spread'] = int1['aus'] - intb1 * int1['can']    # spread (forecasting errors) = actual aus price - expected aus price"
   ]
  },
  {
   "cell_type": "code",
   "execution_count": 284,
   "metadata": {},
   "outputs": [
    {
     "name": "stdout",
     "output_type": "stream",
     "text": [
      "beta =  0.738715328373\n"
     ]
    },
    {
     "data": {
      "text/html": [
       "<div>\n",
       "<style scoped>\n",
       "    .dataframe tbody tr th:only-of-type {\n",
       "        vertical-align: middle;\n",
       "    }\n",
       "\n",
       "    .dataframe tbody tr th {\n",
       "        vertical-align: top;\n",
       "    }\n",
       "\n",
       "    .dataframe thead th {\n",
       "        text-align: right;\n",
       "    }\n",
       "</style>\n",
       "<table border=\"1\" class=\"dataframe\">\n",
       "  <thead>\n",
       "    <tr style=\"text-align: right;\">\n",
       "      <th></th>\n",
       "      <th>aus</th>\n",
       "      <th>can</th>\n",
       "      <th>ausret</th>\n",
       "      <th>canret</th>\n",
       "      <th>spread</th>\n",
       "    </tr>\n",
       "    <tr>\n",
       "      <th>Date</th>\n",
       "      <th></th>\n",
       "      <th></th>\n",
       "      <th></th>\n",
       "      <th></th>\n",
       "      <th></th>\n",
       "    </tr>\n",
       "  </thead>\n",
       "  <tbody>\n",
       "    <tr>\n",
       "      <th>2007-01-03</th>\n",
       "      <td>14.704936</td>\n",
       "      <td>20.367802</td>\n",
       "      <td>0.000000</td>\n",
       "      <td>0.000000</td>\n",
       "      <td>-0.341072</td>\n",
       "    </tr>\n",
       "    <tr>\n",
       "      <th>2007-01-04</th>\n",
       "      <td>14.430074</td>\n",
       "      <td>20.038620</td>\n",
       "      <td>-0.018692</td>\n",
       "      <td>-0.016162</td>\n",
       "      <td>-0.372762</td>\n",
       "    </tr>\n",
       "  </tbody>\n",
       "</table>\n",
       "</div>"
      ],
      "text/plain": [
       "                  aus        can    ausret    canret    spread\n",
       "Date                                                          \n",
       "2007-01-03  14.704936  20.367802  0.000000  0.000000 -0.341072\n",
       "2007-01-04  14.430074  20.038620 -0.018692 -0.016162 -0.372762"
      ]
     },
     "execution_count": 284,
     "metadata": {},
     "output_type": "execute_result"
    }
   ],
   "source": [
    "print(\"beta = \", intb1)\n",
    "int1.head(2)"
   ]
  },
  {
   "cell_type": "markdown",
   "metadata": {},
   "source": [
    "### 3.2. AUS-CAN Spread Chart"
   ]
  },
  {
   "cell_type": "code",
   "execution_count": 285,
   "metadata": {},
   "outputs": [
    {
     "data": {
      "image/png": "[encoded data removed]",
      "text/plain": [
       "<Figure size 432x288 with 1 Axes>"
      ]
     },
     "metadata": {},
     "output_type": "display_data"
    }
   ],
   "source": [
    "fig2, ax = plt.subplots()\n",
    "ax.plot(int1['spread'])\n",
    "ax.axhline(int1['spread'].mean(), color=\"orange\")    # corresponding spread mean\n",
    "ax.legend(loc=\"upper left\")\n",
    "plt.suptitle('AUS-CAN Spread')\n",
    "plt.ylabel('spread');"
   ]
  },
  {
   "cell_type": "markdown",
   "metadata": {},
   "source": [
    "## 위에서 선택한 AUS index 와 CAN index 가 pair trading 의 조건을 만족하는지 TEST\n",
    "\n",
    "### Engle-Granger co-integration Method 를 이용한 Test\n",
    "\n",
    "* two paired assets prices 의 spread (linear regression residuals) 가 stationary 인지 여부 Test\n",
    "<ol>\n",
    "    <li> AUS 와 CAN price 가 stationary 인지 여부 Test</li>\n",
    "    <li> AUS 와 CAN 의 daily return 이 stationary 인지 여부 Test</li>\n",
    "    <li>AUS-CAN 의 spread 가 stationary 인지 여부 Test : Augmented Dickey-Fuller Co-Integration Test </li>\n",
    "     <li> AUS-CAN 의 sperady 가 stationary 인지 여부 double check : Phillips-Perron Co-Integration Test </li>\n",
    "</ol>\n",
    "\n",
    "3, 4 에서 spread 가 non-stationary 로 확인되면 paris trading 전략을 계속 진행할 수 없음."
   ]
  },
  {
   "cell_type": "markdown",
   "metadata": {},
   "source": [
    "### 3.3. AUS-CAN  Prices are Non-Stationary"
   ]
  },
  {
   "cell_type": "code",
   "execution_count": 286,
   "metadata": {},
   "outputs": [
    {
     "name": "stdout",
     "output_type": "stream",
     "text": [
      "AUS Prices Augmented Dickey-Fuller Test\n",
      "\n",
      "   Augmented Dickey-Fuller Results   \n",
      "=====================================\n",
      "Test Statistic                 -2.198\n",
      "P-value                         0.207\n",
      "Lags                                1\n",
      "-------------------------------------\n",
      "\n",
      "Trend: Constant\n",
      "Critical Values: -3.43 (1%), -2.86 (5%), -2.57 (10%)\n",
      "Null Hypothesis: The process contains a unit root.\n",
      "Alternative Hypothesis: The process is weakly stationary.\n",
      "\n",
      "CAN Prices Augmented Dickey-Fuller Test\n",
      "\n",
      "   Augmented Dickey-Fuller Results   \n",
      "=====================================\n",
      "Test Statistic                 -2.528\n",
      "P-value                         0.109\n",
      "Lags                                0\n",
      "-------------------------------------\n",
      "\n",
      "Trend: Constant\n",
      "Critical Values: -3.43 (1%), -2.86 (5%), -2.57 (10%)\n",
      "Null Hypothesis: The process contains a unit root.\n",
      "Alternative Hypothesis: The process is weakly stationary.\n"
     ]
    }
   ],
   "source": [
    "print(\"AUS Prices Augmented Dickey-Fuller Test\")\n",
    "print(\"\")\n",
    "print(at.ADF(int1['aus']))\n",
    "print(\"\")\n",
    "print(\"CAN Prices Augmented Dickey-Fuller Test\")\n",
    "print(\"\")\n",
    "print(at.ADF(int1['can']))"
   ]
  },
  {
   "cell_type": "markdown",
   "metadata": {},
   "source": [
    "위에서 AUS 와 CAN 의 price 는 p-value > 0.05 이므로 null hypothesis (\"There is a unit root\") 를 지지하므로 non-stationary 이다.\n",
    "\n",
    "### 3.4. AUS-CAN Returns are Stationary"
   ]
  },
  {
   "cell_type": "code",
   "execution_count": 287,
   "metadata": {},
   "outputs": [
    {
     "name": "stdout",
     "output_type": "stream",
     "text": [
      "AUS Prices Differences Augmented Dickey-Fuller Test\n",
      "\n",
      "   Augmented Dickey-Fuller Results   \n",
      "=====================================\n",
      "Test Statistic                -12.769\n",
      "P-value                         0.000\n",
      "Lags                               17\n",
      "-------------------------------------\n",
      "\n",
      "Trend: Constant\n",
      "Critical Values: -3.43 (1%), -2.86 (5%), -2.57 (10%)\n",
      "Null Hypothesis: The process contains a unit root.\n",
      "Alternative Hypothesis: The process is weakly stationary.\n",
      "\n",
      "CAN Prices Differences Augmented Dickey-Fuller Test\n",
      "\n",
      "   Augmented Dickey-Fuller Results   \n",
      "=====================================\n",
      "Test Statistic                -50.492\n",
      "P-value                         0.000\n",
      "Lags                                0\n",
      "-------------------------------------\n",
      "\n",
      "Trend: Constant\n",
      "Critical Values: -3.43 (1%), -2.86 (5%), -2.57 (10%)\n",
      "Null Hypothesis: The process contains a unit root.\n",
      "Alternative Hypothesis: The process is weakly stationary.\n"
     ]
    }
   ],
   "source": [
    "print(\"AUS Prices Differences Augmented Dickey-Fuller Test\")\n",
    "print(\"\")\n",
    "print(at.ADF(int1['ausret'] ))\n",
    "print(\"\")\n",
    "print(\"CAN Prices Differences Augmented Dickey-Fuller Test\")\n",
    "print(\"\")\n",
    "print(at.ADF(int1['canret'] ))"
   ]
  },
  {
   "cell_type": "markdown",
   "metadata": {},
   "source": [
    "위에서 AUS 와 CAN 의 returns 는 p-value < 0.05 이므로 null hypothesis (\"There is a unit root\") 를 기각 하므로 stationary 이다.\n",
    "\n",
    "### 3.5. AUS-CAN Augmented Dickey-Fuller Co-Integration Test"
   ]
  },
  {
   "cell_type": "code",
   "execution_count": 288,
   "metadata": {
    "scrolled": true
   },
   "outputs": [
    {
     "name": "stdout",
     "output_type": "stream",
     "text": [
      "AUS-CAN Augmented Dickey-Fuller Co-Integration Test\n",
      "\n",
      "   Augmented Dickey-Fuller Results   \n",
      "=====================================\n",
      "Test Statistic                 -2.561\n",
      "P-value                         0.101\n",
      "Lags                                3\n",
      "-------------------------------------\n",
      "\n",
      "Trend: Constant\n",
      "Critical Values: -3.43 (1%), -2.86 (5%), -2.57 (10%)\n",
      "Null Hypothesis: The process contains a unit root.\n",
      "Alternative Hypothesis: The process is weakly stationary.\n"
     ]
    }
   ],
   "source": [
    "print(\"AUS-CAN Augmented Dickey-Fuller Co-Integration Test\")\n",
    "print(\"\")\n",
    "print(at.ADF(int1['spread']))"
   ]
  },
  {
   "cell_type": "markdown",
   "metadata": {},
   "source": [
    "p-value > 0.05 이지만, critical value -2.57 보다 크므로 80% statistical confidence 로 stationary 하다고 인정 (예외적인 case)\n",
    "\n",
    "### 3.6. AUS-CAN Phillips-Perron Co-Integration Test"
   ]
  },
  {
   "cell_type": "code",
   "execution_count": 289,
   "metadata": {},
   "outputs": [
    {
     "name": "stdout",
     "output_type": "stream",
     "text": [
      "AUS-CAN Phillips-Perron Co-Integration Test\n",
      "\n",
      "     Phillips-Perron Test (Z-tau)    \n",
      "=====================================\n",
      "Test Statistic                 -2.730\n",
      "P-value                         0.069\n",
      "Lags                               27\n",
      "-------------------------------------\n",
      "\n",
      "Trend: Constant\n",
      "Critical Values: -3.43 (1%), -2.86 (5%), -2.57 (10%)\n",
      "Null Hypothesis: The process contains a unit root.\n",
      "Alternative Hypothesis: The process is weakly stationary.\n"
     ]
    }
   ],
   "source": [
    "print(\"AUS-CAN Phillips-Perron Co-Integration Test\")\n",
    "print(\"\")\n",
    "print(at.PhillipsPerron(int1['spread']))"
   ]
  },
  {
   "cell_type": "markdown",
   "metadata": {},
   "source": [
    "Phillips-Perron Co-Integration Test 로 위의 ADF Test 결과 validate\n",
    "\n",
    "stationary 가 confirm 되면 pairs trading 전략을 진행할 수 있다."
   ]
  },
  {
   "cell_type": "markdown",
   "metadata": {},
   "source": [
    "## 4. Pairs Trading Strategy\n",
    "\n",
    "### 4.1. AUS-CAN Rolling Beta Calculation\n",
    "\n",
    "#### AUS-CAN Rolling Covariance Calculation\n",
    "\n",
    "* 63 : 1 quarter, piarwise=True : multi-index dataframe return"
   ]
  },
  {
   "cell_type": "code",
   "execution_count": 290,
   "metadata": {},
   "outputs": [],
   "source": [
    "rolling_cov = int1.loc[:, ['aus', 'can']].rolling(window=63).cov(int1.loc[:, ['aus', 'can']], pairwise=True)"
   ]
  },
  {
   "cell_type": "code",
   "execution_count": 291,
   "metadata": {},
   "outputs": [
    {
     "data": {
      "text/html": [
       "<div>\n",
       "<style scoped>\n",
       "    .dataframe tbody tr th:only-of-type {\n",
       "        vertical-align: middle;\n",
       "    }\n",
       "\n",
       "    .dataframe tbody tr th {\n",
       "        vertical-align: top;\n",
       "    }\n",
       "\n",
       "    .dataframe thead th {\n",
       "        text-align: right;\n",
       "    }\n",
       "</style>\n",
       "<table border=\"1\" class=\"dataframe\">\n",
       "  <thead>\n",
       "    <tr style=\"text-align: right;\">\n",
       "      <th></th>\n",
       "      <th></th>\n",
       "      <th>aus</th>\n",
       "      <th>can</th>\n",
       "    </tr>\n",
       "    <tr>\n",
       "      <th>Date</th>\n",
       "      <th></th>\n",
       "      <th></th>\n",
       "      <th></th>\n",
       "    </tr>\n",
       "  </thead>\n",
       "  <tbody>\n",
       "    <tr>\n",
       "      <th rowspan=\"2\" valign=\"top\">2016-12-29</th>\n",
       "      <th>aus</th>\n",
       "      <td>0.088670</td>\n",
       "      <td>0.096823</td>\n",
       "    </tr>\n",
       "    <tr>\n",
       "      <th>can</th>\n",
       "      <td>0.096823</td>\n",
       "      <td>0.326096</td>\n",
       "    </tr>\n",
       "    <tr>\n",
       "      <th rowspan=\"2\" valign=\"top\">2016-12-30</th>\n",
       "      <th>aus</th>\n",
       "      <td>0.087922</td>\n",
       "      <td>0.098477</td>\n",
       "    </tr>\n",
       "    <tr>\n",
       "      <th>can</th>\n",
       "      <td>0.098477</td>\n",
       "      <td>0.331387</td>\n",
       "    </tr>\n",
       "  </tbody>\n",
       "</table>\n",
       "</div>"
      ],
      "text/plain": [
       "                     aus       can\n",
       "Date                              \n",
       "2016-12-29 aus  0.088670  0.096823\n",
       "           can  0.096823  0.326096\n",
       "2016-12-30 aus  0.087922  0.098477\n",
       "           can  0.098477  0.331387"
      ]
     },
     "execution_count": 291,
     "metadata": {},
     "output_type": "execute_result"
    }
   ],
   "source": [
    "rolling_cov.tail(4) "
   ]
  },
  {
   "cell_type": "code",
   "execution_count": 292,
   "metadata": {},
   "outputs": [],
   "source": [
    "idx = pd.IndexSlice          # create an object to perform multi-index slicing\n",
    "rolling_cov= rolling_cov.loc[idx[:, 'aus'], 'can']"
   ]
  },
  {
   "cell_type": "code",
   "execution_count": 293,
   "metadata": {},
   "outputs": [
    {
     "data": {
      "text/plain": [
       "Date           \n",
       "2016-12-29  aus    0.096823\n",
       "2016-12-30  aus    0.098477\n",
       "Name: can, dtype: float64"
      ]
     },
     "execution_count": 293,
     "metadata": {},
     "output_type": "execute_result"
    }
   ],
   "source": [
    "rolling_cov.tail(2)"
   ]
  },
  {
   "cell_type": "markdown",
   "metadata": {},
   "source": [
    "Convert Date + Asset index into Date index by making Asset at index level 1 into a new column (asset name)"
   ]
  },
  {
   "cell_type": "code",
   "execution_count": 294,
   "metadata": {},
   "outputs": [],
   "source": [
    "rolling_cov = rolling_cov.reset_index(level=1)"
   ]
  },
  {
   "cell_type": "code",
   "execution_count": 295,
   "metadata": {},
   "outputs": [
    {
     "data": {
      "text/html": [
       "<div>\n",
       "<style scoped>\n",
       "    .dataframe tbody tr th:only-of-type {\n",
       "        vertical-align: middle;\n",
       "    }\n",
       "\n",
       "    .dataframe tbody tr th {\n",
       "        vertical-align: top;\n",
       "    }\n",
       "\n",
       "    .dataframe thead th {\n",
       "        text-align: right;\n",
       "    }\n",
       "</style>\n",
       "<table border=\"1\" class=\"dataframe\">\n",
       "  <thead>\n",
       "    <tr style=\"text-align: right;\">\n",
       "      <th></th>\n",
       "      <th>level_1</th>\n",
       "      <th>can</th>\n",
       "    </tr>\n",
       "    <tr>\n",
       "      <th>Date</th>\n",
       "      <th></th>\n",
       "      <th></th>\n",
       "    </tr>\n",
       "  </thead>\n",
       "  <tbody>\n",
       "    <tr>\n",
       "      <th>2016-12-28</th>\n",
       "      <td>aus</td>\n",
       "      <td>0.093825</td>\n",
       "    </tr>\n",
       "    <tr>\n",
       "      <th>2016-12-29</th>\n",
       "      <td>aus</td>\n",
       "      <td>0.096823</td>\n",
       "    </tr>\n",
       "    <tr>\n",
       "      <th>2016-12-30</th>\n",
       "      <td>aus</td>\n",
       "      <td>0.098477</td>\n",
       "    </tr>\n",
       "  </tbody>\n",
       "</table>\n",
       "</div>"
      ],
      "text/plain": [
       "           level_1       can\n",
       "Date                        \n",
       "2016-12-28     aus  0.093825\n",
       "2016-12-29     aus  0.096823\n",
       "2016-12-30     aus  0.098477"
      ]
     },
     "execution_count": 295,
     "metadata": {},
     "output_type": "execute_result"
    }
   ],
   "source": [
    "rolling_cov.tail(3)    # cov(aus, can)"
   ]
  },
  {
   "cell_type": "markdown",
   "metadata": {},
   "source": [
    "#### CAN Rolling Variance Calculation"
   ]
  },
  {
   "cell_type": "code",
   "execution_count": 296,
   "metadata": {},
   "outputs": [],
   "source": [
    "rolling_var = int1['can'].rolling(window=63).var()"
   ]
  },
  {
   "cell_type": "markdown",
   "metadata": {},
   "source": [
    "#### AUS-CAN Rolling Beta Calculation and Chart\n",
    "$Rolling Beta _{aus-can}  = {Rolling COV_{aus-can}}  \\div  {Rolling VAR_{can}}$"
   ]
  },
  {
   "cell_type": "code",
   "execution_count": 297,
   "metadata": {},
   "outputs": [
    {
     "data": {
      "text/plain": [
       "Date\n",
       "2016-12-28    0.320528\n",
       "2016-12-29    0.326096\n",
       "2016-12-30    0.331387\n",
       "Name: can, dtype: float64"
      ]
     },
     "execution_count": 297,
     "metadata": {},
     "output_type": "execute_result"
    }
   ],
   "source": [
    "rolling_var.tail(3)"
   ]
  },
  {
   "cell_type": "code",
   "execution_count": 298,
   "metadata": {},
   "outputs": [],
   "source": [
    "int1['rolling_beta'] = rolling_cov['can'] / rolling_var"
   ]
  },
  {
   "cell_type": "code",
   "execution_count": 299,
   "metadata": {},
   "outputs": [
    {
     "data": {
      "text/html": [
       "<div>\n",
       "<style scoped>\n",
       "    .dataframe tbody tr th:only-of-type {\n",
       "        vertical-align: middle;\n",
       "    }\n",
       "\n",
       "    .dataframe tbody tr th {\n",
       "        vertical-align: top;\n",
       "    }\n",
       "\n",
       "    .dataframe thead th {\n",
       "        text-align: right;\n",
       "    }\n",
       "</style>\n",
       "<table border=\"1\" class=\"dataframe\">\n",
       "  <thead>\n",
       "    <tr style=\"text-align: right;\">\n",
       "      <th></th>\n",
       "      <th>aus</th>\n",
       "      <th>can</th>\n",
       "      <th>ausret</th>\n",
       "      <th>canret</th>\n",
       "      <th>spread</th>\n",
       "      <th>rolling_beta</th>\n",
       "    </tr>\n",
       "    <tr>\n",
       "      <th>Date</th>\n",
       "      <th></th>\n",
       "      <th></th>\n",
       "      <th></th>\n",
       "      <th></th>\n",
       "      <th></th>\n",
       "      <th></th>\n",
       "    </tr>\n",
       "  </thead>\n",
       "  <tbody>\n",
       "    <tr>\n",
       "      <th>2016-12-28</th>\n",
       "      <td>20.219999</td>\n",
       "      <td>26.02</td>\n",
       "      <td>0.003972</td>\n",
       "      <td>-0.001918</td>\n",
       "      <td>0.998626</td>\n",
       "      <td>0.292720</td>\n",
       "    </tr>\n",
       "    <tr>\n",
       "      <th>2016-12-29</th>\n",
       "      <td>20.379999</td>\n",
       "      <td>26.17</td>\n",
       "      <td>0.007913</td>\n",
       "      <td>0.005765</td>\n",
       "      <td>1.047819</td>\n",
       "      <td>0.296917</td>\n",
       "    </tr>\n",
       "    <tr>\n",
       "      <th>2016-12-30</th>\n",
       "      <td>20.230000</td>\n",
       "      <td>26.15</td>\n",
       "      <td>-0.007360</td>\n",
       "      <td>-0.000764</td>\n",
       "      <td>0.912594</td>\n",
       "      <td>0.297167</td>\n",
       "    </tr>\n",
       "  </tbody>\n",
       "</table>\n",
       "</div>"
      ],
      "text/plain": [
       "                  aus    can    ausret    canret    spread  rolling_beta\n",
       "Date                                                                    \n",
       "2016-12-28  20.219999  26.02  0.003972 -0.001918  0.998626      0.292720\n",
       "2016-12-29  20.379999  26.17  0.007913  0.005765  1.047819      0.296917\n",
       "2016-12-30  20.230000  26.15 -0.007360 -0.000764  0.912594      0.297167"
      ]
     },
     "execution_count": 299,
     "metadata": {},
     "output_type": "execute_result"
    }
   ],
   "source": [
    "int1.tail(3)"
   ]
  },
  {
   "cell_type": "code",
   "execution_count": 300,
   "metadata": {
    "scrolled": true
   },
   "outputs": [
    {
     "data": {
      "image/png": "[encoded data removed]",
      "text/plain": [
       "<Figure size 432x288 with 1 Axes>"
      ]
     },
     "metadata": {},
     "output_type": "display_data"
    }
   ],
   "source": [
    "fig3, ax = plt.subplots()\n",
    "ax.plot(int1['rolling_beta'])\n",
    "ax.axhline(intb1, color=\"orange\", label=\"beta\")\n",
    "ax.legend(loc=\"upper left\")\n",
    "plt.suptitle('AUS-CAN Rolling Beta');"
   ]
  },
  {
   "cell_type": "markdown",
   "metadata": {},
   "source": [
    "### 4.2. AUS-CAN Rolling Spread Calculation and Chart"
   ]
  },
  {
   "cell_type": "code",
   "execution_count": 301,
   "metadata": {},
   "outputs": [],
   "source": [
    "int1['rolling_spread'] = int1['aus'] - int1['rolling_beta'] * int1['can']"
   ]
  },
  {
   "cell_type": "code",
   "execution_count": 302,
   "metadata": {},
   "outputs": [
    {
     "data": {
      "text/html": [
       "<div>\n",
       "<style scoped>\n",
       "    .dataframe tbody tr th:only-of-type {\n",
       "        vertical-align: middle;\n",
       "    }\n",
       "\n",
       "    .dataframe tbody tr th {\n",
       "        vertical-align: top;\n",
       "    }\n",
       "\n",
       "    .dataframe thead th {\n",
       "        text-align: right;\n",
       "    }\n",
       "</style>\n",
       "<table border=\"1\" class=\"dataframe\">\n",
       "  <thead>\n",
       "    <tr style=\"text-align: right;\">\n",
       "      <th></th>\n",
       "      <th>aus</th>\n",
       "      <th>can</th>\n",
       "      <th>ausret</th>\n",
       "      <th>canret</th>\n",
       "      <th>spread</th>\n",
       "      <th>rolling_beta</th>\n",
       "      <th>rolling_spread</th>\n",
       "    </tr>\n",
       "    <tr>\n",
       "      <th>Date</th>\n",
       "      <th></th>\n",
       "      <th></th>\n",
       "      <th></th>\n",
       "      <th></th>\n",
       "      <th></th>\n",
       "      <th></th>\n",
       "      <th></th>\n",
       "    </tr>\n",
       "  </thead>\n",
       "  <tbody>\n",
       "    <tr>\n",
       "      <th>2016-12-28</th>\n",
       "      <td>20.219999</td>\n",
       "      <td>26.02</td>\n",
       "      <td>0.003972</td>\n",
       "      <td>-0.001918</td>\n",
       "      <td>0.998626</td>\n",
       "      <td>0.292720</td>\n",
       "      <td>12.603413</td>\n",
       "    </tr>\n",
       "    <tr>\n",
       "      <th>2016-12-29</th>\n",
       "      <td>20.379999</td>\n",
       "      <td>26.17</td>\n",
       "      <td>0.007913</td>\n",
       "      <td>0.005765</td>\n",
       "      <td>1.047819</td>\n",
       "      <td>0.296917</td>\n",
       "      <td>12.609671</td>\n",
       "    </tr>\n",
       "    <tr>\n",
       "      <th>2016-12-30</th>\n",
       "      <td>20.230000</td>\n",
       "      <td>26.15</td>\n",
       "      <td>-0.007360</td>\n",
       "      <td>-0.000764</td>\n",
       "      <td>0.912594</td>\n",
       "      <td>0.297167</td>\n",
       "      <td>12.459078</td>\n",
       "    </tr>\n",
       "  </tbody>\n",
       "</table>\n",
       "</div>"
      ],
      "text/plain": [
       "                  aus    can    ausret    canret    spread  rolling_beta  \\\n",
       "Date                                                                       \n",
       "2016-12-28  20.219999  26.02  0.003972 -0.001918  0.998626      0.292720   \n",
       "2016-12-29  20.379999  26.17  0.007913  0.005765  1.047819      0.296917   \n",
       "2016-12-30  20.230000  26.15 -0.007360 -0.000764  0.912594      0.297167   \n",
       "\n",
       "            rolling_spread  \n",
       "Date                        \n",
       "2016-12-28       12.603413  \n",
       "2016-12-29       12.609671  \n",
       "2016-12-30       12.459078  "
      ]
     },
     "execution_count": 302,
     "metadata": {},
     "output_type": "execute_result"
    }
   ],
   "source": [
    "int1.tail(3)"
   ]
  },
  {
   "cell_type": "code",
   "execution_count": 303,
   "metadata": {},
   "outputs": [
    {
     "data": {
      "image/png": "[encoded data removed]",
      "text/plain": [
       "<Figure size 432x288 with 1 Axes>"
      ]
     },
     "metadata": {},
     "output_type": "display_data"
    }
   ],
   "source": [
    "fig4, ax = plt.subplots()\n",
    "ax.plot(int1['rolling_spread'])\n",
    "ax.plot(int1['spread'])\n",
    "ax.legend(loc=\"upper left\")\n",
    "plt.suptitle('AUS-CAN Rolling Spread');"
   ]
  },
  {
   "cell_type": "markdown",
   "metadata": {},
   "source": [
    "### 4.3. AUS-CAN Rolling Spread Z-Score Calculation and Chart\n",
    "\n",
    "rolling z-score 의 목적은 look-ahead bias 제거가 목적. mean 을 subtract 하여 centering 해주고, std 로 normalize 해 준다.\n",
    "\n",
    "z-score 는 spread 가 spread 의 mean 으로부터 std 몇 개 만큼 떨어져 있는가를 표시한다.\n",
    "\n",
    "$$ Z_n = \\frac{S_n - \\mu_n}{\\sigma_n}$$\n",
    "\n",
    "$$(Rolling \\ Zscore) = \\frac{(Rolling\\ Spread) - (Rolling\\ Mean\\ of\\ Rolling\\ Spread)}{(Rolling \\ STD)}$$\n",
    "\n",
    "* 모도 rolling form 으로 계산"
   ]
  },
  {
   "cell_type": "code",
   "execution_count": 304,
   "metadata": {},
   "outputs": [],
   "source": [
    "int1['rolling_zscore'] = (int1['rolling_spread'] - int1['rolling_spread'].rolling(window=63).mean()) / \\\n",
    "                 int1['rolling_spread'].rolling(window=63).std()"
   ]
  },
  {
   "cell_type": "code",
   "execution_count": 305,
   "metadata": {},
   "outputs": [
    {
     "data": {
      "text/html": [
       "<div>\n",
       "<style scoped>\n",
       "    .dataframe tbody tr th:only-of-type {\n",
       "        vertical-align: middle;\n",
       "    }\n",
       "\n",
       "    .dataframe tbody tr th {\n",
       "        vertical-align: top;\n",
       "    }\n",
       "\n",
       "    .dataframe thead th {\n",
       "        text-align: right;\n",
       "    }\n",
       "</style>\n",
       "<table border=\"1\" class=\"dataframe\">\n",
       "  <thead>\n",
       "    <tr style=\"text-align: right;\">\n",
       "      <th></th>\n",
       "      <th>aus</th>\n",
       "      <th>can</th>\n",
       "      <th>ausret</th>\n",
       "      <th>canret</th>\n",
       "      <th>spread</th>\n",
       "      <th>rolling_beta</th>\n",
       "      <th>rolling_spread</th>\n",
       "      <th>rolling_zscore</th>\n",
       "    </tr>\n",
       "    <tr>\n",
       "      <th>Date</th>\n",
       "      <th></th>\n",
       "      <th></th>\n",
       "      <th></th>\n",
       "      <th></th>\n",
       "      <th></th>\n",
       "      <th></th>\n",
       "      <th></th>\n",
       "      <th></th>\n",
       "    </tr>\n",
       "  </thead>\n",
       "  <tbody>\n",
       "    <tr>\n",
       "      <th>2016-12-28</th>\n",
       "      <td>20.219999</td>\n",
       "      <td>26.02</td>\n",
       "      <td>0.003972</td>\n",
       "      <td>-0.001918</td>\n",
       "      <td>0.998626</td>\n",
       "      <td>0.292720</td>\n",
       "      <td>12.603413</td>\n",
       "      <td>1.947612</td>\n",
       "    </tr>\n",
       "    <tr>\n",
       "      <th>2016-12-29</th>\n",
       "      <td>20.379999</td>\n",
       "      <td>26.17</td>\n",
       "      <td>0.007913</td>\n",
       "      <td>0.005765</td>\n",
       "      <td>1.047819</td>\n",
       "      <td>0.296917</td>\n",
       "      <td>12.609671</td>\n",
       "      <td>1.865362</td>\n",
       "    </tr>\n",
       "    <tr>\n",
       "      <th>2016-12-30</th>\n",
       "      <td>20.230000</td>\n",
       "      <td>26.15</td>\n",
       "      <td>-0.007360</td>\n",
       "      <td>-0.000764</td>\n",
       "      <td>0.912594</td>\n",
       "      <td>0.297167</td>\n",
       "      <td>12.459078</td>\n",
       "      <td>1.756066</td>\n",
       "    </tr>\n",
       "  </tbody>\n",
       "</table>\n",
       "</div>"
      ],
      "text/plain": [
       "                  aus    can    ausret    canret    spread  rolling_beta  \\\n",
       "Date                                                                       \n",
       "2016-12-28  20.219999  26.02  0.003972 -0.001918  0.998626      0.292720   \n",
       "2016-12-29  20.379999  26.17  0.007913  0.005765  1.047819      0.296917   \n",
       "2016-12-30  20.230000  26.15 -0.007360 -0.000764  0.912594      0.297167   \n",
       "\n",
       "            rolling_spread  rolling_zscore  \n",
       "Date                                        \n",
       "2016-12-28       12.603413        1.947612  \n",
       "2016-12-29       12.609671        1.865362  \n",
       "2016-12-30       12.459078        1.756066  "
      ]
     },
     "execution_count": 305,
     "metadata": {},
     "output_type": "execute_result"
    }
   ],
   "source": [
    "int1.tail(3)"
   ]
  },
  {
   "cell_type": "code",
   "execution_count": 306,
   "metadata": {},
   "outputs": [
    {
     "data": {
      "image/png": "[encoded data removed]",
      "text/plain": [
       "<Figure size 432x288 with 1 Axes>"
      ]
     },
     "metadata": {},
     "output_type": "display_data"
    }
   ],
   "source": [
    "fig5, ax = plt.subplots()\n",
    "ax.plot(int1['rolling_zscore'])\n",
    "ax.axhline((-2), color=\"green\")\n",
    "ax.axhline((-1), color=\"green\", linestyle='--')\n",
    "ax.axhline((2), color=\"red\")\n",
    "ax.axhline((1), color=\"red\", linestyle='--')\n",
    "ax.legend(loc=\"upper left\")\n",
    "plt.suptitle('AUS-CAN Rolling Spread Z-Score');"
   ]
  },
  {
   "cell_type": "markdown",
   "metadata": {},
   "source": [
    "### 4.4. AUS-CAN Trading Strategy Signals and Chart\n",
    "\n",
    "zscore 가 -2 std 위쪽(zscore > -2)에서 아래쪽(zscore < -2)으로 하향 돌파 : Enter long spread trade (buying AUS stock / selling CAN stock in proportion to rolling beta\n",
    "\n",
    "zscore 가 -1 std 아래쪽(zscore < -1)에서 위쪽(zscore > -1)으로 상향 돌파 : Exit long spread trade (mean reversion : exit 신호)\n",
    "\n",
    "zscore 가 +2 std 아래쪽(zscore < +2)에서 위쪽(zscore > +2)으로 상향 돌파 : Enter short spread trade (selling AUS stock / buying CAN stock in proportion to rolling beta\n",
    "\n",
    "zscore 가 + 1 std 위쪽(zscore > +1)에서 아래쪽(zscore < +1)으로 하향 돌파 : Exit short spread trade\n",
    "\n",
    "* 이것은 mean reversion(평균회귀) 에 근거한 전략임.\n",
    "\n",
    "-1 < zscore < +1 : spread 가 std 를 벗어나지 않으므로 통계적으로 표준편차 범위이므로 고/저 평가 판단할 수 없음\n",
    "\n",
    "zscore < -2  : spread < 2 std 를 벗어났으므로 aus 가 표준편차 범위 이상으로 can 에 대해 확실히 상대적 저평가되고 can 이 상대적 고평가 상태\n",
    "\n",
    "zscore > 2   : spread > 2 std 를 벗어났으므로 aus 가 표준편차 범위 이상으로 can 에 대해 확실히 상대적 고평가되고 can 이 상대적 저평가 상태\n",
    "\n",
    "*  DataFrame.iterrows() : Iterate over DataFrame rows as (index, Series) pairs.\n",
    "\n",
    "### Bands Threshold of Trading Signals\n",
    "\n",
    "Long Pair Spread Trade : \n",
    "\n",
    "* Enter long signal: Previous (Z-Score > -2) and Current (Z-Score < -2)\n",
    "* Exit &nbsp;  long signal: Previous (Z-Score < -1) and Current (Z-Score  > -1)\n",
    "\n",
    "Short Pair Spread Trade :\n",
    "\n",
    "* Enter short signal: Previous (Z-Score < +2) and Current (Z-Score > +2)\n",
    "* Exit &nbsp; short signal: Previous (Z-Score > +1) and Current (Z-Score < +1)\n",
    "\n",
    "위의 Strategy 에 따라, moving z-score 를 이용하여 trading signal 을 계산한다. 이 때 backtesting bias 를 피하기 위해 one day after 에 signal 이 나오도록 1 day shift(전일) 한 rolling_zscore(-1) 과 2 day shift (전전일) 한 rolling_zscore(-2) 의 두개 column 을 추가 한다."
   ]
  },
  {
   "cell_type": "code",
   "execution_count": 309,
   "metadata": {},
   "outputs": [],
   "source": [
    "int1['rolling_zscore(-1)'] = int1['rolling_zscore'].shift(1)     # current zscore\n",
    "int1['rolling_zscore(-2)'] = int1['rolling_zscore'].shift(2)     # previous zscore\n",
    "int1['signal'] = 0\n",
    "signal = 0\n",
    "for i, r in enumerate(int1.iterrows()):\n",
    "    if r[1]['rolling_zscore(-2)'] > -2 and r[1]['rolling_zscore(-1)'] < -2: # enter long spread trade\n",
    "        signal = -2                                                            \n",
    "    elif r[1]['rolling_zscore(-2)'] < -1 and r[1]['rolling_zscore(-1)'] > -1: # exit long spread trade\n",
    "        signal = -1\n",
    "    elif r[1]['rolling_zscore(-2)'] < 2 and r[1]['rolling_zscore(-1)'] > 2: # enter short spread trade\n",
    "        signal = 2\n",
    "    elif r[1]['rolling_zscore(-2)'] > 1 and r[1]['rolling_zscore(-1)'] < 1: # exit short spread trade\n",
    "        signal = 1\n",
    "    else:\n",
    "        signal = 0\n",
    "    #int1.iloc[i, 10] = signal               # row : i, column : signal\n",
    "    int1.iloc[i, int1.columns.get_loc('signal')] = signal"
   ]
  },
  {
   "cell_type": "code",
   "execution_count": 310,
   "metadata": {},
   "outputs": [
    {
     "data": {
      "text/html": [
       "<div>\n",
       "<style scoped>\n",
       "    .dataframe tbody tr th:only-of-type {\n",
       "        vertical-align: middle;\n",
       "    }\n",
       "\n",
       "    .dataframe tbody tr th {\n",
       "        vertical-align: top;\n",
       "    }\n",
       "\n",
       "    .dataframe thead th {\n",
       "        text-align: right;\n",
       "    }\n",
       "</style>\n",
       "<table border=\"1\" class=\"dataframe\">\n",
       "  <thead>\n",
       "    <tr style=\"text-align: right;\">\n",
       "      <th></th>\n",
       "      <th>aus</th>\n",
       "      <th>can</th>\n",
       "      <th>ausret</th>\n",
       "      <th>canret</th>\n",
       "      <th>spread</th>\n",
       "      <th>rolling_beta</th>\n",
       "      <th>rolling_spread</th>\n",
       "      <th>rolling_zscore</th>\n",
       "      <th>rolling_zscore(-1)</th>\n",
       "      <th>rolling_zscore(-2)</th>\n",
       "      <th>signal</th>\n",
       "    </tr>\n",
       "    <tr>\n",
       "      <th>Date</th>\n",
       "      <th></th>\n",
       "      <th></th>\n",
       "      <th></th>\n",
       "      <th></th>\n",
       "      <th></th>\n",
       "      <th></th>\n",
       "      <th></th>\n",
       "      <th></th>\n",
       "      <th></th>\n",
       "      <th></th>\n",
       "      <th></th>\n",
       "    </tr>\n",
       "  </thead>\n",
       "  <tbody>\n",
       "    <tr>\n",
       "      <th>2016-12-28</th>\n",
       "      <td>20.219999</td>\n",
       "      <td>26.02</td>\n",
       "      <td>0.003972</td>\n",
       "      <td>-0.001918</td>\n",
       "      <td>0.998626</td>\n",
       "      <td>0.292720</td>\n",
       "      <td>12.603413</td>\n",
       "      <td>1.947612</td>\n",
       "      <td>2.025021</td>\n",
       "      <td>2.128297</td>\n",
       "      <td>0</td>\n",
       "    </tr>\n",
       "    <tr>\n",
       "      <th>2016-12-29</th>\n",
       "      <td>20.379999</td>\n",
       "      <td>26.17</td>\n",
       "      <td>0.007913</td>\n",
       "      <td>0.005765</td>\n",
       "      <td>1.047819</td>\n",
       "      <td>0.296917</td>\n",
       "      <td>12.609671</td>\n",
       "      <td>1.865362</td>\n",
       "      <td>1.947612</td>\n",
       "      <td>2.025021</td>\n",
       "      <td>0</td>\n",
       "    </tr>\n",
       "    <tr>\n",
       "      <th>2016-12-30</th>\n",
       "      <td>20.230000</td>\n",
       "      <td>26.15</td>\n",
       "      <td>-0.007360</td>\n",
       "      <td>-0.000764</td>\n",
       "      <td>0.912594</td>\n",
       "      <td>0.297167</td>\n",
       "      <td>12.459078</td>\n",
       "      <td>1.756066</td>\n",
       "      <td>1.865362</td>\n",
       "      <td>1.947612</td>\n",
       "      <td>0</td>\n",
       "    </tr>\n",
       "  </tbody>\n",
       "</table>\n",
       "</div>"
      ],
      "text/plain": [
       "                  aus    can    ausret    canret    spread  rolling_beta  \\\n",
       "Date                                                                       \n",
       "2016-12-28  20.219999  26.02  0.003972 -0.001918  0.998626      0.292720   \n",
       "2016-12-29  20.379999  26.17  0.007913  0.005765  1.047819      0.296917   \n",
       "2016-12-30  20.230000  26.15 -0.007360 -0.000764  0.912594      0.297167   \n",
       "\n",
       "            rolling_spread  rolling_zscore  rolling_zscore(-1)  \\\n",
       "Date                                                             \n",
       "2016-12-28       12.603413        1.947612            2.025021   \n",
       "2016-12-29       12.609671        1.865362            1.947612   \n",
       "2016-12-30       12.459078        1.756066            1.865362   \n",
       "\n",
       "            rolling_zscore(-2)  signal  \n",
       "Date                                    \n",
       "2016-12-28            2.128297       0  \n",
       "2016-12-29            2.025021       0  \n",
       "2016-12-30            1.947612       0  "
      ]
     },
     "execution_count": 310,
     "metadata": {},
     "output_type": "execute_result"
    }
   ],
   "source": [
    "int1.tail(3)"
   ]
  },
  {
   "cell_type": "code",
   "execution_count": 311,
   "metadata": {},
   "outputs": [
    {
     "data": {
      "image/png": "[encoded data removed]",
      "text/plain": [
       "<Figure size 432x288 with 2 Axes>"
      ]
     },
     "metadata": {},
     "output_type": "display_data"
    }
   ],
   "source": [
    "fig6, ax = plt.subplots(2, sharex=True)         # share xaxis\n",
    "\n",
    "ax[0].plot(int1['rolling_zscore'])\n",
    "ax[0].axhline((-2), color=\"green\")\n",
    "ax[0].axhline((-1), color=\"green\", linestyle='--')\n",
    "ax[0].axhline((2), color=\"red\")\n",
    "ax[0].axhline((1), color=\"red\", linestyle='--')\n",
    "ax[0].legend(loc=\"upper left\")\n",
    "\n",
    "ax[1].plot(int1['signal'], marker='o', linestyle='')        \n",
    "ax[1].legend(loc='upper left')\n",
    "\n",
    "plt.suptitle('AUS-CAN Trading Strategy Signals');"
   ]
  },
  {
   "cell_type": "markdown",
   "metadata": {},
   "source": [
    "### 4.5. AUS-CAN Trading Strategy Positions and Chart"
   ]
  },
  {
   "cell_type": "code",
   "execution_count": 312,
   "metadata": {},
   "outputs": [],
   "source": [
    "int1['position'] = 0\n",
    "position = 0\n",
    "for i, r in enumerate(int1.iterrows()):\n",
    "    if r[1]['signal'] == -2:\n",
    "        position = 1             # enter long spread trade\n",
    "    elif r[1]['signal'] == -1:\n",
    "        position = 0             # no longer trade\n",
    "    elif r[1]['signal'] == 2:\n",
    "        position = -1            # enter short spread trade\n",
    "    elif r[1]['signal'] == 1:\n",
    "        position = 0             # no longer trade\n",
    "    else:\n",
    "        position = int1.loc[:, 'position'][i-1]\n",
    "    #int1.iloc[i, 11] = position\n",
    "    int1.iloc[i, int1.columns.get_loc('position')] = position"
   ]
  },
  {
   "cell_type": "code",
   "execution_count": 313,
   "metadata": {},
   "outputs": [
    {
     "data": {
      "text/plain": [
       "Text(0.5,0.98,'AUS-CAN Trading Strategy Positions')"
      ]
     },
     "execution_count": 313,
     "metadata": {},
     "output_type": "execute_result"
    },
    {
     "data": {
      "image/png": "[encoded data removed]",
      "text/plain": [
       "<Figure size 432x288 with 2 Axes>"
      ]
     },
     "metadata": {},
     "output_type": "display_data"
    }
   ],
   "source": [
    "fig7, ax = plt.subplots(2, sharex=True)\n",
    "\n",
    "ax[0].plot(int1['rolling_zscore'])\n",
    "ax[0].axhline((-2), color=\"green\")\n",
    "ax[0].axhline((-1), color=\"green\", linestyle='--')\n",
    "ax[0].axhline((2), color=\"red\")\n",
    "ax[0].axhline((1), color=\"red\", linestyle='--')\n",
    "ax[0].legend(loc=\"upper left\")\n",
    "\n",
    "# 1 : long position, -1 : short position  0: no longer trading\n",
    "ax[1].plot(int1['position'], marker='o', linestyle='')        \n",
    "ax[1].legend(loc='upper left')\n",
    "\n",
    "plt.suptitle('AUS-CAN Trading Strategy Positions')"
   ]
  },
  {
   "cell_type": "code",
   "execution_count": 314,
   "metadata": {},
   "outputs": [
    {
     "data": {
      "text/html": [
       "<div>\n",
       "<style scoped>\n",
       "    .dataframe tbody tr th:only-of-type {\n",
       "        vertical-align: middle;\n",
       "    }\n",
       "\n",
       "    .dataframe tbody tr th {\n",
       "        vertical-align: top;\n",
       "    }\n",
       "\n",
       "    .dataframe thead th {\n",
       "        text-align: right;\n",
       "    }\n",
       "</style>\n",
       "<table border=\"1\" class=\"dataframe\">\n",
       "  <thead>\n",
       "    <tr style=\"text-align: right;\">\n",
       "      <th></th>\n",
       "      <th>aus</th>\n",
       "      <th>can</th>\n",
       "      <th>ausret</th>\n",
       "      <th>canret</th>\n",
       "      <th>spread</th>\n",
       "      <th>rolling_beta</th>\n",
       "      <th>rolling_spread</th>\n",
       "      <th>rolling_zscore</th>\n",
       "      <th>rolling_zscore(-1)</th>\n",
       "      <th>rolling_zscore(-2)</th>\n",
       "      <th>signal</th>\n",
       "      <th>position</th>\n",
       "    </tr>\n",
       "    <tr>\n",
       "      <th>Date</th>\n",
       "      <th></th>\n",
       "      <th></th>\n",
       "      <th></th>\n",
       "      <th></th>\n",
       "      <th></th>\n",
       "      <th></th>\n",
       "      <th></th>\n",
       "      <th></th>\n",
       "      <th></th>\n",
       "      <th></th>\n",
       "      <th></th>\n",
       "      <th></th>\n",
       "    </tr>\n",
       "  </thead>\n",
       "  <tbody>\n",
       "    <tr>\n",
       "      <th>2016-12-23</th>\n",
       "      <td>20.049999</td>\n",
       "      <td>26.07</td>\n",
       "      <td>-0.007426</td>\n",
       "      <td>-0.005341</td>\n",
       "      <td>0.791690</td>\n",
       "      <td>0.286991</td>\n",
       "      <td>12.568133</td>\n",
       "      <td>2.128297</td>\n",
       "      <td>2.222802</td>\n",
       "      <td>2.280844</td>\n",
       "      <td>0</td>\n",
       "      <td>-1</td>\n",
       "    </tr>\n",
       "    <tr>\n",
       "      <th>2016-12-27</th>\n",
       "      <td>20.139999</td>\n",
       "      <td>26.07</td>\n",
       "      <td>0.004489</td>\n",
       "      <td>0.000000</td>\n",
       "      <td>0.881690</td>\n",
       "      <td>0.291356</td>\n",
       "      <td>12.544340</td>\n",
       "      <td>2.025021</td>\n",
       "      <td>2.128297</td>\n",
       "      <td>2.222802</td>\n",
       "      <td>0</td>\n",
       "      <td>-1</td>\n",
       "    </tr>\n",
       "    <tr>\n",
       "      <th>2016-12-28</th>\n",
       "      <td>20.219999</td>\n",
       "      <td>26.02</td>\n",
       "      <td>0.003972</td>\n",
       "      <td>-0.001918</td>\n",
       "      <td>0.998626</td>\n",
       "      <td>0.292720</td>\n",
       "      <td>12.603413</td>\n",
       "      <td>1.947612</td>\n",
       "      <td>2.025021</td>\n",
       "      <td>2.128297</td>\n",
       "      <td>0</td>\n",
       "      <td>-1</td>\n",
       "    </tr>\n",
       "    <tr>\n",
       "      <th>2016-12-29</th>\n",
       "      <td>20.379999</td>\n",
       "      <td>26.17</td>\n",
       "      <td>0.007913</td>\n",
       "      <td>0.005765</td>\n",
       "      <td>1.047819</td>\n",
       "      <td>0.296917</td>\n",
       "      <td>12.609671</td>\n",
       "      <td>1.865362</td>\n",
       "      <td>1.947612</td>\n",
       "      <td>2.025021</td>\n",
       "      <td>0</td>\n",
       "      <td>-1</td>\n",
       "    </tr>\n",
       "    <tr>\n",
       "      <th>2016-12-30</th>\n",
       "      <td>20.230000</td>\n",
       "      <td>26.15</td>\n",
       "      <td>-0.007360</td>\n",
       "      <td>-0.000764</td>\n",
       "      <td>0.912594</td>\n",
       "      <td>0.297167</td>\n",
       "      <td>12.459078</td>\n",
       "      <td>1.756066</td>\n",
       "      <td>1.865362</td>\n",
       "      <td>1.947612</td>\n",
       "      <td>0</td>\n",
       "      <td>-1</td>\n",
       "    </tr>\n",
       "  </tbody>\n",
       "</table>\n",
       "</div>"
      ],
      "text/plain": [
       "                  aus    can    ausret    canret    spread  rolling_beta  \\\n",
       "Date                                                                       \n",
       "2016-12-23  20.049999  26.07 -0.007426 -0.005341  0.791690      0.286991   \n",
       "2016-12-27  20.139999  26.07  0.004489  0.000000  0.881690      0.291356   \n",
       "2016-12-28  20.219999  26.02  0.003972 -0.001918  0.998626      0.292720   \n",
       "2016-12-29  20.379999  26.17  0.007913  0.005765  1.047819      0.296917   \n",
       "2016-12-30  20.230000  26.15 -0.007360 -0.000764  0.912594      0.297167   \n",
       "\n",
       "            rolling_spread  rolling_zscore  rolling_zscore(-1)  \\\n",
       "Date                                                             \n",
       "2016-12-23       12.568133        2.128297            2.222802   \n",
       "2016-12-27       12.544340        2.025021            2.128297   \n",
       "2016-12-28       12.603413        1.947612            2.025021   \n",
       "2016-12-29       12.609671        1.865362            1.947612   \n",
       "2016-12-30       12.459078        1.756066            1.865362   \n",
       "\n",
       "            rolling_zscore(-2)  signal  position  \n",
       "Date                                              \n",
       "2016-12-23            2.280844       0        -1  \n",
       "2016-12-27            2.222802       0        -1  \n",
       "2016-12-28            2.128297       0        -1  \n",
       "2016-12-29            2.025021       0        -1  \n",
       "2016-12-30            1.947612       0        -1  "
      ]
     },
     "execution_count": 314,
     "metadata": {},
     "output_type": "execute_result"
    }
   ],
   "source": [
    "int1.tail()"
   ]
  },
  {
   "cell_type": "markdown",
   "metadata": {},
   "source": [
    "## 5. Pairs Strategy Performance Comparison\n",
    "\n",
    "### 5.1. AUS-CAN Trading Strategy Daily Returns\n",
    "\n",
    "#### AUS-CAN Trading Strategy Spread Returns"
   ]
  },
  {
   "cell_type": "code",
   "execution_count": 315,
   "metadata": {},
   "outputs": [],
   "source": [
    "int1['return_spread'] = int1['ausret'] - int1['rolling_beta'] * int1['canret']"
   ]
  },
  {
   "cell_type": "code",
   "execution_count": 316,
   "metadata": {},
   "outputs": [],
   "source": [
    "# AUS-CAN Strategy Without Trading Commissions\n",
    "int1['return'] = int1['return_spread'] * int1['position']"
   ]
  },
  {
   "cell_type": "code",
   "execution_count": 317,
   "metadata": {},
   "outputs": [
    {
     "data": {
      "text/html": [
       "<div>\n",
       "<style scoped>\n",
       "    .dataframe tbody tr th:only-of-type {\n",
       "        vertical-align: middle;\n",
       "    }\n",
       "\n",
       "    .dataframe tbody tr th {\n",
       "        vertical-align: top;\n",
       "    }\n",
       "\n",
       "    .dataframe thead th {\n",
       "        text-align: right;\n",
       "    }\n",
       "</style>\n",
       "<table border=\"1\" class=\"dataframe\">\n",
       "  <thead>\n",
       "    <tr style=\"text-align: right;\">\n",
       "      <th></th>\n",
       "      <th>aus</th>\n",
       "      <th>can</th>\n",
       "      <th>ausret</th>\n",
       "      <th>canret</th>\n",
       "      <th>spread</th>\n",
       "      <th>rolling_beta</th>\n",
       "      <th>rolling_spread</th>\n",
       "      <th>rolling_zscore</th>\n",
       "      <th>rolling_zscore(-1)</th>\n",
       "      <th>rolling_zscore(-2)</th>\n",
       "      <th>signal</th>\n",
       "      <th>position</th>\n",
       "      <th>return_spread</th>\n",
       "      <th>return</th>\n",
       "    </tr>\n",
       "    <tr>\n",
       "      <th>Date</th>\n",
       "      <th></th>\n",
       "      <th></th>\n",
       "      <th></th>\n",
       "      <th></th>\n",
       "      <th></th>\n",
       "      <th></th>\n",
       "      <th></th>\n",
       "      <th></th>\n",
       "      <th></th>\n",
       "      <th></th>\n",
       "      <th></th>\n",
       "      <th></th>\n",
       "      <th></th>\n",
       "      <th></th>\n",
       "    </tr>\n",
       "  </thead>\n",
       "  <tbody>\n",
       "    <tr>\n",
       "      <th>2016-12-28</th>\n",
       "      <td>20.219999</td>\n",
       "      <td>26.02</td>\n",
       "      <td>0.003972</td>\n",
       "      <td>-0.001918</td>\n",
       "      <td>0.998626</td>\n",
       "      <td>0.292720</td>\n",
       "      <td>12.603413</td>\n",
       "      <td>1.947612</td>\n",
       "      <td>2.025021</td>\n",
       "      <td>2.128297</td>\n",
       "      <td>0</td>\n",
       "      <td>-1</td>\n",
       "      <td>0.004534</td>\n",
       "      <td>-0.004534</td>\n",
       "    </tr>\n",
       "    <tr>\n",
       "      <th>2016-12-29</th>\n",
       "      <td>20.379999</td>\n",
       "      <td>26.17</td>\n",
       "      <td>0.007913</td>\n",
       "      <td>0.005765</td>\n",
       "      <td>1.047819</td>\n",
       "      <td>0.296917</td>\n",
       "      <td>12.609671</td>\n",
       "      <td>1.865362</td>\n",
       "      <td>1.947612</td>\n",
       "      <td>2.025021</td>\n",
       "      <td>0</td>\n",
       "      <td>-1</td>\n",
       "      <td>0.006201</td>\n",
       "      <td>-0.006201</td>\n",
       "    </tr>\n",
       "    <tr>\n",
       "      <th>2016-12-30</th>\n",
       "      <td>20.230000</td>\n",
       "      <td>26.15</td>\n",
       "      <td>-0.007360</td>\n",
       "      <td>-0.000764</td>\n",
       "      <td>0.912594</td>\n",
       "      <td>0.297167</td>\n",
       "      <td>12.459078</td>\n",
       "      <td>1.756066</td>\n",
       "      <td>1.865362</td>\n",
       "      <td>1.947612</td>\n",
       "      <td>0</td>\n",
       "      <td>-1</td>\n",
       "      <td>-0.007133</td>\n",
       "      <td>0.007133</td>\n",
       "    </tr>\n",
       "  </tbody>\n",
       "</table>\n",
       "</div>"
      ],
      "text/plain": [
       "                  aus    can    ausret    canret    spread  rolling_beta  \\\n",
       "Date                                                                       \n",
       "2016-12-28  20.219999  26.02  0.003972 -0.001918  0.998626      0.292720   \n",
       "2016-12-29  20.379999  26.17  0.007913  0.005765  1.047819      0.296917   \n",
       "2016-12-30  20.230000  26.15 -0.007360 -0.000764  0.912594      0.297167   \n",
       "\n",
       "            rolling_spread  rolling_zscore  rolling_zscore(-1)  \\\n",
       "Date                                                             \n",
       "2016-12-28       12.603413        1.947612            2.025021   \n",
       "2016-12-29       12.609671        1.865362            1.947612   \n",
       "2016-12-30       12.459078        1.756066            1.865362   \n",
       "\n",
       "            rolling_zscore(-2)  signal  position  return_spread    return  \n",
       "Date                                                                       \n",
       "2016-12-28            2.128297       0        -1       0.004534 -0.004534  \n",
       "2016-12-29            2.025021       0        -1       0.006201 -0.006201  \n",
       "2016-12-30            1.947612       0        -1      -0.007133  0.007133  "
      ]
     },
     "execution_count": 317,
     "metadata": {},
     "output_type": "execute_result"
    }
   ],
   "source": [
    "int1.tail(3)"
   ]
  },
  {
   "cell_type": "code",
   "execution_count": 318,
   "metadata": {},
   "outputs": [],
   "source": [
    "# AUS-CAN Strategy With Trading Commissions (0.1% Per Trade)\n",
    "int1['position(-1)'] = int1['position'].shift(1)\n",
    "int1['commission'] = 0\n",
    "commission = 0"
   ]
  },
  {
   "cell_type": "code",
   "execution_count": 319,
   "metadata": {},
   "outputs": [
    {
     "data": {
      "text/html": [
       "<div>\n",
       "<style scoped>\n",
       "    .dataframe tbody tr th:only-of-type {\n",
       "        vertical-align: middle;\n",
       "    }\n",
       "\n",
       "    .dataframe tbody tr th {\n",
       "        vertical-align: top;\n",
       "    }\n",
       "\n",
       "    .dataframe thead th {\n",
       "        text-align: right;\n",
       "    }\n",
       "</style>\n",
       "<table border=\"1\" class=\"dataframe\">\n",
       "  <thead>\n",
       "    <tr style=\"text-align: right;\">\n",
       "      <th></th>\n",
       "      <th>aus</th>\n",
       "      <th>can</th>\n",
       "      <th>ausret</th>\n",
       "      <th>canret</th>\n",
       "      <th>spread</th>\n",
       "      <th>rolling_beta</th>\n",
       "      <th>rolling_spread</th>\n",
       "      <th>rolling_zscore</th>\n",
       "      <th>rolling_zscore(-1)</th>\n",
       "      <th>rolling_zscore(-2)</th>\n",
       "      <th>signal</th>\n",
       "      <th>position</th>\n",
       "      <th>return_spread</th>\n",
       "      <th>return</th>\n",
       "      <th>position(-1)</th>\n",
       "      <th>commission</th>\n",
       "    </tr>\n",
       "    <tr>\n",
       "      <th>Date</th>\n",
       "      <th></th>\n",
       "      <th></th>\n",
       "      <th></th>\n",
       "      <th></th>\n",
       "      <th></th>\n",
       "      <th></th>\n",
       "      <th></th>\n",
       "      <th></th>\n",
       "      <th></th>\n",
       "      <th></th>\n",
       "      <th></th>\n",
       "      <th></th>\n",
       "      <th></th>\n",
       "      <th></th>\n",
       "      <th></th>\n",
       "      <th></th>\n",
       "    </tr>\n",
       "  </thead>\n",
       "  <tbody>\n",
       "    <tr>\n",
       "      <th>2016-12-28</th>\n",
       "      <td>20.219999</td>\n",
       "      <td>26.02</td>\n",
       "      <td>0.003972</td>\n",
       "      <td>-0.001918</td>\n",
       "      <td>0.998626</td>\n",
       "      <td>0.292720</td>\n",
       "      <td>12.603413</td>\n",
       "      <td>1.947612</td>\n",
       "      <td>2.025021</td>\n",
       "      <td>2.128297</td>\n",
       "      <td>0</td>\n",
       "      <td>-1</td>\n",
       "      <td>0.004534</td>\n",
       "      <td>-0.004534</td>\n",
       "      <td>-1.0</td>\n",
       "      <td>0</td>\n",
       "    </tr>\n",
       "    <tr>\n",
       "      <th>2016-12-29</th>\n",
       "      <td>20.379999</td>\n",
       "      <td>26.17</td>\n",
       "      <td>0.007913</td>\n",
       "      <td>0.005765</td>\n",
       "      <td>1.047819</td>\n",
       "      <td>0.296917</td>\n",
       "      <td>12.609671</td>\n",
       "      <td>1.865362</td>\n",
       "      <td>1.947612</td>\n",
       "      <td>2.025021</td>\n",
       "      <td>0</td>\n",
       "      <td>-1</td>\n",
       "      <td>0.006201</td>\n",
       "      <td>-0.006201</td>\n",
       "      <td>-1.0</td>\n",
       "      <td>0</td>\n",
       "    </tr>\n",
       "    <tr>\n",
       "      <th>2016-12-30</th>\n",
       "      <td>20.230000</td>\n",
       "      <td>26.15</td>\n",
       "      <td>-0.007360</td>\n",
       "      <td>-0.000764</td>\n",
       "      <td>0.912594</td>\n",
       "      <td>0.297167</td>\n",
       "      <td>12.459078</td>\n",
       "      <td>1.756066</td>\n",
       "      <td>1.865362</td>\n",
       "      <td>1.947612</td>\n",
       "      <td>0</td>\n",
       "      <td>-1</td>\n",
       "      <td>-0.007133</td>\n",
       "      <td>0.007133</td>\n",
       "      <td>-1.0</td>\n",
       "      <td>0</td>\n",
       "    </tr>\n",
       "  </tbody>\n",
       "</table>\n",
       "</div>"
      ],
      "text/plain": [
       "                  aus    can    ausret    canret    spread  rolling_beta  \\\n",
       "Date                                                                       \n",
       "2016-12-28  20.219999  26.02  0.003972 -0.001918  0.998626      0.292720   \n",
       "2016-12-29  20.379999  26.17  0.007913  0.005765  1.047819      0.296917   \n",
       "2016-12-30  20.230000  26.15 -0.007360 -0.000764  0.912594      0.297167   \n",
       "\n",
       "            rolling_spread  rolling_zscore  rolling_zscore(-1)  \\\n",
       "Date                                                             \n",
       "2016-12-28       12.603413        1.947612            2.025021   \n",
       "2016-12-29       12.609671        1.865362            1.947612   \n",
       "2016-12-30       12.459078        1.756066            1.865362   \n",
       "\n",
       "            rolling_zscore(-2)  signal  position  return_spread    return  \\\n",
       "Date                                                                        \n",
       "2016-12-28            2.128297       0        -1       0.004534 -0.004534   \n",
       "2016-12-29            2.025021       0        -1       0.006201 -0.006201   \n",
       "2016-12-30            1.947612       0        -1      -0.007133  0.007133   \n",
       "\n",
       "            position(-1)  commission  \n",
       "Date                                  \n",
       "2016-12-28          -1.0           0  \n",
       "2016-12-29          -1.0           0  \n",
       "2016-12-30          -1.0           0  "
      ]
     },
     "execution_count": 319,
     "metadata": {},
     "output_type": "execute_result"
    }
   ],
   "source": [
    "int1.tail(3)"
   ]
  },
  {
   "cell_type": "markdown",
   "metadata": {},
   "source": [
    "위에서 long or short signal 이 나왔으나 이미 전일 취한 position 과 같은 거래의 signal 인 경우 새로운 거래를 않으므로 commission = 0"
   ]
  },
  {
   "cell_type": "code",
   "execution_count": 320,
   "metadata": {},
   "outputs": [],
   "source": [
    "for i, r in enumerate(int1.iterrows()):\n",
    "    if (r[1]['signal'] == -2 or r[1]['signal'] == -1 or r[1]['signal'] == 2 or r[1]['signal'] == 1) \\\n",
    "            and r[1]['position'] != r[1]['position(-1)']:\n",
    "        commission  = 0.001\n",
    "    else:\n",
    "        commission  = 0.000\n",
    "    #int1.iloc[i, 15] = commission \n",
    "    int1.iloc[i, int1.columns.get_loc('commission')] = commission\n",
    "\n",
    "int1['return_c'] = int1['return'] - int1['commission']"
   ]
  },
  {
   "cell_type": "code",
   "execution_count": 321,
   "metadata": {},
   "outputs": [
    {
     "data": {
      "text/html": [
       "<div>\n",
       "<style scoped>\n",
       "    .dataframe tbody tr th:only-of-type {\n",
       "        vertical-align: middle;\n",
       "    }\n",
       "\n",
       "    .dataframe tbody tr th {\n",
       "        vertical-align: top;\n",
       "    }\n",
       "\n",
       "    .dataframe thead th {\n",
       "        text-align: right;\n",
       "    }\n",
       "</style>\n",
       "<table border=\"1\" class=\"dataframe\">\n",
       "  <thead>\n",
       "    <tr style=\"text-align: right;\">\n",
       "      <th></th>\n",
       "      <th>aus</th>\n",
       "      <th>can</th>\n",
       "      <th>ausret</th>\n",
       "      <th>canret</th>\n",
       "      <th>spread</th>\n",
       "      <th>rolling_beta</th>\n",
       "      <th>rolling_spread</th>\n",
       "      <th>rolling_zscore</th>\n",
       "      <th>rolling_zscore(-1)</th>\n",
       "      <th>rolling_zscore(-2)</th>\n",
       "      <th>signal</th>\n",
       "      <th>position</th>\n",
       "      <th>return_spread</th>\n",
       "      <th>return</th>\n",
       "      <th>position(-1)</th>\n",
       "      <th>commission</th>\n",
       "      <th>return_c</th>\n",
       "    </tr>\n",
       "    <tr>\n",
       "      <th>Date</th>\n",
       "      <th></th>\n",
       "      <th></th>\n",
       "      <th></th>\n",
       "      <th></th>\n",
       "      <th></th>\n",
       "      <th></th>\n",
       "      <th></th>\n",
       "      <th></th>\n",
       "      <th></th>\n",
       "      <th></th>\n",
       "      <th></th>\n",
       "      <th></th>\n",
       "      <th></th>\n",
       "      <th></th>\n",
       "      <th></th>\n",
       "      <th></th>\n",
       "      <th></th>\n",
       "    </tr>\n",
       "  </thead>\n",
       "  <tbody>\n",
       "    <tr>\n",
       "      <th>2016-12-28</th>\n",
       "      <td>20.219999</td>\n",
       "      <td>26.02</td>\n",
       "      <td>0.003972</td>\n",
       "      <td>-0.001918</td>\n",
       "      <td>0.998626</td>\n",
       "      <td>0.292720</td>\n",
       "      <td>12.603413</td>\n",
       "      <td>1.947612</td>\n",
       "      <td>2.025021</td>\n",
       "      <td>2.128297</td>\n",
       "      <td>0</td>\n",
       "      <td>-1</td>\n",
       "      <td>0.004534</td>\n",
       "      <td>-0.004534</td>\n",
       "      <td>-1.0</td>\n",
       "      <td>0.0</td>\n",
       "      <td>-0.004534</td>\n",
       "    </tr>\n",
       "    <tr>\n",
       "      <th>2016-12-29</th>\n",
       "      <td>20.379999</td>\n",
       "      <td>26.17</td>\n",
       "      <td>0.007913</td>\n",
       "      <td>0.005765</td>\n",
       "      <td>1.047819</td>\n",
       "      <td>0.296917</td>\n",
       "      <td>12.609671</td>\n",
       "      <td>1.865362</td>\n",
       "      <td>1.947612</td>\n",
       "      <td>2.025021</td>\n",
       "      <td>0</td>\n",
       "      <td>-1</td>\n",
       "      <td>0.006201</td>\n",
       "      <td>-0.006201</td>\n",
       "      <td>-1.0</td>\n",
       "      <td>0.0</td>\n",
       "      <td>-0.006201</td>\n",
       "    </tr>\n",
       "    <tr>\n",
       "      <th>2016-12-30</th>\n",
       "      <td>20.230000</td>\n",
       "      <td>26.15</td>\n",
       "      <td>-0.007360</td>\n",
       "      <td>-0.000764</td>\n",
       "      <td>0.912594</td>\n",
       "      <td>0.297167</td>\n",
       "      <td>12.459078</td>\n",
       "      <td>1.756066</td>\n",
       "      <td>1.865362</td>\n",
       "      <td>1.947612</td>\n",
       "      <td>0</td>\n",
       "      <td>-1</td>\n",
       "      <td>-0.007133</td>\n",
       "      <td>0.007133</td>\n",
       "      <td>-1.0</td>\n",
       "      <td>0.0</td>\n",
       "      <td>0.007133</td>\n",
       "    </tr>\n",
       "  </tbody>\n",
       "</table>\n",
       "</div>"
      ],
      "text/plain": [
       "                  aus    can    ausret    canret    spread  rolling_beta  \\\n",
       "Date                                                                       \n",
       "2016-12-28  20.219999  26.02  0.003972 -0.001918  0.998626      0.292720   \n",
       "2016-12-29  20.379999  26.17  0.007913  0.005765  1.047819      0.296917   \n",
       "2016-12-30  20.230000  26.15 -0.007360 -0.000764  0.912594      0.297167   \n",
       "\n",
       "            rolling_spread  rolling_zscore  rolling_zscore(-1)  \\\n",
       "Date                                                             \n",
       "2016-12-28       12.603413        1.947612            2.025021   \n",
       "2016-12-29       12.609671        1.865362            1.947612   \n",
       "2016-12-30       12.459078        1.756066            1.865362   \n",
       "\n",
       "            rolling_zscore(-2)  signal  position  return_spread    return  \\\n",
       "Date                                                                        \n",
       "2016-12-28            2.128297       0        -1       0.004534 -0.004534   \n",
       "2016-12-29            2.025021       0        -1       0.006201 -0.006201   \n",
       "2016-12-30            1.947612       0        -1      -0.007133  0.007133   \n",
       "\n",
       "            position(-1)  commission  return_c  \n",
       "Date                                            \n",
       "2016-12-28          -1.0         0.0 -0.004534  \n",
       "2016-12-29          -1.0         0.0 -0.006201  \n",
       "2016-12-30          -1.0         0.0  0.007133  "
      ]
     },
     "execution_count": 321,
     "metadata": {},
     "output_type": "execute_result"
    }
   ],
   "source": [
    "int1.tail(3)"
   ]
  },
  {
   "cell_type": "markdown",
   "metadata": {},
   "source": [
    "## 5.2. AUS-CAN Trading Strategy Cumulative Returns\n",
    "\n",
    "### AUS-CAN Strategy Cumulative Annualized Returns Calculation and Chart\n",
    "\n",
    "numpy.cumprod(a) : Return the cumulative product of elements along a given axis, by default the input is flattened.\n",
    "\n",
    "ex) np.cumprod(np.array([[1, 2, 3], [4, 5, 6]]), dtype=float)  ==> array([   1.,    2.,    6.,   24.,  120.,  720.])\n",
    "\n",
    "#### Annualized Return\n",
    "$$r_a = \\begin{bmatrix}\\displaystyle\\prod_{t=1}^{n}(r_t + 1)\\end{bmatrix}^{252/n} - 1$$"
   ]
  },
  {
   "cell_type": "code",
   "execution_count": 322,
   "metadata": {},
   "outputs": [],
   "source": [
    "int1[np.isnan(int1)] = 0  # First convert all NaN value to 0 as cumprod function doesn't have exception\n",
    "int1['ann_return'] = np.cumprod(int1['return']+1) ** (252 / len(int1)) - 1            # w/o commissions\n",
    "int1['ann_return_c'] = np.cumprod(int1['return_c']+1) ** (252 / len(int1)) - 1     # with commissions\n",
    "int1['ann_ausret'] = np.cumprod(int1['ausret']+1) ** (252 / len(int1)) - 1            # Australian Index cum return\n",
    "int1['ann_canret'] = np.cumprod(int1['canret']+1) ** (252 / len(int1)) - 1            # Canadian Index cum return"
   ]
  },
  {
   "cell_type": "code",
   "execution_count": 323,
   "metadata": {},
   "outputs": [
    {
     "data": {
      "text/html": [
       "<div>\n",
       "<style scoped>\n",
       "    .dataframe tbody tr th:only-of-type {\n",
       "        vertical-align: middle;\n",
       "    }\n",
       "\n",
       "    .dataframe tbody tr th {\n",
       "        vertical-align: top;\n",
       "    }\n",
       "\n",
       "    .dataframe thead th {\n",
       "        text-align: right;\n",
       "    }\n",
       "</style>\n",
       "<table border=\"1\" class=\"dataframe\">\n",
       "  <thead>\n",
       "    <tr style=\"text-align: right;\">\n",
       "      <th></th>\n",
       "      <th>aus</th>\n",
       "      <th>can</th>\n",
       "      <th>ausret</th>\n",
       "      <th>canret</th>\n",
       "      <th>spread</th>\n",
       "      <th>rolling_beta</th>\n",
       "      <th>rolling_spread</th>\n",
       "      <th>rolling_zscore</th>\n",
       "      <th>rolling_zscore(-1)</th>\n",
       "      <th>rolling_zscore(-2)</th>\n",
       "      <th>...</th>\n",
       "      <th>position</th>\n",
       "      <th>return_spread</th>\n",
       "      <th>return</th>\n",
       "      <th>position(-1)</th>\n",
       "      <th>commission</th>\n",
       "      <th>return_c</th>\n",
       "      <th>ann_return</th>\n",
       "      <th>ann_return_c</th>\n",
       "      <th>ann_ausret</th>\n",
       "      <th>ann_canret</th>\n",
       "    </tr>\n",
       "    <tr>\n",
       "      <th>Date</th>\n",
       "      <th></th>\n",
       "      <th></th>\n",
       "      <th></th>\n",
       "      <th></th>\n",
       "      <th></th>\n",
       "      <th></th>\n",
       "      <th></th>\n",
       "      <th></th>\n",
       "      <th></th>\n",
       "      <th></th>\n",
       "      <th></th>\n",
       "      <th></th>\n",
       "      <th></th>\n",
       "      <th></th>\n",
       "      <th></th>\n",
       "      <th></th>\n",
       "      <th></th>\n",
       "      <th></th>\n",
       "      <th></th>\n",
       "      <th></th>\n",
       "      <th></th>\n",
       "    </tr>\n",
       "  </thead>\n",
       "  <tbody>\n",
       "    <tr>\n",
       "      <th>2016-12-28</th>\n",
       "      <td>20.219999</td>\n",
       "      <td>26.02</td>\n",
       "      <td>0.003972</td>\n",
       "      <td>-0.001918</td>\n",
       "      <td>0.998626</td>\n",
       "      <td>0.292720</td>\n",
       "      <td>12.603413</td>\n",
       "      <td>1.947612</td>\n",
       "      <td>2.025021</td>\n",
       "      <td>2.128297</td>\n",
       "      <td>...</td>\n",
       "      <td>-1</td>\n",
       "      <td>0.004534</td>\n",
       "      <td>-0.004534</td>\n",
       "      <td>-1.0</td>\n",
       "      <td>0.0</td>\n",
       "      <td>-0.004534</td>\n",
       "      <td>0.031512</td>\n",
       "      <td>0.025428</td>\n",
       "      <td>0.032388</td>\n",
       "      <td>0.024813</td>\n",
       "    </tr>\n",
       "    <tr>\n",
       "      <th>2016-12-29</th>\n",
       "      <td>20.379999</td>\n",
       "      <td>26.17</td>\n",
       "      <td>0.007913</td>\n",
       "      <td>0.005765</td>\n",
       "      <td>1.047819</td>\n",
       "      <td>0.296917</td>\n",
       "      <td>12.609671</td>\n",
       "      <td>1.865362</td>\n",
       "      <td>1.947612</td>\n",
       "      <td>2.025021</td>\n",
       "      <td>...</td>\n",
       "      <td>-1</td>\n",
       "      <td>0.006201</td>\n",
       "      <td>-0.006201</td>\n",
       "      <td>-1.0</td>\n",
       "      <td>0.0</td>\n",
       "      <td>-0.006201</td>\n",
       "      <td>0.030870</td>\n",
       "      <td>0.024790</td>\n",
       "      <td>0.033202</td>\n",
       "      <td>0.025403</td>\n",
       "    </tr>\n",
       "    <tr>\n",
       "      <th>2016-12-30</th>\n",
       "      <td>20.230000</td>\n",
       "      <td>26.15</td>\n",
       "      <td>-0.007360</td>\n",
       "      <td>-0.000764</td>\n",
       "      <td>0.912594</td>\n",
       "      <td>0.297167</td>\n",
       "      <td>12.459078</td>\n",
       "      <td>1.756066</td>\n",
       "      <td>1.865362</td>\n",
       "      <td>1.947612</td>\n",
       "      <td>...</td>\n",
       "      <td>-1</td>\n",
       "      <td>-0.007133</td>\n",
       "      <td>0.007133</td>\n",
       "      <td>-1.0</td>\n",
       "      <td>0.0</td>\n",
       "      <td>0.007133</td>\n",
       "      <td>0.031604</td>\n",
       "      <td>0.025519</td>\n",
       "      <td>0.032439</td>\n",
       "      <td>0.025325</td>\n",
       "    </tr>\n",
       "  </tbody>\n",
       "</table>\n",
       "<p>3 rows × 21 columns</p>\n",
       "</div>"
      ],
      "text/plain": [
       "                  aus    can    ausret    canret    spread  rolling_beta  \\\n",
       "Date                                                                       \n",
       "2016-12-28  20.219999  26.02  0.003972 -0.001918  0.998626      0.292720   \n",
       "2016-12-29  20.379999  26.17  0.007913  0.005765  1.047819      0.296917   \n",
       "2016-12-30  20.230000  26.15 -0.007360 -0.000764  0.912594      0.297167   \n",
       "\n",
       "            rolling_spread  rolling_zscore  rolling_zscore(-1)  \\\n",
       "Date                                                             \n",
       "2016-12-28       12.603413        1.947612            2.025021   \n",
       "2016-12-29       12.609671        1.865362            1.947612   \n",
       "2016-12-30       12.459078        1.756066            1.865362   \n",
       "\n",
       "            rolling_zscore(-2)     ...      position  return_spread    return  \\\n",
       "Date                               ...                                          \n",
       "2016-12-28            2.128297     ...            -1       0.004534 -0.004534   \n",
       "2016-12-29            2.025021     ...            -1       0.006201 -0.006201   \n",
       "2016-12-30            1.947612     ...            -1      -0.007133  0.007133   \n",
       "\n",
       "            position(-1)  commission  return_c  ann_return  ann_return_c  \\\n",
       "Date                                                                       \n",
       "2016-12-28          -1.0         0.0 -0.004534    0.031512      0.025428   \n",
       "2016-12-29          -1.0         0.0 -0.006201    0.030870      0.024790   \n",
       "2016-12-30          -1.0         0.0  0.007133    0.031604      0.025519   \n",
       "\n",
       "            ann_ausret  ann_canret  \n",
       "Date                                \n",
       "2016-12-28    0.032388    0.024813  \n",
       "2016-12-29    0.033202    0.025403  \n",
       "2016-12-30    0.032439    0.025325  \n",
       "\n",
       "[3 rows x 21 columns]"
      ]
     },
     "execution_count": 323,
     "metadata": {},
     "output_type": "execute_result"
    }
   ],
   "source": [
    "int1.tail(3)"
   ]
  },
  {
   "cell_type": "code",
   "execution_count": 324,
   "metadata": {},
   "outputs": [
    {
     "name": "stderr",
     "output_type": "stream",
     "text": [
      "C:\\Users\\trimu\\Miniconda3\\envs\\py35\\lib\\site-packages\\pandas\\plotting\\_core.py:1716: UserWarning: Pandas doesn't allow columns to be created via a new attribute name - see https://pandas.pydata.org/pandas-docs/stable/indexing.html#attribute-access\n",
      "  series.name = label\n"
     ]
    },
    {
     "data": {
      "image/png": "[encoded data removed]",
      "text/plain": [
       "<Figure size 432x288 with 1 Axes>"
      ]
     },
     "metadata": {},
     "output_type": "display_data"
    }
   ],
   "source": [
    "int1.plot(y=['ann_return', 'ann_return_c', 'ann_ausret', 'ann_canret'])\n",
    "plt.title('AUS-CAN Trading Strategy Cumulative Returns')\n",
    "plt.legend(loc='upper left');"
   ]
  },
  {
   "cell_type": "markdown",
   "metadata": {},
   "source": [
    "### 5.3. AUS-CAN Trading Strategy Performance Metrics\n",
    "\n",
    "#### AUS-CAN Trading Strategy Annualized Returns"
   ]
  },
  {
   "cell_type": "code",
   "execution_count": 334,
   "metadata": {},
   "outputs": [],
   "source": [
    "ann_return = int1.iloc[len(int1) - 1, int1.columns.get_loc('ann_return')]   # last value from cumprod\n",
    "ann_ret_c   = int1.iloc[len(int1) - 1, int1.columns.get_loc('ann_return_c')]\n",
    "ann_ausret = int1.iloc[len(int1) - 1, int1.columns.get_loc('ann_ausret')]\n",
    "ann_canret = int1.iloc[len(int1) - 1, int1.columns.get_loc('ann_canret')]"
   ]
  },
  {
   "cell_type": "markdown",
   "metadata": {},
   "source": [
    "#### AUS-CAN Trading Strategy Annualized Standard Deviation\n",
    "\n",
    "$$\\sigma_a = \\sigma * \\sqrt{252}$$"
   ]
  },
  {
   "cell_type": "code",
   "execution_count": 336,
   "metadata": {},
   "outputs": [],
   "source": [
    "ann_std       = np.std(int1['return']) * np.sqrt(252)\n",
    "ann_std_c    = np.std(int1['return_c']) * np.sqrt(252)\n",
    "ann_aus_std = np.std(int1['ausret']) * np.sqrt(252)\n",
    "ann_can_std = np.std(int1['canret']) * np.sqrt(252)"
   ]
  },
  {
   "cell_type": "markdown",
   "metadata": {},
   "source": [
    "#### AUS-CAN Trading Strategy Annualized Sharpe Ratio\n",
    "$$sr_a = \\frac{r_a - rf_a}{\\sigma_a}$$"
   ]
  },
  {
   "cell_type": "code",
   "execution_count": 338,
   "metadata": {},
   "outputs": [],
   "source": [
    "ann_sr        = ann_return / ann_std \n",
    "ann_sr_c     = ann_ret_c  / ann_std_c\n",
    "ann_aus_sr = ann_ausret / ann_aus_std\n",
    "ann_can_sr = ann_canret / ann_can_std"
   ]
  },
  {
   "cell_type": "markdown",
   "metadata": {},
   "source": [
    "### AUS-CAN Trading Strategy Summary Results\n"
   ]
  },
  {
   "cell_type": "code",
   "execution_count": 339,
   "metadata": {},
   "outputs": [
    {
     "name": "stdout",
     "output_type": "stream",
     "text": [
      "\n",
      "AUS-CAN Trading Strategy Summary Results\n"
     ]
    },
    {
     "data": {
      "text/html": [
       "<div>\n",
       "<style scoped>\n",
       "    .dataframe tbody tr th:only-of-type {\n",
       "        vertical-align: middle;\n",
       "    }\n",
       "\n",
       "    .dataframe tbody tr th {\n",
       "        vertical-align: top;\n",
       "    }\n",
       "\n",
       "    .dataframe thead th {\n",
       "        text-align: right;\n",
       "    }\n",
       "</style>\n",
       "<table border=\"1\" class=\"dataframe\">\n",
       "  <thead>\n",
       "    <tr style=\"text-align: right;\">\n",
       "      <th></th>\n",
       "      <th>0</th>\n",
       "      <th>1</th>\n",
       "      <th>2</th>\n",
       "      <th>3</th>\n",
       "      <th>4</th>\n",
       "    </tr>\n",
       "  </thead>\n",
       "  <tbody>\n",
       "    <tr>\n",
       "      <th>0</th>\n",
       "      <td>Annualized:</td>\n",
       "      <td>return</td>\n",
       "      <td>return_c</td>\n",
       "      <td>ausret</td>\n",
       "      <td>canret</td>\n",
       "    </tr>\n",
       "    <tr>\n",
       "      <th>1</th>\n",
       "      <td>Return</td>\n",
       "      <td>0.0316038</td>\n",
       "      <td>0.0255193</td>\n",
       "      <td>0.0324387</td>\n",
       "      <td>0.0253246</td>\n",
       "    </tr>\n",
       "    <tr>\n",
       "      <th>2</th>\n",
       "      <td>Standard Deviation</td>\n",
       "      <td>0.116432</td>\n",
       "      <td>0.116526</td>\n",
       "      <td>0.318502</td>\n",
       "      <td>0.251612</td>\n",
       "    </tr>\n",
       "    <tr>\n",
       "      <th>3</th>\n",
       "      <td>Sharpe Ratio (Rf=0%)</td>\n",
       "      <td>0.271435</td>\n",
       "      <td>0.219001</td>\n",
       "      <td>0.101848</td>\n",
       "      <td>0.100649</td>\n",
       "    </tr>\n",
       "  </tbody>\n",
       "</table>\n",
       "</div>"
      ],
      "text/plain": [
       "                      0          1          2          3          4\n",
       "0           Annualized:     return   return_c     ausret     canret\n",
       "1                Return  0.0316038  0.0255193  0.0324387  0.0253246\n",
       "2    Standard Deviation   0.116432   0.116526   0.318502   0.251612\n",
       "3  Sharpe Ratio (Rf=0%)   0.271435   0.219001   0.101848   0.100649"
      ]
     },
     "execution_count": 339,
     "metadata": {},
     "output_type": "execute_result"
    }
   ],
   "source": [
    "results = [{'0': 'Annualized:', '1': 'return', '2': 'return_c', '3': 'ausret', '4': 'canret'},\n",
    "        {'0': 'Return', '1': ann_return, '2': ann_ret_c, '3': ann_ausret, '4': ann_canret},\n",
    "        {'0': 'Standard Deviation', '1': ann_std, '2': ann_std_c, '3': ann_aus_std, '4': ann_can_std},\n",
    "        {'0': 'Sharpe Ratio (Rf=0%)', '1': ann_sr, '2': ann_sr_c, '3': ann_aus_sr, '4': ann_can_sr}]\n",
    "table = pd.DataFrame(results1)\n",
    "print(\"\")\n",
    "print(\"AUS-CAN Trading Strategy Summary Results\")\n",
    "table"
   ]
  },
  {
   "cell_type": "markdown",
   "metadata": {},
   "source": [
    "위의 결과는 return 과 return_c 가 Australia benchmark 보다는 낮고 Canadian benchmark 보다는 높다.\n",
    "\n",
    "risk (std) 는 두 나라 benchmark 보다 낮다.\n",
    "\n",
    "따라서,  commission 을 감안하여도 우리 strategy 의 Sharpe Ratio 는 두 나라 개별 benchmark 보다 높다. "
   ]
  },
  {
   "cell_type": "code",
   "execution_count": null,
   "metadata": {},
   "outputs": [],
   "source": []
  }
 ],
 "metadata": {
  "kernelspec": {
   "display_name": "Python 3",
   "language": "python",
   "name": "python3"
  },
  "language_info": {
   "codemirror_mode": {
    "name": "ipython",
    "version": 3
   },
   "file_extension": ".py",
   "mimetype": "text/x-python",
   "name": "python",
   "nbconvert_exporter": "python",
   "pygments_lexer": "ipython3",
   "version": "3.5.5"
  }
 },
 "nbformat": 4,
 "nbformat_minor": 2
}
