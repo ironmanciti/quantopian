{
 "cells": [
  {
   "cell_type": "markdown",
   "metadata": {},
   "source": [
    "# Chapter 6. 평균\n",
    "\n",
    "\n",
    "## 수학적 평균\n",
    "\n",
    "\n",
    "$$\\mu = \\frac{\\sum_{i=1}^N X_i}{N}$$\n",
    "\n",
    "여기서 $X_1, X_2, \\ldots , X_N$ 은 관찰값."
   ]
  },
  {
   "cell_type": "code",
   "execution_count": 1,
   "metadata": {},
   "outputs": [
    {
     "name": "stdout",
     "output_type": "stream",
     "text": [
      "x1 평균 : 29 / 8 = 3.625\n",
      "x2 평균: 129 / 9 = 14.3333333333\n"
     ]
    }
   ],
   "source": [
    "import scipy.stats as stats\n",
    "import numpy as np\n",
    "\n",
    "x1 = [1, 2, 2, 3, 4, 5, 5, 7]\n",
    "x2 = x1 + [100]\n",
    "\n",
    "print('x1 평균 :', sum(x1), '/', len(x1), '=', np.mean(x1))\n",
    "print ('x2 평균:', sum(x2), '/', len(x2), '=', np.mean(x2))"
   ]
  },
  {
   "cell_type": "code",
   "execution_count": 2,
   "metadata": {},
   "outputs": [
    {
     "data": {
      "text/plain": [
       "3.625"
      ]
     },
     "execution_count": 2,
     "metadata": {},
     "output_type": "execute_result"
    }
   ],
   "source": [
    "sum(x1) / len(x1)"
   ]
  },
  {
   "cell_type": "code",
   "execution_count": 3,
   "metadata": {},
   "outputs": [
    {
     "data": {
      "text/plain": [
       "14.333333333333334"
      ]
     },
     "execution_count": 3,
     "metadata": {},
     "output_type": "execute_result"
    }
   ],
   "source": [
    "sum(x2) / len(x2)"
   ]
  },
  {
   "cell_type": "markdown",
   "metadata": {},
   "source": [
    "### 가중평균\n",
    "\n",
    "포트폴리오 가치 계산에 사용되는 가중평균\n",
    "$$\\sum_{i=1}^n w_i X_i $$\n",
    "\n",
    "여기서, $\\sum_{i=1}^n w_i = 1$ 이고,  $w_i = 1/n$ for all $i$."
   ]
  },
  {
   "cell_type": "markdown",
   "metadata": {
    "collapsed": true
   },
   "source": [
    "## 중간값\n",
    "\n",
    "n 개의 숫자로 이루어진 dataset 을 오름 혹은 내림 차순으로 sort  하여 $(n+1)/2$ 번째의 값. 숫자의 갯수가 짝수인 경우 $n/2$ 과 $(n+2)/2$ 번째 값의 평균으로 정의. x1 dataset 의 경우 4, 5 번째 값의 평균.\n",
    "\n",
    "중간값은 x2 의 100 과 같은 극단적인 값에 덜 영향을 받는 장점이 있음."
   ]
  },
  {
   "cell_type": "code",
   "execution_count": 6,
   "metadata": {},
   "outputs": [
    {
     "name": "stdout",
     "output_type": "stream",
     "text": [
      "Median of x1: 3.5\n",
      "Median of x2: 4.0\n"
     ]
    }
   ],
   "source": [
    "print('Median of x1:', np.median(x1))\n",
    "print('Median of x2:', np.median(x2))"
   ]
  },
  {
   "cell_type": "markdown",
   "metadata": {},
   "source": [
    "## Mode (최빈수)\n",
    "\n",
    "가장 자주 나타나는 값. mean 이나 median 과 달리 숫자가 아닌 경우에도 적용 가능."
   ]
  },
  {
   "cell_type": "code",
   "execution_count": 7,
   "metadata": {},
   "outputs": [
    {
     "name": "stdout",
     "output_type": "stream",
     "text": [
      "One mode of x1: 2\n"
     ]
    }
   ],
   "source": [
    "print('One mode of x1:', stats.mode(x1)[0][0])"
   ]
  },
  {
   "cell_type": "markdown",
   "metadata": {},
   "source": [
    "x1 의 최빈수는 2 와 5 인데, stats.mode 는 하나의 값만 return 하므로 별개 function 을 직접 작성."
   ]
  },
  {
   "cell_type": "code",
   "execution_count": 8,
   "metadata": {},
   "outputs": [
    {
     "name": "stdout",
     "output_type": "stream",
     "text": [
      "All of the modes of x1: [2, 5]\n"
     ]
    }
   ],
   "source": [
    "def mode(l):\n",
    "    # list 에 각 숫자가 몇번 나타나는지 누적한다.\n",
    "    counts = {}\n",
    "    for e in l:\n",
    "        if e in counts:\n",
    "            counts[e] += 1\n",
    "        else:\n",
    "            counts[e] = 1\n",
    "            \n",
    "    # 가장 많이 나타난 숫자 출력\n",
    "    maxcount = 0\n",
    "    modes = {}\n",
    "    for (key, value) in counts.items():\n",
    "        if value > maxcount:\n",
    "            maxcount = value\n",
    "            modes = {key}\n",
    "        elif value == maxcount:\n",
    "            modes.add(key)\n",
    "            \n",
    "    if maxcount > 1 or len(l) == 1:\n",
    "        return list(modes)\n",
    "    return 'No mode'\n",
    "    \n",
    "print('All of the modes of x1:', mode(x1))"
   ]
  },
  {
   "cell_type": "markdown",
   "metadata": {},
   "source": [
    "주식 수익률과 같이 똑 같은 숫자가 반복되기 힘든 경우 histogram 의 bin 을 이용한 최빈 구간 표시"
   ]
  },
  {
   "cell_type": "code",
   "execution_count": 16,
   "metadata": {},
   "outputs": [
    {
     "name": "stdout",
     "output_type": "stream",
     "text": [
      "Mode of returns :  [0.0]\n"
     ]
    }
   ],
   "source": [
    "from googlefinance.client import get_price_data, get_prices_data\n",
    "import pandas as pd\n",
    "\n",
    "start = pd.to_datetime('2014-01-01')\n",
    "end = pd.to_datetime('2015-01-01')     \n",
    "price = get_price_data({'q': \"SP\", 'i': \"86400\", 'x': \"NASD\", 'p': \"10Y\" })['Close'].loc[start : end]\n",
    "price.index = pd.to_datetime(price.index.date)\n",
    "price = pd.DataFrame(price.values, columns=['Close'], index=price.index)\n",
    "returns = price.Close.pct_change()[1:]\n",
    "print('Mode of returns : ', mode(returns))"
   ]
  },
  {
   "cell_type": "code",
   "execution_count": 24,
   "metadata": {},
   "outputs": [
    {
     "name": "stdout",
     "output_type": "stream",
     "text": [
      "Mode of returns :  [0.0]\n",
      "hist :  [ 2  0  0  1  2  6  5  9 19 35 39 50 33 19 12  7  5  5  1  1]\n",
      "bins :  [-0.06682692 -0.06080449 -0.05478205 -0.04875961 -0.04273717 -0.03671474\n",
      " -0.0306923  -0.02466986 -0.01864742 -0.01262499 -0.00660255 -0.00058011\n",
      "  0.00544233  0.01146476  0.0174872   0.02350964  0.02953208  0.03555451\n",
      "  0.04157695  0.04759939  0.05362183]\n",
      "\n",
      "maxfreq :  50\n",
      "\n",
      "Mode of bins: [(-0.00058011162168031261, 0.0054423257833417504)]\n"
     ]
    }
   ],
   "source": [
    "# 자산의 수익률을 구하고 최빈구간 출력\n",
    "\n",
    "from googlefinance.client import get_price_data, get_prices_data\n",
    "import pandas as pd\n",
    "\n",
    "start = pd.to_datetime('2014-01-01')\n",
    "end = pd.to_datetime('2015-01-01')     \n",
    "price = get_price_data({'q': \"SP\", 'i': \"86400\", 'x': \"NASD\", 'p': \"10Y\" })['Close'].loc[start : end]\n",
    "price.index = pd.to_datetime(price.index.date)\n",
    "price = pd.DataFrame(price.values, columns=['Close'], index=price.index)\n",
    "returns = price.Close.pct_change()[1:]\n",
    "print('Mode of returns : ', mode(returns))\n",
    "\n",
    "# 모든 수익률 값이 다르므로 가장 많이 분포된 구간을 구한다.\n",
    "# np.histogram 을 이용하면 최빈 구간을 구할 수 있다.\n",
    "\n",
    "hist, bins = np.histogram(returns, 20) # 20 개 bin 으로 구분\n",
    "print(\"hist : \", hist)\n",
    "print(\"bins : \", bins)\n",
    "print()\n",
    "maxfreq = max(hist)\n",
    "print(\"maxfreq : \", maxfreq)\n",
    "print()\n",
    "# 가장 빈도가 많은 bin 을 구하고 범위를 print\n",
    "print('Mode of bins:', [(bins[i], bins[i+1]) for i, j in enumerate(hist) if j == maxfreq])"
   ]
  },
  {
   "cell_type": "code",
   "execution_count": 28,
   "metadata": {},
   "outputs": [
    {
     "data": {
      "image/png": "[encoded data removed]",
      "text/plain": [
       "<Figure size 432x288 with 1 Axes>"
      ]
     },
     "metadata": {},
     "output_type": "display_data"
    }
   ],
   "source": [
    "import matplotlib.pyplot as plt\n",
    "plt.hist(returns, bins=20)\n",
    "plt.show()"
   ]
  },
  {
   "cell_type": "markdown",
   "metadata": {},
   "source": [
    "## 기하학적 평균\n",
    "\n",
    "수학적 평균이 덧셈을 이용하는 반면, 기하학적 평균은 곱셈을 이용한다 :\n",
    "$$ G = \\sqrt[n]{X_1X_1\\ldots X_n} $$\n",
    "\n",
    "이 것은 $X_i \\geq 0$ 인 경우, log 를 사용하여 다음과 같이 다시 쓸 수 있다 :\n",
    "$$ \\ln G = \\frac{\\sum_{i=1}^n \\ln X_i}{n} $$\n",
    "\n",
    "기하학적 평균은 언제나 수학적 평균 보다 같거나 작고 (양수 값들의 경우), 모든 값이 같을 경우에 한하여 동일하다."
   ]
  },
  {
   "cell_type": "code",
   "execution_count": 29,
   "metadata": {},
   "outputs": [
    {
     "name": "stdout",
     "output_type": "stream",
     "text": [
      "Geometric mean of x1: 3.09410402498\n",
      "Geometric mean of x2: 4.55253458762\n"
     ]
    }
   ],
   "source": [
    "# scipy 의 gmean 함수를 이용하여 기하학적 평균을 구한다. \n",
    "print('Geometric mean of x1:', stats.gmean(x1))\n",
    "print('Geometric mean of x2:', stats.gmean(x2))"
   ]
  },
  {
   "cell_type": "code",
   "execution_count": null,
   "metadata": {},
   "outputs": [],
   "source": []
  }
 ],
 "metadata": {
  "kernelspec": {
   "display_name": "Python 3",
   "language": "python",
   "name": "python3"
  },
  "language_info": {
   "codemirror_mode": {
    "name": "ipython",
    "version": 3
   },
   "file_extension": ".py",
   "mimetype": "text/x-python",
   "name": "python",
   "nbconvert_exporter": "python",
   "pygments_lexer": "ipython3",
   "version": "3.5.5"
  }
 },
 "nbformat": 4,
 "nbformat_minor": 1
}
