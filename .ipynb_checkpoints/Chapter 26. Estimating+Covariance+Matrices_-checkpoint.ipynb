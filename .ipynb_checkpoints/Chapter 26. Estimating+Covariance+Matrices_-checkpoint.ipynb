{
 "cells": [
  {
   "cell_type": "markdown",
   "metadata": {},
   "source": [
    "# Chapter 26. Estimation of Covariance Matrices\n",
    "\n",
    "Volatility has long been a thorn in the side of investors in the market. Successfully measuring volatility would allow for more accurate modeling of the returns and more stable investments leading to greater returns, but forecasting volatility accurately is a difficult problem. \n",
    "\n",
    "## Measuring Volatility\n",
    "\n",
    "Volatility needs to be forward-looking and predictive in order to make smart decisions. Unfortunately, simply taking the historical standard deviation of an individual asset's returns falls short when we take into account need for robustness to the future. When we scale the problem up to the point where we need to forecast the volatility for many assets, it gets even harder.\n",
    "\n",
    "To model how a portfolio overall changes, it is important to look not only at the volatility of each asset in the portfolio, but also at the pairwise covariances of every asset involved. The relationship between two or more assets provides valuable insights and a path towards reduction of overall portfolio volatility. A large number of assets with low covariance would assure they decrease or increase independently of each other. Indepedent assets have less of an impact on our portfolio's volatility as they give us true diversity and help us avoid [position concentration risk](https://www.quantopian.com/lectures/position-concentration-risk).\n",
    "\n",
    "## Covariance\n",
    "\n",
    "In statistics and probability, the covariance is a measure of the joint variability of two random variables. When random variables exhibit similar behavior, there tends to be a high covariance between them. Mathematically, we express the covariance of X with respect to Y as:\n",
    "\n",
    "$$ COV(X, Y) = E[(X - E[X])(Y - E[Y])]$$\n",
    "\n",
    "Notice that if we take the covariance of $X$ with itself, we get:\n",
    "\n",
    "$$ COV(X, X) = E[(X - E[X])(X - E[X])] = E[(X - E[X])^2] = VAR(X) $$\n",
    "\n",
    "We can use covariance to quantify the similarities between different assets in much the same way. If two assets have a high covariance, they will generally behave the same way. Assets with particularly high covariance can essentially replace each other.\n",
    "\n",
    "Covariance matrices form the backbone of Modern Portfolio theory (MPT). MPT focuses on maximizing return for a given level of risk, making essential the methods with which we estimate that risk. We use covariances to quantify the joint risk of assets, forming how we view the risk of an entire portfolio. What is key is that investing in assets that have high pairwise covariances provides little diversification because of how closely their fluctuations are related."
   ]
  },
  {
   "cell_type": "code",
   "execution_count": 2,
   "metadata": {},
   "outputs": [],
   "source": [
    "import numpy as np \n",
    "import pandas as pd\n",
    "import matplotlib.pyplot as plt\n",
    "import seaborn as sns\n",
    "import scipy.stats as stats\n",
    "from sklearn import covariance"
   ]
  },
  {
   "cell_type": "markdown",
   "metadata": {},
   "source": [
    "Let's take the covariance of two closely related variables, $X$ and $Y$. Say that $X$ is some randomly drawn set and that $Y =  5X + \\epsilon$, where $\\epsilon$ is some extra noise. We can compute the covariance using the formula above to get a clearer picture of how $X$ evolves with respect to asset $Y$."
   ]
  },
  {
   "cell_type": "code",
   "execution_count": 4,
   "metadata": {},
   "outputs": [
    {
     "name": "stdout",
     "output_type": "stream",
     "text": [
      "Value of the covariance between X and Y: 4.978900478294346\n"
     ]
    }
   ],
   "source": [
    "# Generate random values of x\n",
    "X = np.random.normal(size = 1000)\n",
    "epsilon = np.random.normal(0, 3, size = len(X))\n",
    "Y = 5*X + epsilon             # closely related asset to X\n",
    "\n",
    "product = (X - np.mean(X))*(Y - np.mean(Y))\n",
    "expected_value = np.mean(product)\n",
    "\n",
    "print('Value of the covariance between X and Y:', expected_value)"
   ]
  },
  {
   "cell_type": "code",
   "execution_count": 10,
   "metadata": {},
   "outputs": [
    {
     "data": {
      "text/plain": [
       "(1000,)"
      ]
     },
     "execution_count": 10,
     "metadata": {},
     "output_type": "execute_result"
    }
   ],
   "source": [
    "Y.shape"
   ]
  },
  {
   "cell_type": "markdown",
   "metadata": {},
   "source": [
    "We can also compute the covariance between $X$ and $Y$ with a single function."
   ]
  },
  {
   "cell_type": "code",
   "execution_count": 5,
   "metadata": {},
   "outputs": [
    {
     "data": {
      "text/plain": [
       "array([[ 0.97744109,  4.98388436],\n",
       "       [ 4.98388436, 33.92985106]])"
      ]
     },
     "execution_count": 5,
     "metadata": {},
     "output_type": "execute_result"
    }
   ],
   "source": [
    "np.cov([X, Y])"
   ]
  },
  {
   "cell_type": "markdown",
   "metadata": {},
   "source": [
    "This gives us the covariance matrix between $X$ and $Y$. The diagonals are their respective variances and the indices $(i, j)$ refer to the covariance between assets indexed $i$ and $j$."
   ]
  },
  {
   "cell_type": "code",
   "execution_count": 11,
   "metadata": {},
   "outputs": [
    {
     "name": "stdout",
     "output_type": "stream",
     "text": [
      "0.9764636509272577 33.895921205831485\n"
     ]
    }
   ],
   "source": [
    "print(np.var(X), np.var(Y))"
   ]
  },
  {
   "cell_type": "markdown",
   "metadata": {},
   "source": [
    "In this case, we only have two assets so we only have indices $(0, 1)$ and $(1, 0)$. Covariance matrices are symmetric, since $COV(X, Y) = COV(Y, X)$, which is why the off-diagonals mirror each other."
   ]
  },
  {
   "cell_type": "markdown",
   "metadata": {},
   "source": [
    "We can intuitively think of this as how much $Y$ changes when $X$ changes and vice-versa. As such, our covariance value of about 5 could have been anticipated from the definition of the relationship between $X$ and $Y$.\n",
    "\n",
    "Here is a scatterplot between $X$ and $Y$ with a line of best fit down the middle."
   ]
  },
  {
   "cell_type": "code",
   "execution_count": 13,
   "metadata": {
    "scrolled": false
   },
   "outputs": [
    {
     "data": {
      "image/png": "[encoded data removed]",
      "text/plain": [
       "<Figure size 432x288 with 1 Axes>"
      ]
     },
     "metadata": {},
     "output_type": "display_data"
    }
   ],
   "source": [
    "# scatter plot of X and y\n",
    "from statsmodels import regression\n",
    "import statsmodels.api as sm\n",
    "def linreg(X,Y):\n",
    "    # Running the linear regression\n",
    "    X = sm.add_constant(X)\n",
    "    model = regression.linear_model.OLS(Y, X).fit()\n",
    "    a = model.params[0]\n",
    "    b = model.params[1]\n",
    "    X = X[:, 1]\n",
    "\n",
    "    # Return summary of the regression and plot results\n",
    "    X2 = np.linspace(X.min(), X.max(), 100)\n",
    "    Y_hat = X2 * b + a\n",
    "    plt.scatter(X, Y, alpha=0.3) # Plot the raw data\n",
    "    plt.plot(X2, Y_hat, 'r', alpha=0.9);  # Add the regression line, colored in red\n",
    "    plt.xlabel('X Value')\n",
    "    plt.ylabel('Y Value')\n",
    "    return model.summary()\n",
    "\n",
    "linreg(X, Y)\n",
    "plt.scatter(X, Y)\n",
    "plt.title('Scatter plot and linear equation of x as a function of y')\n",
    "plt.xlabel('X')\n",
    "plt.ylabel('Y')\n",
    "plt.legend(['Linear equation', 'Scatter Plot']);"
   ]
  },
  {
   "cell_type": "markdown",
   "metadata": {},
   "source": [
    "Between the covariance, the linear regression, and our knowledge of how $X$ and $Y$ are related, we can easily assess the relationship between our toy variables. With real data, there are two main complicating factors. The first is that we are exmaining significantly more relationships. The second is that we do not know any of their underlying relationships. These hindrances speak to the benefit of having accurate estimates of covariance matrices."
   ]
  },
  {
   "cell_type": "markdown",
   "metadata": {},
   "source": [
    "## The Covariance Matrix\n",
    "\n",
    "As the number of assets we are curious about increases, so too do the dimensions of the covariance matrix that describes their relationships. If we take the covariance between $N$ assets, we will get out a $N \\times N$ covariance matrix. This allows us to efficiently express the relationships between many arrays at once. As with the simple $2\\times 2$ case, the $i$-th diagonal is the variance of the $i$-th asset and the values at $(i, j)$ and $(j, i)$ refer to the covariance between asset $i$ and asset $j$. We display this with the following notation:\n",
    "\n",
    "$$ \\Sigma = \\left[\\begin{matrix}\n",
    "VAR(X_1) & COV(X_1, X_2) & \\cdots & COV(X_1, X_N) \\\\\n",
    "COV(X_2, X_0) & VAR(X_2) & \\cdots & COV(X_2, X_N) \\\\\n",
    "\\vdots & \\vdots & \\ddots & \\vdots \\\\\n",
    "COV(X_N, X_1) & COV(X_N, X_2) & \\cdots & VAR(X_N)\n",
    "\\end{matrix}\\right] $$  \n",
    "\n",
    "When trying to find the covariance of many assets, it quickly becomes apparent why the matrix notation is more favorable. "
   ]
  },
  {
   "cell_type": "code",
   "execution_count": 55,
   "metadata": {},
   "outputs": [],
   "source": [
    "# Four asset example of the covariance matrix.\n",
    "from googlefinance.client import get_price_data, get_prices_data\n",
    "import pandas as pd\n",
    "\n",
    "start = pd.to_datetime('2016-01-01')\n",
    "end = pd.to_datetime('2016-02-01')     \n",
    "\n",
    "df = pd.DataFrame(columns=['SBUX', 'AAPL', 'GS', 'GILD'])\n",
    "df['SBUX'] = pd.DataFrame(get_price_data({'q': \"SBUX\", 'i': \"86400\", 'x': \"NASD\", 'p': \"20Y\" }))['Close'].loc[start : end]\n",
    "df['AAPL'] = pd.DataFrame(get_price_data({'q': \"AAPL\", 'i': \"86400\", 'x': \"NASD\", 'p': \"20Y\" }))['Close'].loc[start : end]\n",
    "df['GS'] = pd.DataFrame(get_price_data({'q': \"GS\", 'i': \"86400\", 'x': \"NYSE\", 'p': \"20Y\" }))['Close'].loc[start : end]\n",
    "df['GILD'] = pd.DataFrame(get_price_data({'q': 'GILD', 'i': \"86400\", 'x': \"NASD\", 'p': \"20Y\" }))['Close'].loc[start : end]\n",
    "df.index = pd.to_datetime(df.index.date)\n",
    "\n",
    "returns = df.pct_change()[1:]"
   ]
  },
  {
   "cell_type": "code",
   "execution_count": 58,
   "metadata": {},
   "outputs": [
    {
     "name": "stdout",
     "output_type": "stream",
     "text": [
      "Covariance matrix:\n",
      "          SBUX      AAPL        GS      GILD\n",
      "SBUX  0.000501  0.000330  0.000362  0.000107\n",
      "AAPL  0.000330  0.000755  0.000462  0.000244\n",
      "GS    0.000362  0.000462  0.000545  0.000155\n",
      "GILD  0.000107  0.000244  0.000155  0.000546\n"
     ]
    }
   ],
   "source": [
    "print('Covariance matrix:')\n",
    "print(returns.cov())"
   ]
  },
  {
   "cell_type": "markdown",
   "metadata": {},
   "source": [
    "## Why does all this matter?  \n",
    "\n",
    "We measure the covariance of the assets in our portfolio to make sure we have an accurate picture of the risks involved in holding those assets togther. We want to apportion our capital amongst these assets in such a way as to minimize our exposure to the risks associated with each individual asset and to neutralize exposure to systematic risk. This is done through the process of portfolio optimization. Portfolio optimization routines go through exactly this process, finding the appropriate weights for each asset given its risks. Mean-variance optimization, a staple of MPT, does exactly this. \n",
    "\n",
    "Estimating the covariance matrix becomes critical when using methods that rely on it, as we cannot know the true statistical relationships underlying our chosen assets. The stability and accuracy of these estimates are essential to getting stable weights that encapsulate our risks and intentions.\n",
    "\n",
    "Unfortunately, the most obvious way to calculate a covariance matrix estimate, the sample covariance, is notoriously unstable. If we have fewer time observations of our assets than the number of assets ($T < N$), the estimate becomes especially unreliable. The extreme values react more strongly to changes, and as the extreme values of the covariance jump around, our optimizers are perturbed, giving us inconsistent weights. This is a problem when we are trying to make many independent bets on many assets to improve our risk exposures through diversification. Even if we have more time elements than assets that we are trading, we can run into issues, as the time component may span multiple regimes, giving us covariance matrices that are still inaccurate.\n",
    "\n",
    "The solution in many cases is to use a robust formulation of the covariance matrix. If we can estimate a covariance matrix that still captures the relationships between assets and is simultaneously more stable, then we can have more faith in the output of our optimizers. A main way that we handle this is by using some form of a shrinkage estimator."
   ]
  },
  {
   "cell_type": "markdown",
   "metadata": {},
   "source": [
    "# Shrinkage Estimators\n",
    "\n",
    "The concept of shrinkage stems from the need for stable covariance matrices. The basic way we \"shrink\" a matrix is to reduce the extreme values of the sample covariance matrix by pulling them closer to the center. Practically, we take a linear combination of the sample covariance covariance matrix a constant array representing the center.\n",
    "\n",
    "Given a sample covariance matrix, $\\textbf{S}$, the mean variance, $\\mu$, and the shrinkage constant $\\delta$, the shrunk estimated covariance is mathematically defined as:   \n",
    "\n",
    "$$(1 - \\delta)\\textbf{S} + \\delta\\mu\\textbf{1}$$  \n",
    " \n",
    "We restrict $\\delta$ such that $0 \\leq \\delta \\leq 1$ making this a weighted average between the sample covariance and the mean variance matrix. The optimal value of $\\delta$ has been tackled several times. For our purposes, we will use the formulation by Ledoit and Wolf.\n",
    "\n",
    "## Ledoit-Wolf Estimator.\n",
    "\n",
    "In [their paper](http://ledoit.net/honey.pdf), Ledoit and Wolf  proposed an optimal $\\delta$: \n",
    "\n",
    "$$\\hat\\delta^* \\max\\{0, \\min\\{\\frac{\\hat\\kappa}{T},1\\}\\}$$\n",
    "\n",
    "$\\hat\\kappa$ has a mathematical formulation that is beyond the scope of this lecture, but you can find its definition in the paper.\n",
    "\n",
    "The Ledoit-Wolf Estimator is the robust covariance estimate that uses this optimal $\\hat\\delta^*$ to shrink the sample covariance matrix. We can draw an implementation of it directly from `scikit-learn` for easy use."
   ]
  },
  {
   "cell_type": "code",
   "execution_count": 69,
   "metadata": {},
   "outputs": [],
   "source": [
    "# Getting the return data of assets. \n",
    "\n",
    "start = pd.to_datetime('2016-01-01')\n",
    "end = pd.to_datetime('2016-02-01')     \n",
    "\n",
    "df = pd.DataFrame(columns=['AAPL', 'MSFT', 'GE', 'FDX', 'SBUX'])\n",
    "df['AAPL'] = pd.DataFrame(get_price_data({'q': \"AAPL\", 'i': \"86400\", 'x': \"NASD\", 'p': \"20Y\" }))['Close'].loc[start : end]\n",
    "df['MSFT'] = pd.DataFrame(get_price_data({'q': \"MSFT\", 'i': \"86400\", 'x': \"NASD\", 'p': \"20Y\" }))['Close'].loc[start : end]\n",
    "df['GE'] = pd.DataFrame(get_price_data({'q': 'GE', 'i': \"86400\", 'x': \"NYSE\", 'p': \"20Y\" }))['Close'].loc[start : end]\n",
    "df['FDX'] = pd.DataFrame(get_price_data({'q': 'FDX', 'i': \"86400\", 'x': \"NYSE\", 'p': \"20Y\" }))['Close'].loc[start : end]\n",
    "df['SBUX'] = pd.DataFrame(get_price_data({'q': 'SBUX', 'i': \"86400\", 'x': \"NASD\", 'p': \"20Y\" }))['Close'].loc[start : end]\n",
    "df.index = pd.to_datetime(df.index.date)\n",
    "returns = df.pct_change()[1:]"
   ]
  },
  {
   "cell_type": "code",
   "execution_count": 70,
   "metadata": {},
   "outputs": [
    {
     "data": {
      "text/html": [
       "<div>\n",
       "<style scoped>\n",
       "    .dataframe tbody tr th:only-of-type {\n",
       "        vertical-align: middle;\n",
       "    }\n",
       "\n",
       "    .dataframe tbody tr th {\n",
       "        vertical-align: top;\n",
       "    }\n",
       "\n",
       "    .dataframe thead th {\n",
       "        text-align: right;\n",
       "    }\n",
       "</style>\n",
       "<table border=\"1\" class=\"dataframe\">\n",
       "  <thead>\n",
       "    <tr style=\"text-align: right;\">\n",
       "      <th></th>\n",
       "      <th>AAPL</th>\n",
       "      <th>MSFT</th>\n",
       "      <th>GE</th>\n",
       "      <th>FDX</th>\n",
       "      <th>SBUX</th>\n",
       "    </tr>\n",
       "  </thead>\n",
       "  <tbody>\n",
       "    <tr>\n",
       "      <th>2016-01-05</th>\n",
       "      <td>0.000855</td>\n",
       "      <td>-0.012257</td>\n",
       "      <td>-0.014125</td>\n",
       "      <td>-0.037318</td>\n",
       "      <td>-0.029485</td>\n",
       "    </tr>\n",
       "    <tr>\n",
       "      <th>2016-01-06</th>\n",
       "      <td>-0.025059</td>\n",
       "      <td>0.004562</td>\n",
       "      <td>0.000977</td>\n",
       "      <td>0.008506</td>\n",
       "      <td>0.006694</td>\n",
       "    </tr>\n",
       "    <tr>\n",
       "      <th>2016-01-07</th>\n",
       "      <td>-0.019570</td>\n",
       "      <td>-0.018165</td>\n",
       "      <td>-0.015940</td>\n",
       "      <td>-0.026823</td>\n",
       "      <td>-0.008866</td>\n",
       "    </tr>\n",
       "    <tr>\n",
       "      <th>2016-01-08</th>\n",
       "      <td>-0.042205</td>\n",
       "      <td>-0.034783</td>\n",
       "      <td>-0.042314</td>\n",
       "      <td>-0.043901</td>\n",
       "      <td>-0.024772</td>\n",
       "    </tr>\n",
       "    <tr>\n",
       "      <th>2016-01-09</th>\n",
       "      <td>0.005288</td>\n",
       "      <td>0.003067</td>\n",
       "      <td>-0.017950</td>\n",
       "      <td>0.000892</td>\n",
       "      <td>-0.001058</td>\n",
       "    </tr>\n",
       "  </tbody>\n",
       "</table>\n",
       "</div>"
      ],
      "text/plain": [
       "                AAPL      MSFT        GE       FDX      SBUX\n",
       "2016-01-05  0.000855 -0.012257 -0.014125 -0.037318 -0.029485\n",
       "2016-01-06 -0.025059  0.004562  0.000977  0.008506  0.006694\n",
       "2016-01-07 -0.019570 -0.018165 -0.015940 -0.026823 -0.008866\n",
       "2016-01-08 -0.042205 -0.034783 -0.042314 -0.043901 -0.024772\n",
       "2016-01-09  0.005288  0.003067 -0.017950  0.000892 -0.001058"
      ]
     },
     "execution_count": 70,
     "metadata": {},
     "output_type": "execute_result"
    }
   ],
   "source": [
    "returns.head()"
   ]
  },
  {
   "cell_type": "markdown",
   "metadata": {},
   "source": [
    "Here we calculate the in-sample Ledoit-Wolf estimator."
   ]
  },
  {
   "cell_type": "code",
   "execution_count": 72,
   "metadata": {},
   "outputs": [
    {
     "name": "stdout",
     "output_type": "stream",
     "text": [
      "[[0.00068146 0.00041574 0.0001997  0.00027765 0.00025951]\n",
      " [0.00041574 0.00053441 0.00023871 0.00036006 0.00024856]\n",
      " [0.0001997  0.00023871 0.00034925 0.00023354 0.00025562]\n",
      " [0.00027765 0.00036006 0.00023354 0.00052472 0.0002923 ]\n",
      " [0.00025951 0.00024856 0.00025562 0.0002923  0.00048171]]\n"
     ]
    }
   ],
   "source": [
    "in_sample_lw = covariance.ledoit_wolf(returns)[0]\n",
    "print(in_sample_lw)"
   ]
  },
  {
   "cell_type": "markdown",
   "metadata": {},
   "source": [
    "### Calculating Errors\n",
    "\n",
    "We can quantify the difference between the in and out-of-sample estimates by taking the absolute difference element-by-element for the two matrices. We represent this mathematically as: \n",
    "\n",
    "$$ \\frac{1}{n} \\sum_{i=1}^{n} |a_i - b_i| $$\n",
    "\n",
    "First, we calculate the out-of-sample estimate and then we compare."
   ]
  },
  {
   "cell_type": "code",
   "execution_count": 73,
   "metadata": {},
   "outputs": [],
   "source": [
    "start = pd.to_datetime('2016-01-01')\n",
    "end = pd.to_datetime('2016-03-01')     \n",
    "\n",
    "df = pd.DataFrame(columns=['AAPL', 'MSFT', 'GE', 'FDX', 'SBUX'])\n",
    "df['AAPL'] = pd.DataFrame(get_price_data({'q': \"AAPL\", 'i': \"86400\", 'x': \"NASD\", 'p': \"20Y\" }))['Close'].loc[start : end]\n",
    "df['MSFT'] = pd.DataFrame(get_price_data({'q': \"MSFT\", 'i': \"86400\", 'x': \"NASD\", 'p': \"20Y\" }))['Close'].loc[start : end]\n",
    "df['GE'] = pd.DataFrame(get_price_data({'q': 'GE', 'i': \"86400\", 'x': \"NYSE\", 'p': \"20Y\" }))['Close'].loc[start : end]\n",
    "df['FDX'] = pd.DataFrame(get_price_data({'q': 'FDX', 'i': \"86400\", 'x': \"NYSE\", 'p': \"20Y\" }))['Close'].loc[start : end]\n",
    "df['SBUX'] = pd.DataFrame(get_price_data({'q': 'SBUX', 'i': \"86400\", 'x': \"NASD\", 'p': \"20Y\" }))['Close'].loc[start : end]\n",
    "df.index = pd.to_datetime(df.index.date)\n",
    "\n",
    "oos_returns  = df.pct_change()[1:]\n",
    "\n",
    "out_sample_lw = covariance.ledoit_wolf(oos_returns)[0]"
   ]
  },
  {
   "cell_type": "code",
   "execution_count": 74,
   "metadata": {},
   "outputs": [
    {
     "name": "stdout",
     "output_type": "stream",
     "text": [
      "Average Ledoit-Wolf error:  0.00032994705680263164\n"
     ]
    }
   ],
   "source": [
    "lw_errors = sum(abs(np.subtract(in_sample_lw, out_sample_lw)))\n",
    "print(\"Average Ledoit-Wolf error: \", np.mean(lw_errors))"
   ]
  },
  {
   "cell_type": "markdown",
   "metadata": {},
   "source": [
    "### Comparing to Sample Matrix\n",
    "\n",
    "We can check how much of an improvement this is by comparing the errors with the erros of the sample covariance."
   ]
  },
  {
   "cell_type": "code",
   "execution_count": 75,
   "metadata": {},
   "outputs": [
    {
     "name": "stdout",
     "output_type": "stream",
     "text": [
      "Average sample covariance error:  0.000495830752168492\n"
     ]
    }
   ],
   "source": [
    "sample_errors = sum(abs(np.subtract(returns.cov().values, oos_returns.cov().values)))\n",
    "print('Average sample covariance error: ', np.mean(sample_errors))"
   ]
  },
  {
   "cell_type": "code",
   "execution_count": 76,
   "metadata": {},
   "outputs": [
    {
     "name": "stdout",
     "output_type": "stream",
     "text": [
      "Error improvement of LW over sample: 50.87%\n"
     ]
    }
   ],
   "source": [
    "print('Error improvement of LW over sample: {0:.2f}%'.format((np.mean(sample_errors/lw_errors)-1)*100))"
   ]
  },
  {
   "cell_type": "markdown",
   "metadata": {},
   "source": [
    "We can see that the improvement of Ledoit-Wolf over the sample covariance is pretty solid. This translates into decreased volatility and turnover rate in our portfolio, and thus increased returns when using the shrunk covariance matrix. "
   ]
  },
  {
   "cell_type": "code",
   "execution_count": 77,
   "metadata": {},
   "outputs": [
    {
     "data": {
      "image/png": "[encoded data removed]",
      "text/plain": [
       "<Figure size 432x288 with 1 Axes>"
      ]
     },
     "metadata": {},
     "output_type": "display_data"
    }
   ],
   "source": [
    "sns.boxplot(\n",
    "    data = pd.DataFrame({\n",
    "        'Sample Covariance Error': sample_errors,\n",
    "        'Ledoit-Wolf Error': lw_errors\n",
    "    })\n",
    ")\n",
    "plt.title('Box Plot of Errors')\n",
    "plt.ylabel('Error');"
   ]
  },
  {
   "cell_type": "markdown",
   "metadata": {},
   "source": [
    "### Adding More Assets\n",
    "\n",
    "Now we bring this to more assets over a longer time period. Let's see how the errors change over a series of months."
   ]
  },
  {
   "cell_type": "code",
   "execution_count": 15,
   "metadata": {},
   "outputs": [],
   "source": [
    "start_date = '2016-01-01'\n",
    "end_date = '2017-06-01'\n",
    "\n",
    "symbols = [\n",
    "    'SPY', 'XLF', 'XLE', 'XLU','XLK', 'XLI', 'XLB', 'GE', 'GS', 'BRK-A', 'JPM', 'AAPL', 'MMM', 'BA',\n",
    "    'CSCO','KO', 'DIS','DD', 'XOM', 'INTC', 'IBM', 'NKE', 'MSFT', 'PG', 'UTX', 'HD', 'MCD', 'CVX', \n",
    "    'AXP','JNJ', 'MRK', 'CAT', 'PFE', 'TRV', 'UNH', 'WMT', 'VZ', 'QQQ', 'BAC', 'F', 'C', 'CMCSA',\n",
    "    'MS', 'ORCL', 'PEP', 'HON', 'GILD', 'LMT', 'UPS', 'HP', 'FDX', 'GD', 'SBUX'\n",
    "]\n",
    "\n",
    "prices = get_pricing(symbols, start_date=start_date, end_date=end_date, fields='price')\n",
    "prices.columns = map(lambda x: x.symbol, prices.columns)\n",
    "returns = prices.pct_change()[1:]"
   ]
  },
  {
   "cell_type": "code",
   "execution_count": 16,
   "metadata": {},
   "outputs": [],
   "source": [
    "dates = returns.resample('M').first().index"
   ]
  },
  {
   "cell_type": "markdown",
   "metadata": {},
   "source": [
    "Here we calculate our different covariance estimates."
   ]
  },
  {
   "cell_type": "code",
   "execution_count": 17,
   "metadata": {},
   "outputs": [],
   "source": [
    "sample_covs = []\n",
    "lw_covs = []\n",
    "\n",
    "for i in range(1, len(dates)):\n",
    "    sample_cov = returns[dates[i-1]:dates[i]].cov().values\n",
    "    sample_covs.append(sample_cov)\n",
    "    \n",
    "    lw_cov = covariance.ledoit_wolf(returns[dates[i-1]:dates[i]])[0]\n",
    "    lw_covs.append(lw_cov)      "
   ]
  },
  {
   "cell_type": "markdown",
   "metadata": {},
   "source": [
    "Here we calculate the error for each time period."
   ]
  },
  {
   "cell_type": "code",
   "execution_count": 18,
   "metadata": {},
   "outputs": [],
   "source": [
    "lw_diffs = []\n",
    "for pair in zip(lw_covs[:-1], lw_covs[1:]):\n",
    "    diff = np.mean(np.sum(np.abs(pair[0] - pair[1])))\n",
    "    lw_diffs.append(diff)\n",
    "    \n",
    "sample_diffs = []\n",
    "for pair in zip(sample_covs[:-1], sample_covs[1:]):\n",
    "    diff = np.mean(np.sum(np.abs(pair[0] - pair[1])))\n",
    "    sample_diffs.append(diff)"
   ]
  },
  {
   "cell_type": "markdown",
   "metadata": {},
   "source": [
    "And here we plot the errors over time!"
   ]
  },
  {
   "cell_type": "code",
   "execution_count": 19,
   "metadata": {},
   "outputs": [
    {
     "data": {
      "image/png": "[encoded data removed]",
      "text/plain": [
       "<matplotlib.figure.Figure at 0x7f52380581d0>"
      ]
     },
     "metadata": {},
     "output_type": "display_data"
    }
   ],
   "source": [
    "plt.plot(dates[2:], lw_diffs)\n",
    "plt.plot(dates[2:], sample_diffs)\n",
    "plt.xlabel('Time')\n",
    "plt.ylabel('Mean Error')\n",
    "plt.legend(['Ledoit-Wolf Errors', 'Sample Covariance Errors']);"
   ]
  },
  {
   "cell_type": "markdown",
   "metadata": {},
   "source": [
    "We can see that the mean errors of Ledoit-Wolf are lower than those of the sample covariance matrix. This shows us that the sample sample covariance matrix is less robust. This example only used 50 assets, but as we add more, the Ledoit-Wolf estimator would likely perform even better as the number of assets outpaces the number of observations."
   ]
  }
 ],
 "metadata": {
  "kernelspec": {
   "display_name": "Python 3",
   "language": "python",
   "name": "python3"
  },
  "language_info": {
   "codemirror_mode": {
    "name": "ipython",
    "version": 3
   },
   "file_extension": ".py",
   "mimetype": "text/x-python",
   "name": "python",
   "nbconvert_exporter": "python",
   "pygments_lexer": "ipython3",
   "version": "3.6.5"
  }
 },
 "nbformat": 4,
 "nbformat_minor": 2
}
