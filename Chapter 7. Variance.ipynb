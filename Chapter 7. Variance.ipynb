{
 "cells": [
  {
   "cell_type": "markdown",
   "metadata": {},
   "source": [
    "# Chapter 7. 분산의 측정\n",
    "\n",
    "분산은 data 의 집합이 얼마나 퍼져있는가 측정한 것이다. 이 것이 특히 finance 에서 중요한 이유는 risk 를 측정하는 주요 방법이 역사적으로 수익율이 분산된 정도를 측정하는 것이기 때문이다. 수익률이 가운데 값에 모여 있으면 걱정할 이유가 없고, 수익률이 들쭉 날쭉하면 위험한 것이다.\n",
    "분산이 낮은 data 는 평균 근처에 모여 있는 반면, 높은 분산은 매우 큰 혹은 매우 작은 값이 있음을 나타낸다."
   ]
  },
  {
   "cell_type": "code",
   "execution_count": 1,
   "metadata": {},
   "outputs": [],
   "source": [
    "import numpy as np\n",
    "\n",
    "np.random.seed(121)"
   ]
  },
  {
   "cell_type": "code",
   "execution_count": 2,
   "metadata": {},
   "outputs": [
    {
     "name": "stdout",
     "output_type": "stream",
     "text": [
      "X: [ 3  8 34 39 46 52 52 52 54 57 60 65 66 75 83 85 88 94 95 96]\n",
      "Mean of X: 60.2\n"
     ]
    }
   ],
   "source": [
    "# Generate 20 random integers < 100\n",
    "X = np.random.randint(100, size=20)\n",
    "\n",
    "# Sort them\n",
    "X = np.sort(X)\n",
    "print('X: %s' %(X))\n",
    "\n",
    "mu = np.mean(X)\n",
    "print('Mean of X:', mu)"
   ]
  },
  {
   "cell_type": "markdown",
   "metadata": {},
   "source": [
    "# 범위\n",
    "\n",
    "분산을 표시하는 가장 쉬운 방법은 최대값과 최소값의 차이를 범위로 표시하는 것이다. 하지만 이 것은 하나의 예외값에 매우 민감하게 되는 단점이 있으므로 실제로 사용하지 않는다.\n",
    "numpy 의 peak to peak 함수를 이용하여 구한다."
   ]
  },
  {
   "cell_type": "code",
   "execution_count": 3,
   "metadata": {},
   "outputs": [
    {
     "name": "stdout",
     "output_type": "stream",
     "text": [
      "Range of X: 93\n"
     ]
    }
   ],
   "source": [
    "print('Range of X: %s' %(np.ptp(X)))"
   ]
  },
  {
   "cell_type": "markdown",
   "metadata": {},
   "source": [
    "# 절대 평균 편차 (Mean Absolute Deviation (MAD))\n",
    "\n",
    "절대평균편차는 산술평균과 측정값의 차이의 합의 평균이다. 그러나 **MAD 는 미분하기에 불편하므로 제곱을 한 Variance 와 STD 를 많이 사용한다.**\n",
    "\n",
    "$$ MAD = \\frac{\\sum_{i=1}^n |X_i - \\mu|}{n} $$\n",
    "\n",
    "여기서 $n$ 은 측정값의 갯수, $\\mu$ 는 평균"
   ]
  },
  {
   "cell_type": "code",
   "execution_count": 4,
   "metadata": {},
   "outputs": [
    {
     "name": "stdout",
     "output_type": "stream",
     "text": [
      "Mean absolute deviation of X: 20.52\n"
     ]
    }
   ],
   "source": [
    "abs_dispersion = [np.abs(mu - x) for x in X]\n",
    "MAD = np.sum(abs_dispersion)/len(abs_dispersion)\n",
    "print('Mean absolute deviation of X:', MAD)"
   ]
  },
  {
   "cell_type": "markdown",
   "metadata": {},
   "source": [
    "# 분산(Variance) 과 표준편차(standard deviation)\n",
    "\n",
    "분산 $\\sigma^2$ 은 평균 주변의 편차를 제곱한 것의 평균으로 정의한다.\n",
    "$$ \\sigma^2 = \\frac{\\sum_{i=1}^n (X_i - \\mu)^2}{n} $$\n",
    "\n",
    "이 것이 MAD 보다 유용한 이유는 절대값은 미분하지 못하는 반면 제곱은 분산 가능하고 optimization algorithm 은 미분을 사용하기 때문이다.\n",
    "표준편차는 분산의 제곱근으로 정의된다. $\\sigma$ 는 측정값과 같은 단위이므로 해석하기 쉽니다."
   ]
  },
  {
   "cell_type": "code",
   "execution_count": 5,
   "metadata": {},
   "outputs": [
    {
     "name": "stdout",
     "output_type": "stream",
     "text": [
      "Variance of X: 670.16\n",
      "Standard deviation of X: 25.8874486962\n"
     ]
    }
   ],
   "source": [
    "print('Variance of X:', np.var(X))\n",
    "print('Standard deviation of X:', np.std(X))"
   ]
  },
  {
   "cell_type": "code",
   "execution_count": null,
   "metadata": {},
   "outputs": [],
   "source": []
  }
 ],
 "metadata": {
  "kernelspec": {
   "display_name": "Python 3",
   "language": "python",
   "name": "python3"
  },
  "language_info": {
   "codemirror_mode": {
    "name": "ipython",
    "version": 3
   },
   "file_extension": ".py",
   "mimetype": "text/x-python",
   "name": "python",
   "nbconvert_exporter": "python",
   "pygments_lexer": "ipython3",
   "version": "3.5.5"
  }
 },
 "nbformat": 4,
 "nbformat_minor": 1
}
