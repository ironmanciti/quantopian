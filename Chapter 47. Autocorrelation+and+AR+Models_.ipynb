{
 "cells": [
  {
   "cell_type": "markdown",
   "metadata": {},
   "source": [
    "# Chapter 47. Autoregressive (AR) Models"
   ]
  },
  {
   "cell_type": "markdown",
   "metadata": {},
   "source": [
    "## AR Models\n",
    "An autoregressive, or AR$(p)$, model is created by regressing a time series on its past values, its lags. The simplest form of an autoregressive model is an AR$(1)$ model, signifying using only one lag term. A first order autocorrelation model like this for a time series $x_t$ is:\n",
    "\n",
    "$$\n",
    "x_t = b_0 + b_1 x_{t - 1} + \\epsilon_t\n",
    "$$\n",
    "\n",
    "Where $b_0$ is base state, $b_1$ is a coefficient and $x_{t - 1}$ represents the value of the time series at time $(t - 1)$ and $\\epsilon_t$ is the error term(noise). We can extend(generalize) this to an AR$(p)$ model, denoted:\n",
    "\n",
    "$$\n",
    "x_t = b_0 + b_1 x_{t-1} + b_2 x_{t - 2} \\ldots + b_p x_{t - p} + \\epsilon_t\n",
    "$$\n",
    "\n",
    "For an AR model to function properly, we must require that the time series is <font color='red'>**covariance stationary**</font>. This means that it follows <font color='red'> **three conditions**</font>:\n",
    "\n",
    "1. The expected value of the time series is constant and finite at all times, i.e. $E[y_t] = \\mu$ and $\\mu < \\infty$ for all values of $t$.\n",
    "2. The variance of the time series is constant and finite for all time periods.\n",
    "3. The covariance of the time series with itself for a fixed number of periods in either the future or the past is constant and finite for all time periods, i.e\n",
    "\n",
    "$$\n",
    "COV(y_t, y_{t - s}) = \\lambda, \\  |\\lambda| < \\infty, \\text{ $\\lambda$ constant}, \\  t = 1, 2, \\ \\ldots, T; \\  s = 0, \\pm 1, \\pm 2, \\ldots, \\pm T\n",
    "$$\n",
    "\n",
    "Note that this mathematical representation includes condition 2.\n",
    "\n",
    "If these conditions are not satisfied, our estimation results will not have real-world meaning. Our estimates for the parameters will be biased, making any tests that we try to form using the model invalid. <font color='green'>Unfortunately, it can be a real pain to find a covariance-stationary time series in the wild in financial markets. For example, when we look at the stock price of Apple, we can clearly see an upward trend. The mean is increasing with time. There are ways, however to make a non-stationary time series stationary. Once we have performed this transformation, we can build an autoregressive models under the above assumptions.</font>"
   ]
  },
  {
   "cell_type": "markdown",
   "metadata": {},
   "source": [
    "## Simulating Data\n",
    "\n",
    "Here we will draw data samples from a simulated AR$(3)$ process.\n",
    "\n",
    ": 현재의 value 가 series 의 past 3 values 에 dependent 함.\n",
    "\n",
    "b = np.array([0, 0.8, 0.1, 0.05]) : 0.8 dependency for d-1, 0.1 dependency for d-2, 0.05 dependency for d-3\n",
    "\n",
    "즉, 어제는 많이 기억하고 d-3 는 조금 기억함.\n",
    "\n",
    "np.random.normal(mean, std) : Draw random samples from a normal (Gaussian) distribution.\n",
    "\n",
    "numpy.append(arr, values) : values are appended to arr"
   ]
  },
  {
   "cell_type": "code",
   "execution_count": 47,
   "metadata": {},
   "outputs": [
    {
     "data": {
      "image/png": "[encoded data removed]",
      "text/plain": [
       "<Figure size 432x288 with 1 Axes>"
      ]
     },
     "metadata": {},
     "output_type": "display_data"
    }
   ],
   "source": [
    "import numpy as np\n",
    "import pandas as pd\n",
    "from scipy import stats\n",
    "import statsmodels.api as sm\n",
    "import statsmodels.tsa as tsa\n",
    "import matplotlib.pyplot as plt\n",
    "\n",
    "# ensures experiment runs the same every time\n",
    "np.random.seed(100)\n",
    "\n",
    "# This function simluates an AR process, generating a new value based on historial values,\n",
    "# autoregressive coefficients b1 ... bk, and some randomness.\n",
    "def AR(b, X, mu, sigma):\n",
    "    l = min(len(b)-1, len(X))\n",
    "    b0 = b[0]\n",
    "    \n",
    "    return b0 + np.dot(b[1:l+1], X[-l:]) + np.random.normal(mu, sigma)\n",
    "\n",
    "b = np.array([0, 0.8, 0.1, 0.05])\n",
    "X = np.array([1])\n",
    "\n",
    "mu = 0\n",
    "sigma = 1\n",
    "\n",
    "for i in range(10000):\n",
    "    X = np.append(X, AR(b, X, mu, sigma))         # shape (10001,) 인 auto-regressive series X 생성\n",
    "    \n",
    "plt.plot(X)\n",
    "plt.xlabel('Time')\n",
    "plt.ylabel('AR Series Value');"
   ]
  },
  {
   "cell_type": "markdown",
   "metadata": {},
   "source": [
    "Auto-regressive model 은 spiky 한 특징을 가졌다. 그 이유는 past 와 관계없는 stationary series 나 non-auto correlated series 는 time t 에 extreme value 가 있어도 time t+1 에 또 extreme value 가 있기 힘든데 반해, auto correlated series  는 t-1 에 extreme value 가 있으면 time t 에도 extreme value 가 있을 가능성이 높고 그 때문에 t-1 보다 더 extreme value 로 옮겨갈 가능성이 높다. 이러한 결과로 spike 모양의 behavior 를 보인다. 이 때문에 fat tail 이 생긴다.\n",
    "\n",
    "Note how this process fluctuates around some central value. This value is the mean of our time series. As we have a constant mean throughout time and the fluctuations seem to all stray within a given distance from the mean, we might hypothesize that this series is stationary. We would want to rigorously test that in practice, which we will explore lightly in the examples at the end of this lecture. Also see the [stationarity lecture](https://www.quantopian.com/lectures/integration-cointegration-and-stationarity) from the Quantopian Lecture Series.\n",
    "\n",
    "In this case, however, we have constructed the model to be stationary, so no need to worry about testing for stationarity right now."
   ]
  },
  {
   "cell_type": "markdown",
   "metadata": {},
   "source": [
    "## Tail Risk\n",
    "\n",
    "Autoregressive processes will tend to have more extreme values than data drawn from say a normal distribution. This is because the value at each time point is influenced by recent values. If the series randomly jumps up, it is more likely to stay up than a non-autoregressive series. This is known as 'fat-tailledness' (fat-tailed distribution) because the extremes on the pdf (확률 밀도 함수 (probability density function) : 확률 변수의 분포를 나타내는 함수) will be fatter than in a normal distribution.\n",
    "\n",
    "Much talk of tail risk in finance comes from the fact that tail events do occur and are hard to model due to their infrequent occurrence. ** If we have reason to suspect that a process is autoregressive, we should expect risk from extreme tail events and adjust accordingly.**\n",
    "\n",
    "AR models are just one of the sources of tail risk, so don't assume that because a series is non-AR, it does not have tail risk.\n",
    "\n",
    "We'll check for that behavior now.\n",
    "\n",
    "**scipy.stats.norm.cdf(x, loc=0, scale=1) **: Cumulative distribution function of a normal continuous random variable. The location (loc) keyword specifies the mean. The scale (scale) keyword specifies the standard deviation.\n",
    "\n",
    "* Fat Tail 여부에 대한 수학적 Sanity Check : Histogram 을 그려서 육안으로는 fat tail 여부 판단이 어려우므로 수학적으로 check 해야 함.\n",
    "\n",
    "Fat Tail 의 발생 원인은 auto regressive 한 data 의 extreme case 발생이고 real world 에서 실제로 발생하므로 없다고 무시하면 안됨."
   ]
  },
  {
   "cell_type": "code",
   "execution_count": 51,
   "metadata": {},
   "outputs": [
    {
     "name": "stdout",
     "output_type": "stream",
     "text": [
      "Frequency of std events in X \n",
      "1: 0.327567243276\t2: 0.185481451855\t3: 0.0909909009099\t4: 0.035796420358\n",
      "Frequency of std events in a normal process \n",
      "1: 0.158655253931\t2: 0.0227501319482\t3: 0.00134989803163\t4: 3.16712418331e-05\n"
     ]
    }
   ],
   "source": [
    "def compare_tails_to_normal(X):\n",
    "    # Define matrix to store comparisons\n",
    "    A = np.zeros((2,4))    \n",
    "    \n",
    "    for k in range(4):             \n",
    "        #stores tail probabilities of the sample series vs a normal series\n",
    "        A[0, k] = len(X[X > (k + 1)]) / float(len(X)) # Estimate tails of X        \n",
    "        A[1, k] = 1 - stats.norm.cdf(k + 1) # Gaussian distribution\n",
    "        \n",
    "    print('Frequency of std events in X \\n1: %s\\t2: %s\\t3: %s\\t4: %s' % tuple(A[0]))\n",
    "    print('Frequency of std events in a normal process \\n1: %s\\t2: %s\\t3: %s\\t4: %s' % tuple(A[1]))\n",
    "    \n",
    "    return A\n",
    "\n",
    "A = compare_tails_to_normal(X)"
   ]
  },
  {
   "cell_type": "markdown",
   "metadata": {},
   "source": [
    "X 는 mu = 0, sigma = 1 인 series data 이므로, sigma 4 이내의 data 가 Gaussian 은 99.99% 인데 X 는 3.5 % 가 sigma 4 밖이고,  Gaussian 은 sigma 3 이내가  99.8% 인데, X 는 9 % 의 fat tail 을 이루고 있음을 볼 수 있다."
   ]
  },
  {
   "cell_type": "code",
   "execution_count": 58,
   "metadata": {},
   "outputs": [
    {
     "data": {
      "image/png": "[encoded data removed]",
      "text/plain": [
       "<Figure size 432x288 with 1 Axes>"
      ]
     },
     "metadata": {},
     "output_type": "display_data"
    }
   ],
   "source": [
    "plt.hist(X, bins=20);"
   ]
  },
  {
   "cell_type": "markdown",
   "metadata": {},
   "source": [
    "## Estimations of Variance Will be Wrong\n",
    "\n",
    "Because an AR process has a tail heavy and non-normal distribution of outcomes, estimates of variance on AR processes will be wrong. This is dangerous because variance is used to calculate many quantities in staistics, most importantly confidence intervals and p-values. Because the width of the confidence interval is often based on a variance estimate, we can no longer trust p-values that come from AR processes. For more information on p-values please see the Hypothesis Testing notebook in the [Quantopian Lecture Series](https://www.quantopian.com/lectures).\n",
    "\n",
    "p-value 는 confidence interval 과 관계있고, confidence interval 은 independent sampling 을 전제로 하는데, AR 이 있는 data 는 independent sampling 이 안되므로 p-value 의 전제가 성립되지 않는다.\n",
    "\n",
    "Let's check this here. First we'll define some helper functions that compute a naive 95% confidence interval for the true value of the mean on some input series."
   ]
  },
  {
   "cell_type": "code",
   "execution_count": 59,
   "metadata": {},
   "outputs": [],
   "source": [
    "def compute_unadjusted_interval(X):\n",
    "    T = len(X)\n",
    "    # Compute mu and sigma MLE\n",
    "    mu = np.mean(X)\n",
    "    sigma = np.std(X)\n",
    "    # Compute the bounds using standard error\n",
    "    lower = mu - 1.96 * (sigma/np.sqrt(T))          # 95% confidence interval\n",
    "    upper = mu + 1.96 * (sigma/np.sqrt(T))\n",
    "    return lower, upper\n",
    "\n",
    "# We'll make a function that returns true when the computed bounds contain 0\n",
    "def check_unadjusted_coverage(X):\n",
    "    l, u = compute_unadjusted_interval(X)\n",
    "    # Check to make sure l <= 0 <= u\n",
    "    if l <= 0 and u >= 0:\n",
    "        return True\n",
    "    else:\n",
    "        return False\n",
    "    \n",
    "def simululate_AR_process(b, T):\n",
    "    X = np.array([1])\n",
    "\n",
    "    mu = 0\n",
    "    sigma = 1\n",
    "\n",
    "    for i in range(T):\n",
    "        X = np.append(X, AR(b, X, mu, sigma))\n",
    "        \n",
    "    return X"
   ]
  },
  {
   "cell_type": "markdown",
   "metadata": {},
   "source": [
    "Now we'll run an experiment 1000 times in which we compute an AR series, then estimate the mean and take a naive 95% confidence interval around it. Then we'll check if the confidence interval contains 0, the true long-term mean of our series, and record that in our `outcomes` array."
   ]
  },
  {
   "cell_type": "code",
   "execution_count": 62,
   "metadata": {},
   "outputs": [],
   "source": [
    "trials = 1000\n",
    "outcomes = np.zeros((trials, 1))\n",
    "\n",
    "for i in range(trials):\n",
    "    #note these are the same values we used to generate the initial AR array\n",
    "    Z = simululate_AR_process(np.array([0, 0.8, 0.1, 0.05]), 100)\n",
    "    if check_unadjusted_coverage(Z):\n",
    "        # The internal contains 0, the true value\n",
    "        outcomes[i] = 1\n",
    "    else:\n",
    "        outcomes[i] = 0"
   ]
  },
  {
   "cell_type": "markdown",
   "metadata": {},
   "source": [
    "Finally let's check, if our test is calibrated correctly, then we should have the confidence interval contain 0, 95% of the time."
   ]
  },
  {
   "cell_type": "code",
   "execution_count": 63,
   "metadata": {},
   "outputs": [
    {
     "data": {
      "text/plain": [
       "0.19600000000000001"
      ]
     },
     "execution_count": 63,
     "metadata": {},
     "output_type": "execute_result"
    }
   ],
   "source": [
    "np.sum(outcomes) / trials"
   ]
  },
  {
   "cell_type": "markdown",
   "metadata": {},
   "source": [
    "confidence interval 95% 로 설정한 함수에서 19.6 % 만이 신뢰구간에 들어감. 따라서 AR data 는 완전히 fundamental condition 이 다르므로 modeling 을 다르게 해야함. independent 한 data sampling 같은 normal statistic 은 적용되지 않음.\n",
    "\n",
    "Looks like something is severly wrong. What's going on here is that the AR series moves around a lot more, but the estimate of variance assumes stationarity and doesn't take into account all of that motion. As a result the confidence intervals are way smaller than they should be and don't contain the correct value nearly enough.\n",
    "\n",
    "This gives us a false sense of security. Stationarity tests should usually catch AR behavior and let us know that estimates of variance will be wrong. For more information please see the Integration, Cointegration, and Stationarity lecture of the [Quantopian Lecture Series](https://www.quantopian.com/lectures).\n",
    "\n",
    "#### Correcting for Variance\n",
    "\n",
    "In practice it can be very difficult to accurately estimate variance on an AR series, but one attempt to do this is the Newey-West estimation. You can find information on it [here](https://en.wikipedia.org/wiki/Newey%E2%80%93West_estimator)."
   ]
  },
  {
   "cell_type": "markdown",
   "metadata": {},
   "source": [
    "## Testing for AR Behavior\n",
    "\n",
    "In order to determine the order, $p$, of an AR$(p)$ model, we look at the autocorrelations of the time series. These are the correlations of the series with its past values. The $k$-th order autocorrelation is\n",
    "\n",
    "$$\n",
    "\\rho_k = \\frac{COV(x_t, x_{t - k})}{\\sigma_x^2} = \\frac{E[(x_t - \\mu)(x_{t - k} - \\mu)}{\\sigma_x^2}\n",
    "$$\n",
    "\n",
    "Where $k$ represents the number of periods lagged. We cannot directly observe the autocorrelations so we estimate them as \n",
    "\n",
    "$$\n",
    "\\hat{\\rho}_k = \\frac{\\sum_{t = k + 1}^T[(x_t - \\bar{x})(x_{t - k} - \\bar{x})]}{\\sum_{t = 1}^T (x_t - \\bar{x})^2}\n",
    "$$\n",
    "\n",
    "For our purposes, we can use a pair of tools called the autocorrelation function (ACF) and the partial autocorrelation function (PACF) in order to determine the order of our model. The PACF controls for shorter lags, unlike the ACF. These functions are included with many statistical packages and compute the sample autocorrelations for us, allowing us to determine the appropriate value of $p$.\n",
    "\n",
    "We will demonstrate these functions on our above example of a stationary series:\n",
    "\n",
    "statsmodels.tsa.stattools.acf(x) : Autocorrelation function for 1d arrays.\n",
    "\n",
    "statsmodels.tsa.stattools.pacf(x) : Partial autocorrelation estimated"
   ]
  },
  {
   "cell_type": "code",
   "execution_count": 64,
   "metadata": {},
   "outputs": [],
   "source": [
    "from statsmodels.tsa.stattools import acf, pacf"
   ]
  },
  {
   "cell_type": "code",
   "execution_count": 65,
   "metadata": {},
   "outputs": [],
   "source": [
    "X = simululate_AR_process(np.array([0, 0.8, 0.1, 0.05]), 1000)"
   ]
  },
  {
   "cell_type": "code",
   "execution_count": 67,
   "metadata": {},
   "outputs": [
    {
     "name": "stdout",
     "output_type": "stream",
     "text": [
      "Autocorrelations:\n",
      "[ 1.          0.63940796  0.65536738  0.88349892  0.62113136  0.64969772\n",
      "  0.78520642  0.59656826  0.62706287  0.7022328   0.56937064  0.59416269\n",
      "  0.6418093   0.54906168  0.55763998  0.59278107  0.52825388  0.52673901\n",
      "  0.54404711  0.49900137  0.49308882  0.50394875  0.45601368  0.47195396\n",
      "  0.46660848  0.41766618  0.44299352  0.42781858  0.38696758  0.41260873\n",
      "  0.3812148   0.35290285  0.36634938  0.33210774  0.31881414  0.31437837\n",
      "  0.28313786  0.2671213   0.2652144   0.24135321  0.22463511]\n",
      "\n",
      "Partial Autocorrelations:\n",
      "[  1.00000000e+00   6.40047372e-01   4.18435239e-01   7.67799019e-01\n",
      "  -2.95199911e-04  -2.75204550e-03  -3.20108699e-02  -2.23170125e-02\n",
      "  -1.53362668e-02  -1.90500745e-02  -4.80447534e-03  -1.20256921e-02\n",
      "   3.85502995e-02   4.02070451e-02  -1.90851907e-02   7.43666545e-03\n",
      "   1.64292563e-02   7.96835550e-03  -3.81885135e-02  -2.65146347e-02\n",
      "  -1.50847764e-02   1.16226357e-02  -6.44635536e-02   6.32915607e-02\n",
      "   8.26016200e-03  -2.14349765e-02  -1.48206247e-02  -1.14307262e-02\n",
      "  -1.00065952e-03  -3.15932722e-03  -5.46195161e-02  -3.60540113e-02\n",
      "  -6.70499238e-02  -3.24508522e-02   5.87259436e-03  -3.78718060e-02\n",
      "  -3.37296660e-02  -6.91941229e-02   1.38496722e-03   1.61786315e-02\n",
      "   1.27847520e-02]\n"
     ]
    }
   ],
   "source": [
    "# We'll choose 40 lags. This is a bit arbitrary, but you want to include all the lags you think might\n",
    "# feasibly impact the current value.\n",
    "nlags = 40\n",
    "# Note, this will produce nlags + 1 values, as we include the autocorrelation of\n",
    "# X[-1] with X[-1], which is trivially 1.\n",
    "# The reason this is done is because that is the 0th spot in the array and corresponds\n",
    "# to the 0th lag of X[(-1)-0].\n",
    "X_acf = acf(X, nlags=nlags)\n",
    "print('Autocorrelations:\\n' + str(X_acf) + '\\n')\n",
    "X_pacf = pacf(X, nlags=nlags)\n",
    "print('Partial Autocorrelations:\\n' + str(X_pacf))"
   ]
  },
  {
   "cell_type": "markdown",
   "metadata": {},
   "source": [
    "Let's plot out the values now."
   ]
  },
  {
   "cell_type": "code",
   "execution_count": 68,
   "metadata": {},
   "outputs": [
    {
     "data": {
      "image/png": "[encoded data removed]",
      "text/plain": [
       "<Figure size 432x288 with 1 Axes>"
      ]
     },
     "metadata": {},
     "output_type": "display_data"
    }
   ],
   "source": [
    "plt.plot(X_acf, 'ro')\n",
    "plt.xlabel('Lag')\n",
    "plt.ylabel('Autocorrelation')\n",
    "plt.title(\"ACF\");"
   ]
  },
  {
   "cell_type": "code",
   "execution_count": 69,
   "metadata": {},
   "outputs": [
    {
     "data": {
      "image/png": "[encoded data removed]",
      "text/plain": [
       "<Figure size 432x288 with 1 Axes>"
      ]
     },
     "metadata": {},
     "output_type": "display_data"
    }
   ],
   "source": [
    "plt.plot(X_pacf, 'ro')\n",
    "plt.xlabel('Lag')\n",
    "plt.ylabel('Autocorrelation')\n",
    "plt.title(\"PACF\");"
   ]
  },
  {
   "cell_type": "markdown",
   "metadata": {},
   "source": [
    "#### Statistical Testing\n",
    "\n",
    "Just looking at the graphs alone isn't enough. We need to use some degree of statistical rigor. The `acf` and `pacf` functions will return confidence intervals on all the autocorrelations. We can check if these intervals overlap with zero. If they do then we say that zero is within the set confidence interval for the true parameter value, and don't treat the lag as having any meaningful autocorrelation.\n",
    "\n",
    "NOTE: This only works if the assumptions underlying the confidence interval computations are satisfied. Please check these assumptions before you assume the test is meaningful. The assumptions will differ in every case, so please read the statistical documentation of your own test and go from there."
   ]
  },
  {
   "cell_type": "code",
   "execution_count": 70,
   "metadata": {},
   "outputs": [],
   "source": [
    "# We have to set a confidence level for our intervals, we choose the standard of 95%,\n",
    "# corresponding with an alpha of 0.05.\n",
    "X_acf, X_acf_confs = acf(X, nlags=nlags, alpha=0.05)\n",
    "X_pacf, X_pacf_confs = pacf(X, nlags=nlags, alpha=0.05)"
   ]
  },
  {
   "cell_type": "markdown",
   "metadata": {},
   "source": [
    "After getting the confidence interval data, we'll write a function to plot it."
   ]
  },
  {
   "cell_type": "code",
   "execution_count": 71,
   "metadata": {},
   "outputs": [
    {
     "data": {
      "image/png": "[encoded data removed]",
      "text/plain": [
       "<Figure size 432x288 with 1 Axes>"
      ]
     },
     "metadata": {},
     "output_type": "display_data"
    }
   ],
   "source": [
    "def plot_acf(X_acf, X_acf_confs, title='ACF'):\n",
    "    # The confidence intervals are returned by the functions as (lower, upper)\n",
    "    # The plotting function needs them in the form (x-lower, upper-x)\n",
    "    errorbars = np.ndarray((2, len(X_acf)))\n",
    "    errorbars[0, :] = X_acf - X_acf_confs[:,0]\n",
    "    errorbars[1, :] = X_acf_confs[:,1] - X_acf\n",
    "\n",
    "    plt.plot(X_acf, 'ro')\n",
    "    plt.errorbar(range(len(X_acf)), X_acf, yerr=errorbars, fmt='none', ecolor='gray', capthick=2)\n",
    "    plt.xlabel('Lag')\n",
    "    plt.ylabel('Autocorrelation')\n",
    "    plt.title(title);\n",
    "plot_acf(X_acf, X_acf_confs)"
   ]
  },
  {
   "cell_type": "code",
   "execution_count": 72,
   "metadata": {},
   "outputs": [
    {
     "data": {
      "image/png": "[encoded data removed]",
      "text/plain": [
       "<Figure size 432x288 with 1 Axes>"
      ]
     },
     "metadata": {},
     "output_type": "display_data"
    }
   ],
   "source": [
    "plot_acf(X_pacf, X_pacf_confs, title='PACF')"
   ]
  },
  {
   "cell_type": "markdown",
   "metadata": {},
   "source": [
    "처음 3 개만 correlation 이 있어 보이고 그 이후는 상관 없어 보임.\n",
    "\n",
    "Notice how for the PACF, only the first three lags are the only ones that appear to be significantly different from $0$, which makes sense because we directly constructed an AR model of order $3$. However, these results may vary for each random series generated in this notebook.\n",
    "\n",
    "\n",
    "In a real-world time series, we use these plots to determine the order of our model. We would then attempt to fit a model using a maximum likelihood function."
   ]
  },
  {
   "cell_type": "markdown",
   "metadata": {},
   "source": [
    "## Fitting a Model"
   ]
  },
  {
   "cell_type": "markdown",
   "metadata": {},
   "source": [
    "We'll use one of the functions already implemented in Python to fit an AR model. We'll try this on our simulated data first."
   ]
  },
  {
   "cell_type": "code",
   "execution_count": 73,
   "metadata": {},
   "outputs": [],
   "source": [
    "# Construct an unfitted model\n",
    "model = tsa.api.AR(X)\n",
    "# Fit it\n",
    "model = model.fit()"
   ]
  },
  {
   "cell_type": "markdown",
   "metadata": {},
   "source": [
    "The `model` object has a lot of useful information on it, use the `?` notation to find out more. We'll be focusing on a few attributes, starting with `model.params` the estimated parameters in the model, one for each lag, and `model.bse`, the estimated standard error for each of the parameters."
   ]
  },
  {
   "cell_type": "code",
   "execution_count": 75,
   "metadata": {},
   "outputs": [
    {
     "name": "stdout",
     "output_type": "stream",
     "text": [
      "Parameters\n",
      "[-0.00375167  0.05856092  0.13035196  0.79520098  0.01986007  0.02435127\n",
      " -0.01691657 -0.02005536 -0.0094221  -0.04696077 -0.04250987  0.00356596\n",
      "  0.02736785  0.01846297 -0.04010693  0.03471887  0.05055751  0.03778201\n",
      " -0.0464591  -0.02850752 -0.01630814  0.01778601]\n",
      "Standard Error\n",
      "[ 0.03278353  0.03226827  0.03235462  0.03262653  0.04149447  0.04149614\n",
      "  0.04146688  0.04146084  0.04144752  0.04144686  0.04146716  0.04148879\n",
      "  0.04147976  0.04144947  0.04144247  0.04144838  0.0415175   0.04157999\n",
      "  0.0416181   0.032735    0.03246149  0.03244318]\n"
     ]
    }
   ],
   "source": [
    "print('Parameters')\n",
    "print(model.params)\n",
    "print('Standard Error')\n",
    "print(model.bse)"
   ]
  },
  {
   "cell_type": "code",
   "execution_count": 76,
   "metadata": {},
   "outputs": [
    {
     "data": {
      "image/png": "[encoded data removed]",
      "text/plain": [
       "<Figure size 432x288 with 1 Axes>"
      ]
     },
     "metadata": {},
     "output_type": "display_data"
    }
   ],
   "source": [
    "# To plot this we'll need to format a confidence interval 2D array like the previous functions returned\n",
    "# Here is some quick code to do that\n",
    "model_confs = np.asarray((model.params - model.bse, model.params + model.bse)).T\n",
    "\n",
    "plot_acf(model.params, model_confs, title='Model Estimated Parameters')"
   ]
  },
  {
   "cell_type": "markdown",
   "metadata": {},
   "source": [
    "### Choosing the Number of Lags\n",
    "\n",
    "#### Estimations Will Yield Too Many Lags\n",
    "\n",
    "We can see our model estimated quite a few parameters. In this case we know there are too many because we simulated the data as an AR(3) process. The reason that AR models will estimate many more lags than is actually the case is due to indirect dependency. If $X_t$ depends on $X_{t-1}$, then indirectly and to a lesser extent it will depend on $X_{t-2}$. In the presence of more than one lag in the data generating process, we will get potentially complex harmonic structures in the lags. These indirect dependencies will be picked up by a simple estimation.\n",
    "\n",
    "#### You Want the Fewest Parameters That Yield a Decent Model\n",
    "\n",
    "In general it's rarely the case that you can get anything useful out of a model with many parameters, see the Overfitting lecture for why in the Quantopian Lecture Series. In this case we want to select a number of lags that we believe explains what is happening, but without overfitting and choosing a model with way too many lags. \n",
    "\n",
    "Observing the ACF and PACF indicates that only the first 3 lags may be useful. However, we will expand the number of lags to 10 to double-check our initial data. We will use information criterion, specifically Akaike Information Criterion (AIC) and Bayes Information Criterion (BIC) to decide the correct number of parameters. For more information on choosing models using information criterion, please see the corresponding lecture in the Quantopian Lecture Series.\n",
    "\n",
    "Interpreting the AIC and BIC is done as follows. Compute the AIC and BIC for all models we wish to consider, and note the smallest AIC and BIC recorded $AIC_{min}$ and $BIC_{min}$. These are the models which minimize information loss under each metric. For each type of IC We then can compute the *relative likelihood* of each model $i$ by taking \n",
    "\n",
    "$$l = e^{(IC_{min} - IC_{i})/2}$$\n",
    "\n",
    "We can interpret $l$ as model $i$ is $l$ times as likely to minimize information loss, compared to the minimum AIC model. It might take a few reads to understand this, so let's just see it in action."
   ]
  },
  {
   "cell_type": "code",
   "execution_count": 77,
   "metadata": {},
   "outputs": [
    {
     "name": "stdout",
     "output_type": "stream",
     "text": [
      "Relative Likelihoods\n",
      "[[ 0.58285082]\n",
      " [ 0.64053399]\n",
      " [ 1.        ]\n",
      " [ 0.99863276]\n",
      " [ 0.99719795]\n",
      " [ 0.9962795 ]\n",
      " [ 0.99544555]\n",
      " [ 0.99550965]\n",
      " [ 0.99419177]\n",
      " [ 0.99268891]]\n",
      "Number of parameters in minimum AIC model 3\n"
     ]
    }
   ],
   "source": [
    "N = 10\n",
    "AIC = np.zeros((N, 1))\n",
    "\n",
    "for i in range(N):\n",
    "    model = tsa.api.AR(X)\n",
    "    model = model.fit(maxlag=(i+1))\n",
    "    AIC[i] = model.aic\n",
    "    \n",
    "AIC_min = np.min(AIC)\n",
    "model_min = np.argmin(AIC)\n",
    "\n",
    "print('Relative Likelihoods')\n",
    "print(np.exp((AIC_min-AIC) / 2))\n",
    "print('Number of parameters in minimum AIC model %s' % (model_min+1))"
   ]
  },
  {
   "cell_type": "code",
   "execution_count": 79,
   "metadata": {},
   "outputs": [
    {
     "name": "stdout",
     "output_type": "stream",
     "text": [
      "Relative Likelihoods\n",
      "[[ 0.58572981]\n",
      " [ 0.64211526]\n",
      " [ 1.        ]\n",
      " [ 0.99616961]\n",
      " [ 0.99228088]\n",
      " [ 0.98891392]\n",
      " [ 0.98563729]\n",
      " [ 0.98325391]\n",
      " [ 0.97951081]\n",
      " [ 0.97559454]]\n",
      "Number of parameters in minimum BIC model 3\n"
     ]
    }
   ],
   "source": [
    "N = 10\n",
    "BIC = np.zeros((N, 1))\n",
    "\n",
    "for i in range(N):\n",
    "    model = tsa.api.AR(X)\n",
    "    model = model.fit(maxlag=(i+1))\n",
    "    BIC[i] = model.bic\n",
    "    \n",
    "BIC_min = np.min(BIC)\n",
    "model_min = np.argmin(BIC)\n",
    "\n",
    "print('Relative Likelihoods')\n",
    "print(np.exp((BIC_min-BIC) / 2))\n",
    "print('Number of parameters in minimum BIC model %s' % (model_min+1))"
   ]
  },
  {
   "cell_type": "markdown",
   "metadata": {},
   "source": [
    "Our conclusion is that the AIC estimates the 4 parameter model as most likely, whereas the BIC estimates 3. Because we are always looking for reasons to knock off a parameter, we choose the 3. In this case it happened to be the exact right answer, but this will not always be the case, especially in noisy real data. Don't assume that using this method will always get you the right answer."
   ]
  },
  {
   "cell_type": "markdown",
   "metadata": {},
   "source": [
    "### Evaluating Residuals\n",
    "\n",
    "One final step we might do before performing an out of sample test for this model would be to evaluate its residual behavior. The AIC and BIC already do this to an extent, effectively measuring how much information is left on the table (in the residuals) after the model has made its predictions. For more information on residuals analysis see the Violations of Regression Models lecture. Here we'll just check for normality of the residuals."
   ]
  },
  {
   "cell_type": "code",
   "execution_count": 80,
   "metadata": {},
   "outputs": [
    {
     "name": "stdout",
     "output_type": "stream",
     "text": [
      "The residuals seem normally distributed.\n"
     ]
    }
   ],
   "source": [
    "model = tsa.api.AR(X)\n",
    "model = model.fit(maxlag=3)\n",
    "\n",
    "from statsmodels.stats.stattools import jarque_bera\n",
    "\n",
    "score, pvalue, _, _ = jarque_bera(model.resid)\n",
    "\n",
    "if pvalue < 0.10:\n",
    "    print('We have reason to suspect the residuals are not normally distributed.')\n",
    "else:\n",
    "    print('The residuals seem normally distributed.')"
   ]
  },
  {
   "cell_type": "markdown",
   "metadata": {},
   "source": [
    "The residuals seem normally distributed. There are more model validation steps that could be done, but these are the core ones for an AR model. The next steps would be testing the model out of sample, and then using it to make predictions on your data."
   ]
  },
  {
   "cell_type": "markdown",
   "metadata": {},
   "source": [
    "## References\n",
    "* \"Quantitative Investment Analysis\", by DeFusco, McLeavey, Pinto, and Runkle\n",
    "* \"Analysis of Financial Time Series\", by Ruey Tsay"
   ]
  }
 ],
 "metadata": {
  "kernelspec": {
   "display_name": "Python 3",
   "language": "python",
   "name": "python3"
  },
  "language_info": {
   "codemirror_mode": {
    "name": "ipython",
    "version": 3
   },
   "file_extension": ".py",
   "mimetype": "text/x-python",
   "name": "python",
   "nbconvert_exporter": "python",
   "pygments_lexer": "ipython3",
   "version": "3.5.5"
  }
 },
 "nbformat": 4,
 "nbformat_minor": 1
}
