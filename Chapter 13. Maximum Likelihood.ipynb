{
 "cells": [
  {
   "cell_type": "markdown",
   "metadata": {},
   "source": [
    "# Chapter 13. 최대우도추정 (Maximum Likelihood Estimates (MLEs))\n"
   ]
  },
  {
   "cell_type": "markdown",
   "metadata": {},
   "source": [
    "다음을 계산한다. :\n",
    "1. 정규분포의 MLE 계산\n",
    "2. 지수분포의 MLE 계산\n",
    "3. MLE 를 이용하여 asset returns 에 정규분포를 Fit"
   ]
  },
  {
   "cell_type": "code",
   "execution_count": 2,
   "metadata": {},
   "outputs": [],
   "source": [
    "import math\n",
    "import matplotlib.pyplot as plt\n",
    "import numpy as np\n",
    "import scipy\n",
    "import scipy.stats"
   ]
  },
  {
   "cell_type": "markdown",
   "metadata": {},
   "source": [
    "## 정규분포 (Normal Distribution)\n",
    "\n",
    "연속확률분포중 평균에 가까울수록 발생확률이 높아질 경우 정규분포 사용.\n",
    "\n",
    "정규분포 sample data 생성"
   ]
  },
  {
   "cell_type": "code",
   "execution_count": 3,
   "metadata": {},
   "outputs": [],
   "source": [
    "TRUE_MEAN = 40\n",
    "TRUE_STD = 10\n",
    "X = np.random.normal(TRUE_MEAN, TRUE_STD, 1000)"
   ]
  },
  {
   "cell_type": "markdown",
   "metadata": {},
   "source": [
    "위에서 만들어진 data 를 가지고  위 정규분포의 $\\mu$ 와 $\\sigma$ 를 parameter 로 하여 MLE 를 계산하는 함수를 정의한다.\n",
    "\n",
    "$$\\hat\\mu = \\frac{1}{T}\\sum_{t=1}^{T} x_t$$ 이므로\n",
    "\n",
    "$$\\hat\\sigma = \\sqrt{\\frac{1}{T}\\sum_{t=1}^{T}{(x_t - \\hat\\mu)^2}}$$ 이다."
   ]
  },
  {
   "cell_type": "code",
   "execution_count": 4,
   "metadata": {},
   "outputs": [],
   "source": [
    "def normal_mu_MLE(X):\n",
    "    T = len(X)       # 표본 X의 수 T\n",
    "    s = sum(X)     # 표본 X의 합계 s\n",
    "    return 1.0/T * s     # 표본 X 의 평균\n",
    "\n",
    "def normal_sigma_MLE(X):\n",
    "    T = len(X)\n",
    "    mu = normal_mu_MLE(X)               # 표본 X 의 평균\n",
    "    s = sum( np.power((X - mu), 2) )    # 평균과 표본의 오차 제곱\n",
    "    sigma_squared = 1.0/T * s              #  sigma^2\n",
    "    return math.sqrt(sigma_squared)     # sigma"
   ]
  },
  {
   "cell_type": "markdown",
   "metadata": {},
   "source": [
    "sample data 를 가지고 우리가 만든 함수에서 계산된 값과 np.mean, np.std 에서 계산한 값 비교. 같음을 확인."
   ]
  },
  {
   "cell_type": "code",
   "execution_count": 5,
   "metadata": {},
   "outputs": [
    {
     "name": "stdout",
     "output_type": "stream",
     "text": [
      "Mean Estimation\n",
      "39.836149621719336\n",
      "39.83614962171926\n",
      "Standard Deviation Estimation\n",
      "10.10959890892192\n",
      "10.109598908921916\n"
     ]
    }
   ],
   "source": [
    "print(\"Mean Estimation\")\n",
    "print(normal_mu_MLE(X))        # 우리가 만든 함수로 계산한 평균\n",
    "print(np.mean(X))                    # np.mean\n",
    "print(\"Standard Deviation Estimation\")\n",
    "print(normal_sigma_MLE(X))     # 우리가 만든 함수로 계산한 std\n",
    "print(np.std(X))                       # np.std"
   ]
  },
  {
   "cell_type": "markdown",
   "metadata": {},
   "source": [
    "이번에는 scipy 에서 제공하는 fit() 함수로 계산하여 역시 같음을 확인."
   ]
  },
  {
   "cell_type": "code",
   "execution_count": 6,
   "metadata": {},
   "outputs": [
    {
     "name": "stdout",
     "output_type": "stream",
     "text": [
      "mu estimate: 39.83614962171926\n",
      "std estimate: 10.109598908921916\n"
     ]
    }
   ],
   "source": [
    "mu, std = scipy.stats.norm.fit(X)\n",
    "print(\"mu estimate: \" + str(mu))\n",
    "print(\"std estimate: \" + str(std))"
   ]
  },
  {
   "cell_type": "markdown",
   "metadata": {},
   "source": [
    "sample data 의 PDF(probability density function 을 그려서 얼마나 잘 맞는지 확인. scipy.stats.norm.pdf 를 이용."
   ]
  },
  {
   "cell_type": "code",
   "execution_count": 7,
   "metadata": {},
   "outputs": [
    {
     "data": {
      "image/png": "[encoded data removed]",
      "text/plain": [
       "<Figure size 432x288 with 1 Axes>"
      ]
     },
     "metadata": {},
     "output_type": "display_data"
    }
   ],
   "source": [
    "pdf = scipy.stats.norm.pdf\n",
    "# sample data X 를  0-80 사이의 x 축에 80 개 interval(bin) 으로 plot (mean 이 40 이므로)\n",
    "# (increments of 1)\n",
    "x = np.linspace(0, 80, 80)\n",
    "plt.hist(X, bins=x, density='true')\n",
    "plt.plot(pdf(x, loc=mu, scale=std))\n",
    "plt.xlabel('Value')\n",
    "plt.ylabel('Observed Frequency')\n",
    "plt.legend(['Fitted Distribution PDF', 'Observed Data', ]);"
   ]
  },
  {
   "cell_type": "markdown",
   "metadata": {},
   "source": [
    "## 지수분포(Exponential Distribution)\n",
    "\n",
    "연속확률분포중 시간이 지날수록 발생할 확률이 점점 작아지는 경우 지수분포 사용. 지수분포는 프아송분포와 관련 있으므로 프아송분포의 대표적인 기호 $\\lambda$ 를 사용. ($\\lambda$ : 정해진 시간 안에 어떤 사건이 일어날 횟수에 대한 기댓값)\n",
    "\n",
    "동일한 작업을 지수분포에 대해 수행. sample data 작성부터 시작."
   ]
  },
  {
   "cell_type": "code",
   "execution_count": 10,
   "metadata": {},
   "outputs": [],
   "source": [
    "TRUE_LAMBDA = 5\n",
    "X = np.random.exponential(TRUE_LAMBDA, 1000)"
   ]
  },
  {
   "cell_type": "markdown",
   "metadata": {},
   "source": [
    "`numpy` 는 지수분포를 다음과 같이 정의\n",
    "$$\\frac{1}{\\lambda}e^{-\\frac{x}{\\lambda}}$$\n",
    "\n",
    "So we need to invert the MLE from the lecture notes. There it is\n",
    "\n",
    "$$\\hat\\lambda = \\frac{T}{\\sum_{t=1}^{T} x_t}$$\n",
    "\n",
    "Here it's just the reciprocal, so\n",
    "\n",
    "$$\\hat\\lambda = \\frac{\\sum_{t=1}^{T} x_t}{T}$$"
   ]
  },
  {
   "cell_type": "code",
   "execution_count": 8,
   "metadata": {},
   "outputs": [],
   "source": [
    "def exp_lamda_MLE(X):\n",
    "    T = len(X)\n",
    "    s = sum(X)\n",
    "    return s/T"
   ]
  },
  {
   "cell_type": "code",
   "execution_count": 9,
   "metadata": {},
   "outputs": [
    {
     "name": "stdout",
     "output_type": "stream",
     "text": [
      "lambda estimate: 39.836149621719336\n"
     ]
    }
   ],
   "source": [
    "print(\"lambda estimate: \" + str(exp_lamda_MLE(X)))"
   ]
  },
  {
   "cell_type": "code",
   "execution_count": 10,
   "metadata": {},
   "outputs": [],
   "source": [
    "# The scipy version of the exponential distribution has a location parameter\n",
    "# that can skew the distribution. We ignore this by fixing the location\n",
    "# parameter to 0 with floc=0\n",
    "_, l = scipy.stats.expon.fit(X, floc=0)"
   ]
  },
  {
   "cell_type": "code",
   "execution_count": 12,
   "metadata": {},
   "outputs": [
    {
     "data": {
      "image/png": "[encoded data removed]",
      "text/plain": [
       "<Figure size 432x288 with 1 Axes>"
      ]
     },
     "metadata": {},
     "output_type": "display_data"
    }
   ],
   "source": [
    "pdf = scipy.stats.expon.pdf\n",
    "x = range(0, 80)\n",
    "plt.hist(X, bins=x, density='true')\n",
    "plt.plot(pdf(x, scale=l))\n",
    "plt.xlabel('Value')\n",
    "plt.ylabel('Observed Frequency')\n",
    "plt.legend(['Fitted Distribution PDF', 'Observed Data', ]);"
   ]
  },
  {
   "cell_type": "markdown",
   "metadata": {},
   "source": [
    "### MLE for Asset Returns\n",
    "\n",
    "실제 주식의 return 을 MLE 를 이용하여 정규분포에 맞추어 본다."
   ]
  },
  {
   "cell_type": "code",
   "execution_count": 16,
   "metadata": {},
   "outputs": [],
   "source": [
    "from googlefinance.client import get_price_data, get_prices_data\n",
    "import pandas as pd\n",
    "\n",
    "param_AAPL = {\n",
    "    'q': \"TSLA\", # Stock symbol (ex: \"AAPL\")\n",
    "    'i': \"86400\", # Interval size in seconds (\"86400\" = 1 day intervals)\n",
    "    'x': \"NASD\", # Stock exchange symbol on which stock is traded (ex: \"NASD\")\n",
    "    'p': \"10Y\" # Period (Ex: \"1Y\" = 1 year)\n",
    "}\n",
    "df = pd.DataFrame(get_price_data(param_AAPL))\n",
    "df.index = df.index.date\n",
    "df.index = pd.to_datetime(df.index)\n",
    "\n",
    "start = pd.to_datetime('2014-01-01')\n",
    "end = pd.to_datetime('2015-01-01')\n",
    "prices = df['Close'].loc[start : end]\n",
    "\n",
    "absolute_returns = np.diff(prices)       # 매일의 dollar return \n",
    "# 전날 가격에 대한 수익률 계산 \n",
    "# [:-1] 로 하면 마지막날 data 만 제외하고 계산됨 (마지막날은 return 이 없으므로)\n",
    "returns = absolute_returns/prices[:-1]   "
   ]
  },
  {
   "cell_type": "markdown",
   "metadata": {},
   "source": [
    "`scipy` 의 fit 함수를 이용하여 $\\mu$ 와 $\\sigma$ MLE 를 구함."
   ]
  },
  {
   "cell_type": "code",
   "execution_count": 18,
   "metadata": {},
   "outputs": [
    {
     "data": {
      "image/png": "[encoded data removed]",
      "text/plain": [
       "<Figure size 432x288 with 1 Axes>"
      ]
     },
     "metadata": {},
     "output_type": "display_data"
    }
   ],
   "source": [
    "mu, std = scipy.stats.norm.fit(returns)\n",
    "pdf = scipy.stats.norm.pdf\n",
    "x = np.linspace(-1,1, num=100)\n",
    "h = plt.hist(returns, bins=x, density='true')\n",
    "l = plt.plot(x, pdf(x, loc=mu, scale=std))"
   ]
  },
  {
   "cell_type": "markdown",
   "metadata": {},
   "source": [
    "물론, return 의 분포가 정규분포를 따르지 않는다면 이 fit 은 의미가 없다. 자크베라 정규성 검사를 통해 테스트할 수 있다. 자크베라 테스트는 p-value 가 c 보다 낮으면 정규분포라는 가설을 reject 한다."
   ]
  },
  {
   "cell_type": "code",
   "execution_count": 19,
   "metadata": {},
   "outputs": [
    {
     "data": {
      "text/plain": [
       "(253.6341633259662, 8.3953967079954e-56, 0.7542970128055636, 7.677582566707229)"
      ]
     },
     "execution_count": 19,
     "metadata": {},
     "output_type": "execute_result"
    }
   ],
   "source": [
    "from statsmodels.stats.stattools import jarque_bera\n",
    "jarque_bera(returns)"
   ]
  },
  {
   "cell_type": "markdown",
   "metadata": {},
   "source": [
    "두번째 return 값이 pvalue 이고 4 번째 값이 kurtosis 인데, pvalue 가 0.05 보다 작고 kurtosis 가 3 이 아니므로 return 의 분포는 정규성을 가지지 않는다."
   ]
  },
  {
   "cell_type": "code",
   "execution_count": 21,
   "metadata": {},
   "outputs": [
    {
     "data": {
      "text/plain": [
       "(1.4817897301029048,\n",
       " 0.4766871539279691,\n",
       " 0.11560106100506587,\n",
       " 3.5497045697487963)"
      ]
     },
     "execution_count": 21,
     "metadata": {},
     "output_type": "execute_result"
    }
   ],
   "source": [
    "jarque_bera(np.random.normal(0, 1, 100))"
   ]
  },
  {
   "cell_type": "markdown",
   "metadata": {
    "collapsed": true
   },
   "source": [
    "test data 의 경우 pvalue 가 0.05 보다 크고 kurtosis 가 3 에 가까우므로 정규분포이다."
   ]
  },
  {
   "cell_type": "code",
   "execution_count": null,
   "metadata": {},
   "outputs": [],
   "source": []
  }
 ],
 "metadata": {
  "kernelspec": {
   "display_name": "Python 3",
   "language": "python",
   "name": "python3"
  },
  "language_info": {
   "codemirror_mode": {
    "name": "ipython",
    "version": 3
   },
   "file_extension": ".py",
   "mimetype": "text/x-python",
   "name": "python",
   "nbconvert_exporter": "python",
   "pygments_lexer": "ipython3",
   "version": "3.6.5"
  }
 },
 "nbformat": 4,
 "nbformat_minor": 1
}
