{
 "cells": [
  {
   "cell_type": "markdown",
   "metadata": {},
   "source": [
    "# Comparison cvxopt, minimize, monte carlo"
   ]
  },
  {
   "cell_type": "code",
   "execution_count": 4,
   "metadata": {},
   "outputs": [],
   "source": [
    "import numpy as np\n",
    "from scipy.optimize import minimize\n",
    "%matplotlib inline"
   ]
  },
  {
   "cell_type": "markdown",
   "metadata": {},
   "source": [
    "maximize :  f(x) = $2 x_0 x_1 + 2 x_0 - x_0^2 - 2 x_1^2$\n",
    "\n",
    "Subject to : $x_0^3 - x_1 = 0$,&nbsp;&nbsp; $x_1 \\ge 1$\n",
    "\n",
    "maximize 이므로 minimize 의 objective 함수에 args=(-1.0,) 을 줄 수 있도록 objective  함수 작성."
   ]
  },
  {
   "cell_type": "code",
   "execution_count": 96,
   "metadata": {},
   "outputs": [
    {
     "name": "stdout",
     "output_type": "stream",
     "text": [
      "Optimization terminated successfully.    (Exit mode 0)\n",
      "            Current function value: -2.0\n",
      "            Iterations: 1\n",
      "            Function evaluations: 4\n",
      "            Gradient evaluations: 1\n",
      "1. no jac / unconstrained: [ 2.  1.]\n",
      "\n",
      "Optimization terminated successfully.    (Exit mode 0)\n",
      "            Current function value: -1.0\n",
      "            Iterations: 1\n",
      "            Function evaluations: 4\n",
      "            Gradient evaluations: 1\n",
      "2. no jac / constrained: [ 1.  1.]\n",
      "\n"
     ]
    }
   ],
   "source": [
    "# minimize 사용 \n",
    "\n",
    "def objective(x, sign=1.0):\n",
    "    return sign*(2*x[0]*x[1] + 2*x[0] - x[0]**2 - 2*x[1]**2)\n",
    "\n",
    "# unconstrained\n",
    "# args : extra arguments passed to the objective function and its derivative (tuple)\n",
    "result = minimize(objective, [2.0,1.0], args=(-1.0,), method='SLSQP', options={'disp': True}) \n",
    "\n",
    "print(\"1. no jac / unconstrained: {}\".format(result.x))\n",
    "print()\n",
    "\n",
    "cons = ({'type': 'eq',\n",
    "         'fun' : lambda x: np.array([x[0]**3 - x[1]]),\n",
    "          },\n",
    "        {'type': 'ineq',\n",
    "         'fun' : lambda x: np.array([x[1] - 1]),\n",
    "        })\n",
    "\n",
    "# constrained\n",
    "result = opt.minimize(objective, [1.0,1.0], args=(-1.0,), constraints=cons, method='SLSQP', options={'disp': True})\n",
    "\n",
    "print(\"2. no jac / constrained: {}\".format(result.x))\n",
    "print()"
   ]
  },
  {
   "cell_type": "code",
   "execution_count": 97,
   "metadata": {},
   "outputs": [
    {
     "name": "stdout",
     "output_type": "stream",
     "text": [
      "Optimization terminated successfully.    (Exit mode 0)\n",
      "            Current function value: -2.0\n",
      "            Iterations: 4\n",
      "            Function evaluations: 5\n",
      "            Gradient evaluations: 4\n",
      "3. with jac / unconstrained: [ 2.  1.]\n",
      "\n",
      "Optimization terminated successfully.    (Exit mode 0)\n",
      "            Current function value: -1.0\n",
      "            Iterations: 1\n",
      "            Function evaluations: 1\n",
      "            Gradient evaluations: 1\n",
      "4.  with jac / constrained: [ 1.  1.]\n"
     ]
    }
   ],
   "source": [
    "# constraint 에 Jacobian (gradient) of objective function 추가\n",
    "\n",
    "def derivative(x, sign=1.0):\n",
    "    dfdx0 = sign*(-2*x[0] + 2*x[1] + 2)\n",
    "    dfdx1 = sign*(2*x[0] - 4*x[1])\n",
    "    return np.array([ dfdx0, dfdx1 ])\n",
    "\n",
    "# unconstrained \n",
    "result = opt.minimize(objective, [1.0,1.0], args=(-1.0,), jac=derivative, method='SLSQP', options={'disp': True})\n",
    "\n",
    "print(\"3. with jac / unconstrained: {}\".format(result.x))\n",
    "print()\n",
    "\n",
    "cons = ({'type': 'eq',\n",
    "         'fun' : lambda x: np.array([x[0]**3 - x[1]]),\n",
    "         'jac' : lambda x: np.array([3.0*(x[0]**2.0), -1.0])},     # The Jacobian of fun \n",
    "        {'type': 'ineq',\n",
    "         'fun' : lambda x: np.array([x[1] - 1]),\n",
    "         'jac' : lambda x: np.array([0.0, 1.0])})                          \n",
    "\n",
    "# constrained with Jacobian (gradient) of objective function\n",
    "result = opt.minimize(objective, [1.0,1.0], args=(-1.0,), jac=derivative, constraints=cons, method='SLSQP', options={'disp': True})\n",
    "\n",
    "print(\"4.  with jac / constrained: {}\".format(result.x))"
   ]
  },
  {
   "cell_type": "code",
   "execution_count": 98,
   "metadata": {},
   "outputs": [
    {
     "data": {
      "text/plain": [
       "2.0"
      ]
     },
     "execution_count": 98,
     "metadata": {},
     "output_type": "execute_result"
    }
   ],
   "source": [
    "objective([2.,1.])"
   ]
  },
  {
   "cell_type": "code",
   "execution_count": 68,
   "metadata": {},
   "outputs": [
    {
     "data": {
      "text/plain": [
       "1.0"
      ]
     },
     "execution_count": 68,
     "metadata": {},
     "output_type": "execute_result"
    }
   ],
   "source": [
    "objective([1.,1.])"
   ]
  },
  {
   "cell_type": "markdown",
   "metadata": {},
   "source": [
    "minimize 함수에 constraint 를 주면 더 낳은 결과를 얻지만 적용하기가 힘든 단점이 있다.\n",
    "\n",
    "jacobian 은 생략하여도 큰 영향 없었으나 constraints  는 결과에 매우 중요."
   ]
  },
  {
   "cell_type": "markdown",
   "metadata": {},
   "source": [
    "위 경우는 constraints 가 3 차식이므로 cvxopt 에 적용할 수 없으므로 quadratic program 을 가지고 두 함수를 비교해 보자.\n",
    "\n",
    "cvxopt 는 $$min \\frac{1}{2} x^TPx + q^Tx$$\n",
    "\n",
    "subject to $$Gx \\le h$$\n",
    "$$Ax = b$$\n",
    "\n",
    "이므로 이를 이용하여 다음의 문제를 풀어보자. 여기서, $x^TPx$ 는 quadratic, $ q^Tx$ 는 linear 부분이다. cvxopt.qp 함수 적용을 위해 P, q, G, h, A, b 를 구한다. \n",
    "\n",
    "minimize : $$f(x) = 2 x_1^2 + x_2^2 + x_1 x_2 + x_1 + x_2$$\n",
    "\n",
    "subject to : \n",
    "$$x_1 \\ge 0$$\n",
    "$$x_2 \\ge 0$$\n",
    "$$x_1 + x_2 = 1 $$\n",
    "\n",
    "\n",
    "여기서 $f(x) = 2 x_1^2 + x_2^2 + x_1 x_2$ 는 quadratic 부분이고 $ x_1 + x_2$ 는 linear 부분이다.\n",
    "quadratic form 은 $ax^2 + 2bxy + cy^2$ 이므로 이에 맞추어 정리하면, \n",
    "\n",
    "$f(x) = (2)x_1^2 + 2(0.5)x_1x_2 + (1)x_2^2$ 이고, 따라서 P = $\\begin{bmatrix}2 & 0.5 \\\\ 0.5 & 1\\end{bmatrix}$,  q = $\\begin{bmatrix}1.0 & 1.0\\end{bmatrix}$ 이다.\n",
    "\n",
    "$$(-1)x_1 + (0)x_2 \\le 0$$\n",
    "$$(0)x_1 + (-1)x_2 \\le 0$$\n",
    "$$(1)x_1 + (1)x_2 = 1 $$ 이므로\n",
    "\n",
    "constraint G = $\\begin{bmatrix}-1 & 0 \\\\ 0 & -1\\end{bmatrix}$, h = $\\begin{bmatrix}0\\\\0\\end{bmatrix}$, A = $\\begin{bmatrix}1 & 1\\end{bmatrix}$, b = 1"
   ]
  },
  {
   "cell_type": "code",
   "execution_count": 69,
   "metadata": {},
   "outputs": [
    {
     "name": "stdout",
     "output_type": "stream",
     "text": [
      "     pcost       dcost       gap    pres   dres\n",
      " 0:  1.4531e+00  3.5938e-01  1e+00  3e-16  2e+00\n",
      " 1:  1.4420e+00  1.3894e+00  5e-02  1e-16  7e-02\n",
      " 2:  1.4375e+00  1.4352e+00  2e-03  3e-16  2e-16\n",
      " 3:  1.4375e+00  1.4375e+00  2e-05  0e+00  2e-16\n",
      " 4:  1.4375e+00  1.4375e+00  2e-07  2e-16  2e-16\n",
      "Optimal solution found.\n",
      "[ 2.50e-01]\n",
      "[ 7.50e-01]\n",
      "\n"
     ]
    }
   ],
   "source": [
    "import cvxopt as cvx\n",
    "from cvxopt import solvers\n",
    "\n",
    "P = cvx.matrix([ [2, .5], [.5, 1] ])\n",
    "q = cvx.matrix([1.0, 1.0])\n",
    "G = cvx.matrix([[-1.0,0.0],[0.0,-1.0]])\n",
    "h = cvx.matrix([0.0,0.0])\n",
    "A = cvx.matrix([1.0, 1.0], (1,2))\n",
    "b = cvx.matrix(1.0)\n",
    "sol = solvers.qp(P, q, G, h, A, b)\n",
    "print(sol['x'])"
   ]
  },
  {
   "cell_type": "markdown",
   "metadata": {},
   "source": [
    "이 것을 minimize 로 다시 풀어 결과를 비교해 보자."
   ]
  },
  {
   "cell_type": "code",
   "execution_count": 70,
   "metadata": {},
   "outputs": [],
   "source": [
    "def obj_fun(x):\n",
    "    return 2 * x[0]**2 + x[1]**2 + x[0] * x[1] + x[0] + x[1]"
   ]
  },
  {
   "cell_type": "code",
   "execution_count": 75,
   "metadata": {},
   "outputs": [],
   "source": [
    "cons = ({'type': 'ineq',\n",
    "              'fun': lambda x: np.array([-1.0 * x[0]])},\n",
    "            {'type': 'ineq',\n",
    "              'fun': lambda x: np.array([-1.0 * x[1]])},\n",
    "            {'type': 'eq',\n",
    "              'fun': lambda x: np.array([x[0] + x[1] - 1])})\n",
    "initial_guess = [0.5, 0.5]"
   ]
  },
  {
   "cell_type": "code",
   "execution_count": 76,
   "metadata": {},
   "outputs": [
    {
     "name": "stdout",
     "output_type": "stream",
     "text": [
      "Optimization terminated successfully.    (Exit mode 0)\n",
      "            Current function value: 1.999999999999998\n",
      "            Iterations: 10\n",
      "            Function evaluations: 74\n",
      "            Gradient evaluations: 6\n",
      "[ 0.5  0.5]\n"
     ]
    }
   ],
   "source": [
    "result = minimize(obj_fun, initial_guess, constraints=cons, method='SLSQP', options={'disp': True})\n",
    "print(result.x)"
   ]
  },
  {
   "cell_type": "code",
   "execution_count": 79,
   "metadata": {},
   "outputs": [
    {
     "data": {
      "text/plain": [
       "2.0"
      ]
     },
     "execution_count": 79,
     "metadata": {},
     "output_type": "execute_result"
    }
   ],
   "source": [
    "obj_fun([ 0.5,  0.5])"
   ]
  },
  {
   "cell_type": "code",
   "execution_count": 80,
   "metadata": {},
   "outputs": [
    {
     "data": {
      "text/plain": [
       "1.875"
      ]
     },
     "execution_count": 80,
     "metadata": {},
     "output_type": "execute_result"
    }
   ],
   "source": [
    "obj_fun([2.50e-01, 7.50e-01])"
   ]
  },
  {
   "cell_type": "markdown",
   "metadata": {},
   "source": [
    "**EXERCISE:** Solve the constrained programming problem by any of the means above.\n",
    "\n",
    "Minimize: f = -1*x[0] + 4*x[1]\n",
    "\n",
    "Subject to: <br>\n",
    "-3*x[0] + 1*x[1] <= 6 <br>\n",
    "1*x[0] + 2*x[1] <= 4 <br>\n",
    "x[1] >= -3 <br>\n",
    "\n",
    "where:  -inf <= x[0] <= inf"
   ]
  },
  {
   "cell_type": "markdown",
   "metadata": {},
   "source": [
    "solvers.lp 와 solvers.qp, minimize 세가지로 풀어보자"
   ]
  },
  {
   "cell_type": "code",
   "execution_count": 82,
   "metadata": {},
   "outputs": [
    {
     "name": "stdout",
     "output_type": "stream",
     "text": [
      "     pcost       dcost       gap    pres   dres   k/t\n",
      " 0:  7.7458e+00 -2.2000e+01  2e+01  0e+00  2e+00  1e+00\n",
      " 1: -3.3531e+00 -9.3245e+00  5e+00  9e-17  4e-01  1e+00\n",
      " 2: -2.2577e+00 -1.0334e+01  1e+01  5e-16  5e-01  2e+00\n",
      " 3: -1.3020e+01 -1.8365e+01  1e+01  7e-16  4e-01  2e+00\n",
      " 4: -1.9962e+01 -2.0107e+01  2e+00  1e-15  5e-02  9e-01\n",
      " 5: -2.1977e+01 -2.1973e+01  3e-02  2e-16  8e-04  2e-02\n",
      " 6: -2.2000e+01 -2.2000e+01  3e-04  1e-16  8e-06  2e-04\n",
      " 7: -2.2000e+01 -2.2000e+01  3e-06  2e-15  8e-08  2e-06\n",
      "Optimal solution found.\n",
      "[ 1.00e+01]\n",
      "[-3.00e+00]\n",
      "\n"
     ]
    }
   ],
   "source": [
    "# solvers.lp\n",
    "c = cvx.matrix([-1.0, 4.0])\n",
    "G = cvx.matrix([[-3.0, 1.0, 0.0], [1.0, 2.0, -1.0]])\n",
    "h = cvx.matrix([6.0, 4.0, 3.0])\n",
    "sol = solvers.lp(c, G, h)\n",
    "print(sol['x'])"
   ]
  },
  {
   "cell_type": "code",
   "execution_count": 84,
   "metadata": {},
   "outputs": [
    {
     "name": "stdout",
     "output_type": "stream",
     "text": [
      "     pcost       dcost       gap    pres   dres\n",
      " 0:  5.0678e+00 -9.4861e+00  1e+01  5e-17  3e+00\n",
      " 1: -2.0709e+00 -5.9266e+00  4e+00  2e-16  1e+00\n",
      " 2:  9.5642e+00  4.5499e-01  9e+00  4e-16  1e+00\n",
      " 3: -9.7286e+00 -1.7466e+01  8e+00  5e-16  1e+00\n",
      " 4: -1.0434e+01 -1.2174e+01  2e+00  2e-16  3e-01\n",
      " 5: -2.1723e+01 -2.3939e+01  2e+00  2e-15  3e-01\n",
      " 6: -2.0193e+01 -2.2545e+01  2e+00  1e-16  4e-16\n",
      " 7: -2.1980e+01 -2.2014e+01  3e-02  9e-16  1e-16\n",
      " 8: -2.2000e+01 -2.2000e+01  3e-04  2e-15  5e-16\n",
      " 9: -2.2000e+01 -2.2000e+01  3e-06  5e-16  6e-16\n",
      "Optimal solution found.\n",
      "[ 1.00e+01]\n",
      "[-3.00e+00]\n",
      "\n"
     ]
    }
   ],
   "source": [
    "# solvers.qp\n",
    "P = cvx.matrix([[0.0, 0.0],[0.0, 0.0]])\n",
    "q = cvx.matrix([-1.0, 4.])\n",
    "G = cvx.matrix([[-3.0, 1.0, 0.0], [1.0, 2.0, -1.0]])\n",
    "h = cvx.matrix([6.0, 4.0, 3.0])\n",
    "sol= solvers.qp(P, q, G, h)\n",
    "print(sol['x'])"
   ]
  },
  {
   "cell_type": "code",
   "execution_count": 109,
   "metadata": {},
   "outputs": [
    {
     "name": "stdout",
     "output_type": "stream",
     "text": [
      "Optimization terminated successfully.    (Exit mode 0)\n",
      "            Current function value: 2.9999999999999485\n",
      "            Iterations: 6\n",
      "            Function evaluations: 18\n",
      "            Gradient evaluations: 2\n",
      "[ 1.  1.]\n"
     ]
    }
   ],
   "source": [
    "# minimize\n",
    "\n",
    "def obj2_fun(x):\n",
    "    return -1 * x[0] + 4 * x[1]\n",
    "\n",
    "cons = ({'type': 'ineq',\n",
    "              'fun': lambda x: np.array([-3*x[0] + x[1] - 6])},\n",
    "            {'type': 'ineq',\n",
    "              'fun': lambda x: np.array([x[0] + 2 * x[1] - 4])},\n",
    "            {'type': 'ineq',\n",
    "              'fun': lambda x: np.array([-1 * x[1] - 3])})\n",
    "\n",
    "result = minimize(obj2_fun, [1.0, 1.0], constraints=cons, method='SLSQP', options={'disp': True})\n",
    "print(result.x)"
   ]
  },
  {
   "cell_type": "code",
   "execution_count": 110,
   "metadata": {},
   "outputs": [
    {
     "data": {
      "text/plain": [
       "3.0"
      ]
     },
     "execution_count": 110,
     "metadata": {},
     "output_type": "execute_result"
    }
   ],
   "source": [
    "obj2_fun([1.,  1.])"
   ]
  },
  {
   "cell_type": "code",
   "execution_count": 111,
   "metadata": {},
   "outputs": [
    {
     "data": {
      "text/plain": [
       "-22.0"
      ]
     },
     "execution_count": 111,
     "metadata": {},
     "output_type": "execute_result"
    }
   ],
   "source": [
    "obj2_fun([1.00e+01, -3.00e+00])"
   ]
  },
  {
   "cell_type": "markdown",
   "metadata": {},
   "source": [
    "Standard diagnostic tools"
   ]
  },
  {
   "cell_type": "markdown",
   "metadata": {},
   "source": [
    "* Eyeball the plotted solution against the objective"
   ]
  },
  {
   "cell_type": "markdown",
   "metadata": {},
   "source": [
    "* Run several times and take the best result"
   ]
  },
  {
   "cell_type": "markdown",
   "metadata": {},
   "source": [
    "* Analyze a log of intermediate results, per iteration"
   ]
  },
  {
   "cell_type": "markdown",
   "metadata": {},
   "source": [
    "* Rare: look at the covariance matrix"
   ]
  },
  {
   "cell_type": "markdown",
   "metadata": {},
   "source": [
    "* Issue: how can you really be sure you have the results you were looking for?"
   ]
  }
 ],
 "metadata": {
  "kernelspec": {
   "display_name": "Python 3",
   "language": "python",
   "name": "python3"
  },
  "language_info": {
   "codemirror_mode": {
    "name": "ipython",
    "version": 3
   },
   "file_extension": ".py",
   "mimetype": "text/x-python",
   "name": "python",
   "nbconvert_exporter": "python",
   "pygments_lexer": "ipython3",
   "version": "3.5.5"
  }
 },
 "nbformat": 4,
 "nbformat_minor": 1
}
