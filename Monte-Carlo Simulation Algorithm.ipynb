{
 "cells": [
  {
   "cell_type": "markdown",
   "metadata": {},
   "source": [
    "# Monte-Carlo Simulation (Method)\n",
    "\n",
    "몬테카를로 방법은 과학과 공학 전 영역에 걸쳐 널리 사용되는 방법이다. 확률적인 해석을 요구하는 문제를 풀고싶을 때, 이 방법이 주로 쓰인다. \n",
    "\n",
    "적용 pattern:\n",
    "\n",
    "1. 입력값의 범위를 정한다.\n",
    "2. 입력값 범위의 확률분포에 따라 입력값을 랜덤하게 생성한다.\n",
    "3. 입력값을 산술식에 대입하여 계산한다. \n",
    "4. 계산 결과를 통합한다."
   ]
  },
  {
   "cell_type": "markdown",
   "metadata": {},
   "source": [
    "# 예제 1 : 원의 넓이 추정\n",
    "\n",
    "반지름이 1 인 원의 넓이를 구하고 싶다. 원주율($\\pi$)값을 모른다고 가정한다. 좌표상 두 점 사이의 거리가 $x^2 + y^2 = r^2$ 인 것은 알고 있다. 이 때, $x^2 + y^2 = 1$ 이라는 식으로 표현되는 원의 면적을 구하고 싶다고 하자.\n",
    "\n",
    "(몬테카를로 방법)\n",
    "\n",
    "이 원은 -1 <= x <= 1, -1 <= y <= 1 으로 표현되는, 넓이가 1인 정사각형 공간 안에 완전히 포함되는데, 이 공간 안에서 무작위로 (예를 들어) 10,000개의 난수 순서쌍 (x, y)을 추출한다.\n",
    "10,000개의 난수 순서쌍 (x, y) 가운데에는 $x^2 + y^2 <= 1$ 을 만족하여 원 안의 범위에 포함되는 것들이 있을 것이다. 그런 순서쌍들의 개수를 세어 전체 난수에 대한 비율을 계산하면 대략적인 원의 면적을 구할 수 있다.\n",
    "\n",
    "반지름 1 인 원이 들어갈 수 있는 사각형 면적은 4 이므로 위에서 구한 비율 * 4 를 하면 되고 대략 3.14 가 나온다."
   ]
  },
  {
   "cell_type": "code",
   "execution_count": 43,
   "metadata": {},
   "outputs": [
    {
     "name": "stdout",
     "output_type": "stream",
     "text": [
      "3.1492\n"
     ]
    }
   ],
   "source": [
    "import random\n",
    "\n",
    "def random_pair():\n",
    "    x = random.uniform(-1,1)\n",
    "    y = random.uniform(-1,1)\n",
    "    return (x, y)\n",
    "\n",
    "inside = 0\n",
    "outside = 0\n",
    "\n",
    "for i in range(10000):\n",
    "    x , y = random_pair()\n",
    "    if x * x + y * y <= 1:\n",
    "        inside += 1\n",
    "    else:\n",
    "        outside += 1\n",
    "\n",
    "inside_area = inside / (inside + outside) * 4\n",
    "print(inside_area)"
   ]
  },
  {
   "cell_type": "markdown",
   "metadata": {},
   "source": [
    "\n",
    "# 예제 2 : 원주율 ($\\pi$) 값 추정\n",
    "\n",
    "(몬테카를로 방법) \n",
    "\n",
    "넓이가 1인 정사각형을 생각하자. 정사각형의 한 꼭지점을 중심으로 반지름이 1인 사분원을 정사각형 안에 그린다. 그러면 사분원이 차지하는 넓이는 π/4가 될 것이다. 이제, 0 <= x <= 1인 x를 임의로 가져오고, 독립적으로 0 <= y <= 1인 y를 임의로 가져온 후, $x^2 + y^2 <= 1$일 확률은 사분원이 차지하는 넓이와 같은 값인 π/4가 된다."
   ]
  },
  {
   "cell_type": "code",
   "execution_count": 49,
   "metadata": {},
   "outputs": [
    {
     "name": "stdout",
     "output_type": "stream",
     "text": [
      "3.1524\n"
     ]
    }
   ],
   "source": [
    "inside = 0\n",
    "outside = 0\n",
    "\n",
    "for i in range(10000):\n",
    "    x , y = random_pair()\n",
    "    if x * x + y * y <= 1:\n",
    "        inside += 1\n",
    "    else:\n",
    "        outside += 1\n",
    "\n",
    "pi = inside / (inside + outside) * 4\n",
    "\n",
    "print(pi)"
   ]
  },
  {
   "cell_type": "markdown",
   "metadata": {},
   "source": [
    "## 예제 3: 랜덤 워크 (Random Walk) simulation\n",
    "\n",
    "격자형의 블록으로 이루어진 도로를 random 한 방향으로 걸을 경우 평균적인 도착점이 출발점으로부터 4 블록 이하일 가장 긴 걸음 수는 몇 걸음인가 ? \n",
    "\n",
    "* 평균적인 도착점이 4 블록 이하이므로 n 걸음 후 도착점이 출발점으로부터 4 블록 이하인 확률이 50% 이상인 걸음 수 중 가장 큰 걸을 수를 구하면 된다. 한 걸음에 한 블록을 움직이고 움직이는 방향은 random 하다. 위치는 x, y 좌표로 표시한다."
   ]
  },
  {
   "cell_type": "code",
   "execution_count": 101,
   "metadata": {},
   "outputs": [
    {
     "name": "stdout",
     "output_type": "stream",
     "text": [
      "Number of walks = 1, probability within 4 blocks = 100.00%\n",
      "Number of walks = 2, probability within 4 blocks = 100.00%\n",
      "Number of walks = 3, probability within 4 blocks = 100.00%\n",
      "Number of walks = 4, probability within 4 blocks = 100.00%\n",
      "Number of walks = 5, probability within 4 blocks = 87.72%\n",
      "Number of walks = 6, probability within 4 blocks = 93.96%\n",
      "Number of walks = 7, probability within 4 blocks = 76.04%\n",
      "Number of walks = 8, probability within 4 blocks = 86.11%\n",
      "Number of walks = 9, probability within 4 blocks = 67.79%\n",
      "Number of walks = 10, probability within 4 blocks = 79.66%\n",
      "Number of walks = 11, probability within 4 blocks = 60.71%\n",
      "Number of walks = 12, probability within 4 blocks = 72.54%\n",
      "Number of walks = 13, probability within 4 blocks = 54.43%\n",
      "Number of walks = 14, probability within 4 blocks = 66.57%\n",
      "Number of walks = 15, probability within 4 blocks = 49.35%\n",
      "Number of walks = 16, probability within 4 blocks = 62.07%\n",
      "Number of walks = 17, probability within 4 blocks = 44.71%\n",
      "Number of walks = 18, probability within 4 blocks = 58.35%\n",
      "Number of walks = 19, probability within 4 blocks = 40.43%\n",
      "Number of walks = 20, probability within 4 blocks = 53.94%\n",
      "Number of walks = 21, probability within 4 blocks = 37.95%\n",
      "Number of walks = 22, probability within 4 blocks = 50.52%\n",
      "Number of walks = 23, probability within 4 blocks = 35.04%\n",
      "Number of walks = 24, probability within 4 blocks = 49.07%\n",
      "Number of walks = 25, probability within 4 blocks = 33.13%\n",
      "Number of walks = 26, probability within 4 blocks = 46.07%\n",
      "Number of walks = 27, probability within 4 blocks = 31.04%\n",
      "Number of walks = 28, probability within 4 blocks = 43.16%\n",
      "Number of walks = 29, probability within 4 blocks = 29.75%\n",
      "Number of walks = 30, probability within 4 blocks = 41.19%\n",
      "도착점이 출발점으로부터 평균적으로 4 블록 이내일 걸음 수 중 가장 높은 걸음 수는 22\n"
     ]
    }
   ],
   "source": [
    "import random\n",
    "\n",
    "def random_location(n):\n",
    "    # return x, y coordination after n block random walk\n",
    "    x, y = 0, 0\n",
    "    for _ in range(n):\n",
    "        (dx, dy) = random.choice([(1,0), (-1,0), (0, 1), (0, -1)])\n",
    "        x += dx\n",
    "        y += dy\n",
    "    return x, y\n",
    "\n",
    "number_of_trials = 10000\n",
    "\n",
    "number_of_walks = 30\n",
    "longest = 0\n",
    "\n",
    "for walk in range(1, number_of_walks + 1):\n",
    "\n",
    "    within_4block = 0\n",
    "\n",
    "    for i in range(number_of_trials):\n",
    "        x, y = random_location(walk)\n",
    "        if abs(x) + abs(y) <= 4:\n",
    "            within_4block += 1\n",
    "\n",
    "    probability = within_4block / number_of_trials\n",
    "    \n",
    "    if probability >= 0.5:  \n",
    "        if longest < walk:\n",
    "            longest = walk\n",
    "    \n",
    "    print('Number of walks = {0}, probability within 4 blocks = {1:.2f}%'.format(walk,\\\n",
    "                                                                probability * 100))\n",
    "\n",
    "print('도착점이 출발점으로부터 평균적으로 4 블록 이내일 걸음 수 중 가장 높은 걸음 수는 {}'.format(longest))"
   ]
  },
  {
   "cell_type": "code",
   "execution_count": null,
   "metadata": {
    "collapsed": true
   },
   "outputs": [],
   "source": []
  },
  {
   "cell_type": "code",
   "execution_count": null,
   "metadata": {
    "collapsed": true
   },
   "outputs": [],
   "source": []
  }
 ],
 "metadata": {
  "kernelspec": {
   "display_name": "Python 3",
   "language": "python",
   "name": "python3"
  },
  "language_info": {
   "codemirror_mode": {
    "name": "ipython",
    "version": 3
   },
   "file_extension": ".py",
   "mimetype": "text/x-python",
   "name": "python",
   "nbconvert_exporter": "python",
   "pygments_lexer": "ipython3",
   "version": "3.6.3"
  }
 },
 "nbformat": 4,
 "nbformat_minor": 2
}
