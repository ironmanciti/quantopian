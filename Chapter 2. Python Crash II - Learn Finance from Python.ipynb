{
 "cells": [
  {
   "cell_type": "markdown",
   "metadata": {},
   "source": [
    "# Chpater 3. Learn Python from Finance\n",
    "\n",
    "---\n",
    "오늘 은행에 100 만원을 예금하였다. 은행의 예금 금리가 연이율 1.5% 라면 3 년 뒤 총예금은 얼마가 될까 ?"
   ]
  },
  {
   "cell_type": "code",
   "execution_count": 10,
   "metadata": {},
   "outputs": [
    {
     "name": "stdout",
     "output_type": "stream",
     "text": [
      "1,004,506.75\n"
     ]
    }
   ],
   "source": [
    "pv = 1000000\n",
    "r = 0.0015\n",
    "print(\"{0:,.2f}\".format(pv * (1 + r) ** 3))"
   ]
  },
  {
   "cell_type": "code",
   "execution_count": null,
   "metadata": {},
   "outputs": [],
   "source": []
  }
 ],
 "metadata": {
  "kernelspec": {
   "display_name": "Python 3",
   "language": "python",
   "name": "python3"
  },
  "language_info": {
   "codemirror_mode": {
    "name": "ipython",
    "version": 3
   },
   "file_extension": ".py",
   "mimetype": "text/x-python",
   "name": "python",
   "nbconvert_exporter": "python",
   "pygments_lexer": "ipython3",
   "version": "3.5.5"
  }
 },
 "nbformat": 4,
 "nbformat_minor": 2
}
